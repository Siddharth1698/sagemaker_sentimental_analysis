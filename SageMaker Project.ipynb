{
 "cells": [
  {
   "cell_type": "markdown",
   "metadata": {},
   "source": [
    "# Creating a Sentiment Analysis Web App\n",
    "## Using PyTorch and SageMaker\n",
    "\n",
    "_Deep Learning Nanodegree Program | Deployment_\n",
    "\n",
    "---\n",
    "\n",
    "Now that we have a basic understanding of how SageMaker works we will try to use it to construct a complete project from end to end. Our goal will be to have a simple web page which a user can use to enter a movie review. The web page will then send the review off to our deployed model which will predict the sentiment of the entered review.\n",
    "\n",
    "## Instructions\n",
    "\n",
    "Some template code has already been provided for you, and you will need to implement additional functionality to successfully complete this notebook. You will not need to modify the included code beyond what is requested. Sections that begin with '**TODO**' in the header indicate that you need to complete or implement some portion within them. Instructions will be provided for each section and the specifics of the implementation are marked in the code block with a `# TODO: ...` comment. Please be sure to read the instructions carefully!\n",
    "\n",
    "In addition to implementing code, there will be questions for you to answer which relate to the task and your implementation. Each section where you will answer a question is preceded by a '**Question:**' header. Carefully read each question and provide your answer below the '**Answer:**' header by editing the Markdown cell.\n",
    "\n",
    "> **Note**: Code and Markdown cells can be executed using the **Shift+Enter** keyboard shortcut. In addition, a cell can be edited by typically clicking it (double-click for Markdown cells) or by pressing **Enter** while it is highlighted.\n",
    "\n",
    "## General Outline\n",
    "\n",
    "Recall the general outline for SageMaker projects using a notebook instance.\n",
    "\n",
    "1. Download or otherwise retrieve the data.\n",
    "2. Process / Prepare the data.\n",
    "3. Upload the processed data to S3.\n",
    "4. Train a chosen model.\n",
    "5. Test the trained model (typically using a batch transform job).\n",
    "6. Deploy the trained model.\n",
    "7. Use the deployed model.\n",
    "\n",
    "For this project, you will be following the steps in the general outline with some modifications. \n",
    "\n",
    "First, you will not be testing the model in its own step. You will still be testing the model, however, you will do it by deploying your model and then using the deployed model by sending the test data to it. One of the reasons for doing this is so that you can make sure that your deployed model is working correctly before moving forward.\n",
    "\n",
    "In addition, you will deploy and use your trained model a second time. In the second iteration you will customize the way that your trained model is deployed by including some of your own code. In addition, your newly deployed model will be used in the sentiment analysis web app."
   ]
  },
  {
   "cell_type": "code",
   "execution_count": 1,
   "metadata": {},
   "outputs": [
    {
     "name": "stdout",
     "output_type": "stream",
     "text": [
      "Requirement already satisfied: sagemaker==1.72.0 in /home/ec2-user/anaconda3/envs/pytorch_p36/lib/python3.6/site-packages (1.72.0)\n",
      "Requirement already satisfied: scipy>=0.19.0 in /home/ec2-user/anaconda3/envs/pytorch_p36/lib/python3.6/site-packages (from sagemaker==1.72.0) (1.5.3)\n",
      "Requirement already satisfied: protobuf>=3.1 in /home/ec2-user/anaconda3/envs/pytorch_p36/lib/python3.6/site-packages (from sagemaker==1.72.0) (3.15.2)\n",
      "Requirement already satisfied: boto3>=1.14.12 in /home/ec2-user/anaconda3/envs/pytorch_p36/lib/python3.6/site-packages (from sagemaker==1.72.0) (1.17.99)\n",
      "Requirement already satisfied: importlib-metadata>=1.4.0 in /home/ec2-user/anaconda3/envs/pytorch_p36/lib/python3.6/site-packages (from sagemaker==1.72.0) (3.7.0)\n",
      "Requirement already satisfied: numpy>=1.9.0 in /home/ec2-user/anaconda3/envs/pytorch_p36/lib/python3.6/site-packages (from sagemaker==1.72.0) (1.19.5)\n",
      "Requirement already satisfied: protobuf3-to-dict>=0.1.5 in /home/ec2-user/anaconda3/envs/pytorch_p36/lib/python3.6/site-packages (from sagemaker==1.72.0) (0.1.5)\n",
      "Requirement already satisfied: smdebug-rulesconfig==0.1.4 in /home/ec2-user/anaconda3/envs/pytorch_p36/lib/python3.6/site-packages (from sagemaker==1.72.0) (0.1.4)\n",
      "Requirement already satisfied: packaging>=20.0 in /home/ec2-user/anaconda3/envs/pytorch_p36/lib/python3.6/site-packages (from sagemaker==1.72.0) (20.9)\n",
      "Requirement already satisfied: s3transfer<0.5.0,>=0.4.0 in /home/ec2-user/anaconda3/envs/pytorch_p36/lib/python3.6/site-packages (from boto3>=1.14.12->sagemaker==1.72.0) (0.4.2)\n",
      "Requirement already satisfied: botocore<1.21.0,>=1.20.99 in /home/ec2-user/anaconda3/envs/pytorch_p36/lib/python3.6/site-packages (from boto3>=1.14.12->sagemaker==1.72.0) (1.20.99)\n",
      "Requirement already satisfied: jmespath<1.0.0,>=0.7.1 in /home/ec2-user/anaconda3/envs/pytorch_p36/lib/python3.6/site-packages (from boto3>=1.14.12->sagemaker==1.72.0) (0.10.0)\n",
      "Requirement already satisfied: urllib3<1.27,>=1.25.4 in /home/ec2-user/anaconda3/envs/pytorch_p36/lib/python3.6/site-packages (from botocore<1.21.0,>=1.20.99->boto3>=1.14.12->sagemaker==1.72.0) (1.26.5)\n",
      "Requirement already satisfied: python-dateutil<3.0.0,>=2.1 in /home/ec2-user/anaconda3/envs/pytorch_p36/lib/python3.6/site-packages (from botocore<1.21.0,>=1.20.99->boto3>=1.14.12->sagemaker==1.72.0) (2.8.1)\n",
      "Requirement already satisfied: zipp>=0.5 in /home/ec2-user/anaconda3/envs/pytorch_p36/lib/python3.6/site-packages (from importlib-metadata>=1.4.0->sagemaker==1.72.0) (3.4.0)\n",
      "Requirement already satisfied: typing-extensions>=3.6.4 in /home/ec2-user/anaconda3/envs/pytorch_p36/lib/python3.6/site-packages (from importlib-metadata>=1.4.0->sagemaker==1.72.0) (3.7.4.3)\n",
      "Requirement already satisfied: pyparsing>=2.0.2 in /home/ec2-user/anaconda3/envs/pytorch_p36/lib/python3.6/site-packages (from packaging>=20.0->sagemaker==1.72.0) (2.4.7)\n",
      "Requirement already satisfied: six>=1.9 in /home/ec2-user/anaconda3/envs/pytorch_p36/lib/python3.6/site-packages (from protobuf>=3.1->sagemaker==1.72.0) (1.15.0)\n",
      "\u001b[33mWARNING: You are using pip version 21.1.2; however, version 21.2.1 is available.\n",
      "You should consider upgrading via the '/home/ec2-user/anaconda3/envs/pytorch_p36/bin/python -m pip install --upgrade pip' command.\u001b[0m\n"
     ]
    }
   ],
   "source": [
    "# Make sure that we use SageMaker 1.x\n",
    "!pip install sagemaker==1.72.0"
   ]
  },
  {
   "cell_type": "markdown",
   "metadata": {},
   "source": [
    "## Step 1: Downloading the data\n",
    "\n",
    "As in the XGBoost in SageMaker notebook, we will be using the [IMDb dataset](http://ai.stanford.edu/~amaas/data/sentiment/)\n",
    "\n",
    "> Maas, Andrew L., et al. [Learning Word Vectors for Sentiment Analysis](http://ai.stanford.edu/~amaas/data/sentiment/). In _Proceedings of the 49th Annual Meeting of the Association for Computational Linguistics: Human Language Technologies_. Association for Computational Linguistics, 2011."
   ]
  },
  {
   "cell_type": "code",
   "execution_count": 2,
   "metadata": {},
   "outputs": [
    {
     "name": "stdout",
     "output_type": "stream",
     "text": [
      "mkdir: cannot create directory ‘../data’: File exists\n",
      "--2021-07-28 05:41:56--  http://ai.stanford.edu/~amaas/data/sentiment/aclImdb_v1.tar.gz\n",
      "Resolving ai.stanford.edu (ai.stanford.edu)... 171.64.68.10\n",
      "Connecting to ai.stanford.edu (ai.stanford.edu)|171.64.68.10|:80... connected.\n",
      "HTTP request sent, awaiting response... 200 OK\n",
      "Length: 84125825 (80M) [application/x-gzip]\n",
      "Saving to: ‘../data/aclImdb_v1.tar.gz’\n",
      "\n",
      "../data/aclImdb_v1. 100%[===================>]  80.23M  23.3MB/s    in 4.1s    \n",
      "\n",
      "2021-07-28 05:42:00 (19.6 MB/s) - ‘../data/aclImdb_v1.tar.gz’ saved [84125825/84125825]\n",
      "\n"
     ]
    }
   ],
   "source": [
    "%mkdir ../data\n",
    "!wget -O ../data/aclImdb_v1.tar.gz http://ai.stanford.edu/~amaas/data/sentiment/aclImdb_v1.tar.gz\n",
    "!tar -zxf ../data/aclImdb_v1.tar.gz -C ../data"
   ]
  },
  {
   "cell_type": "markdown",
   "metadata": {},
   "source": [
    "## Step 2: Preparing and Processing the data\n",
    "\n",
    "Also, as in the XGBoost notebook, we will be doing some initial data processing. The first few steps are the same as in the XGBoost example. To begin with, we will read in each of the reviews and combine them into a single input structure. Then, we will split the dataset into a training set and a testing set."
   ]
  },
  {
   "cell_type": "code",
   "execution_count": 3,
   "metadata": {},
   "outputs": [],
   "source": [
    "import os\n",
    "import glob\n",
    "\n",
    "def read_imdb_data(data_dir='../data/aclImdb'):\n",
    "    data = {}\n",
    "    labels = {}\n",
    "    \n",
    "    for data_type in ['train', 'test']:\n",
    "        data[data_type] = {}\n",
    "        labels[data_type] = {}\n",
    "        \n",
    "        for sentiment in ['pos', 'neg']:\n",
    "            data[data_type][sentiment] = []\n",
    "            labels[data_type][sentiment] = []\n",
    "            \n",
    "            path = os.path.join(data_dir, data_type, sentiment, '*.txt')\n",
    "            files = glob.glob(path)\n",
    "            \n",
    "            for f in files:\n",
    "                with open(f) as review:\n",
    "                    data[data_type][sentiment].append(review.read())\n",
    "                    # Here we represent a positive review by '1' and a negative review by '0'\n",
    "                    labels[data_type][sentiment].append(1 if sentiment == 'pos' else 0)\n",
    "                    \n",
    "            assert len(data[data_type][sentiment]) == len(labels[data_type][sentiment]), \\\n",
    "                    \"{}/{} data size does not match labels size\".format(data_type, sentiment)\n",
    "                \n",
    "    return data, labels"
   ]
  },
  {
   "cell_type": "code",
   "execution_count": 4,
   "metadata": {},
   "outputs": [
    {
     "name": "stdout",
     "output_type": "stream",
     "text": [
      "IMDB reviews: train = 12500 pos / 12500 neg, test = 12500 pos / 12500 neg\n"
     ]
    }
   ],
   "source": [
    "data, labels = read_imdb_data()\n",
    "print(\"IMDB reviews: train = {} pos / {} neg, test = {} pos / {} neg\".format(\n",
    "            len(data['train']['pos']), len(data['train']['neg']),\n",
    "            len(data['test']['pos']), len(data['test']['neg'])))"
   ]
  },
  {
   "cell_type": "markdown",
   "metadata": {},
   "source": [
    "Now that we've read the raw training and testing data from the downloaded dataset, we will combine the positive and negative reviews and shuffle the resulting records."
   ]
  },
  {
   "cell_type": "code",
   "execution_count": 5,
   "metadata": {},
   "outputs": [],
   "source": [
    "from sklearn.utils import shuffle\n",
    "\n",
    "def prepare_imdb_data(data, labels):\n",
    "    \"\"\"Prepare training and test sets from IMDb movie reviews.\"\"\"\n",
    "    \n",
    "    #Combine positive and negative reviews and labels\n",
    "    data_train = data['train']['pos'] + data['train']['neg']\n",
    "    data_test = data['test']['pos'] + data['test']['neg']\n",
    "    labels_train = labels['train']['pos'] + labels['train']['neg']\n",
    "    labels_test = labels['test']['pos'] + labels['test']['neg']\n",
    "    \n",
    "    #Shuffle reviews and corresponding labels within training and test sets\n",
    "    data_train, labels_train = shuffle(data_train, labels_train)\n",
    "    data_test, labels_test = shuffle(data_test, labels_test)\n",
    "    \n",
    "    # Return a unified training data, test data, training labels, test labets\n",
    "    return data_train, data_test, labels_train, labels_test"
   ]
  },
  {
   "cell_type": "code",
   "execution_count": 6,
   "metadata": {},
   "outputs": [
    {
     "name": "stdout",
     "output_type": "stream",
     "text": [
      "IMDb reviews (combined): train = 25000, test = 25000\n"
     ]
    }
   ],
   "source": [
    "train_X, test_X, train_y, test_y = prepare_imdb_data(data, labels)\n",
    "print(\"IMDb reviews (combined): train = {}, test = {}\".format(len(train_X), len(test_X)))"
   ]
  },
  {
   "cell_type": "markdown",
   "metadata": {},
   "source": [
    "Now that we have our training and testing sets unified and prepared, we should do a quick check and see an example of the data our model will be trained on. This is generally a good idea as it allows you to see how each of the further processing steps affects the reviews and it also ensures that the data has been loaded correctly."
   ]
  },
  {
   "cell_type": "code",
   "execution_count": 7,
   "metadata": {},
   "outputs": [
    {
     "name": "stdout",
     "output_type": "stream",
     "text": [
      "This is simply put, the worst movie I have ever seen. It ranges from like 2+ hours, and the box art was totally misleading. My friends and I rented it because, we thought it would be a poor man's 300. You know, to laugh at and make fun of. No. There is nothing funny about this movie, only pain. Then, the movie starts up, and they are speaking some sort of different language. We think, 'Oh its just the beginning.' But no, from there the movie plummets and becomes more of like a super boring book you had to read in grade school, where nothing literally happens for hours, and the battle scenes rival those of 2 kids fighting on a playground. Omit Cinematography, and this movie belongs in trash compactor. Movies like this will lead to the world we see in Wall-E, which by the way was a good movie.\n",
      "0\n"
     ]
    }
   ],
   "source": [
    "print(train_X[100])\n",
    "print(train_y[100])"
   ]
  },
  {
   "cell_type": "markdown",
   "metadata": {},
   "source": [
    "The first step in processing the reviews is to make sure that any html tags that appear should be removed. In addition we wish to tokenize our input, that way words such as *entertained* and *entertaining* are considered the same with regard to sentiment analysis."
   ]
  },
  {
   "cell_type": "code",
   "execution_count": 8,
   "metadata": {},
   "outputs": [],
   "source": [
    "import nltk\n",
    "from nltk.corpus import stopwords\n",
    "from nltk.stem.porter import *\n",
    "\n",
    "import re\n",
    "from bs4 import BeautifulSoup\n",
    "\n",
    "def review_to_words(review):\n",
    "    nltk.download(\"stopwords\", quiet=True)\n",
    "    stemmer = PorterStemmer()\n",
    "    \n",
    "    text = BeautifulSoup(review, \"html.parser\").get_text() # Remove HTML tags\n",
    "    text = re.sub(r\"[^a-zA-Z0-9]\", \" \", text.lower()) # Convert to lower case\n",
    "    words = text.split() # Split string into words\n",
    "    words = [w for w in words if w not in stopwords.words(\"english\")] # Remove stopwords\n",
    "    words = [PorterStemmer().stem(w) for w in words] # stem\n",
    "    \n",
    "    return words"
   ]
  },
  {
   "cell_type": "markdown",
   "metadata": {},
   "source": [
    "The `review_to_words` method defined above uses `BeautifulSoup` to remove any html tags that appear and uses the `nltk` package to tokenize the reviews. As a check to ensure we know how everything is working, try applying `review_to_words` to one of the reviews in the training set."
   ]
  },
  {
   "cell_type": "code",
   "execution_count": 9,
   "metadata": {},
   "outputs": [
    {
     "data": {
      "text/plain": [
       "['simpli',\n",
       " 'put',\n",
       " 'worst',\n",
       " 'movi',\n",
       " 'ever',\n",
       " 'seen',\n",
       " 'rang',\n",
       " 'like',\n",
       " '2',\n",
       " 'hour',\n",
       " 'box',\n",
       " 'art',\n",
       " 'total',\n",
       " 'mislead',\n",
       " 'friend',\n",
       " 'rent',\n",
       " 'thought',\n",
       " 'would',\n",
       " 'poor',\n",
       " 'man',\n",
       " '300',\n",
       " 'know',\n",
       " 'laugh',\n",
       " 'make',\n",
       " 'fun',\n",
       " 'noth',\n",
       " 'funni',\n",
       " 'movi',\n",
       " 'pain',\n",
       " 'movi',\n",
       " 'start',\n",
       " 'speak',\n",
       " 'sort',\n",
       " 'differ',\n",
       " 'languag',\n",
       " 'think',\n",
       " 'oh',\n",
       " 'begin',\n",
       " 'movi',\n",
       " 'plummet',\n",
       " 'becom',\n",
       " 'like',\n",
       " 'super',\n",
       " 'bore',\n",
       " 'book',\n",
       " 'read',\n",
       " 'grade',\n",
       " 'school',\n",
       " 'noth',\n",
       " 'liter',\n",
       " 'happen',\n",
       " 'hour',\n",
       " 'battl',\n",
       " 'scene',\n",
       " 'rival',\n",
       " '2',\n",
       " 'kid',\n",
       " 'fight',\n",
       " 'playground',\n",
       " 'omit',\n",
       " 'cinematographi',\n",
       " 'movi',\n",
       " 'belong',\n",
       " 'trash',\n",
       " 'compactor',\n",
       " 'movi',\n",
       " 'like',\n",
       " 'lead',\n",
       " 'world',\n",
       " 'see',\n",
       " 'wall',\n",
       " 'e',\n",
       " 'way',\n",
       " 'good',\n",
       " 'movi']"
      ]
     },
     "execution_count": 9,
     "metadata": {},
     "output_type": "execute_result"
    }
   ],
   "source": [
    "# TODO: Apply review_to_words to a review (train_X[100] or any other review)\n",
    "review =train_X[100]\n",
    "review_to_words(review)"
   ]
  },
  {
   "cell_type": "markdown",
   "metadata": {},
   "source": [
    "**Question:** Above we mentioned that `review_to_words` method removes html formatting and allows us to tokenize the words found in a review, for example, converting *entertained* and *entertaining* into *entertain* so that they are treated as though they are the same word. What else, if anything, does this method do to the input?"
   ]
  },
  {
   "cell_type": "markdown",
   "metadata": {},
   "source": [
    "**Answer:**\n",
    "The review_to_words method also converts input into a lower case. With the same word writen with the same capital letter or capitalization is compared to the same word. Eg. \"Boom\" and \"BOOM\" will be \"boom\". Method removes stops words. "
   ]
  },
  {
   "cell_type": "markdown",
   "metadata": {},
   "source": [
    "The method below applies the `review_to_words` method to each of the reviews in the training and testing datasets. In addition it caches the results. This is because performing this processing step can take a long time. This way if you are unable to complete the notebook in the current session, you can come back without needing to process the data a second time."
   ]
  },
  {
   "cell_type": "code",
   "execution_count": 10,
   "metadata": {},
   "outputs": [],
   "source": [
    "import pickle\n",
    "\n",
    "cache_dir = os.path.join(\"../cache\", \"sentiment_analysis\")  # where to store cache files\n",
    "os.makedirs(cache_dir, exist_ok=True)  # ensure cache directory exists\n",
    "\n",
    "def preprocess_data(data_train, data_test, labels_train, labels_test,\n",
    "                    cache_dir=cache_dir, cache_file=\"preprocessed_data.pkl\"):\n",
    "    \"\"\"Convert each review to words; read from cache if available.\"\"\"\n",
    "\n",
    "    # If cache_file is not None, try to read from it first\n",
    "    cache_data = None\n",
    "    if cache_file is not None:\n",
    "        try:\n",
    "            with open(os.path.join(cache_dir, cache_file), \"rb\") as f:\n",
    "                cache_data = pickle.load(f)\n",
    "            print(\"Read preprocessed data from cache file:\", cache_file)\n",
    "        except:\n",
    "            pass  # unable to read from cache, but that's okay\n",
    "    \n",
    "    # If cache is missing, then do the heavy lifting\n",
    "    if cache_data is None:\n",
    "        # Preprocess training and test data to obtain words for each review\n",
    "        #words_train = list(map(review_to_words, data_train))\n",
    "        #words_test = list(map(review_to_words, data_test))\n",
    "        words_train = [review_to_words(review) for review in data_train]\n",
    "        words_test = [review_to_words(review) for review in data_test]\n",
    "        \n",
    "        # Write to cache file for future runs\n",
    "        if cache_file is not None:\n",
    "            cache_data = dict(words_train=words_train, words_test=words_test,\n",
    "                              labels_train=labels_train, labels_test=labels_test)\n",
    "            with open(os.path.join(cache_dir, cache_file), \"wb\") as f:\n",
    "                pickle.dump(cache_data, f)\n",
    "            print(\"Wrote preprocessed data to cache file:\", cache_file)\n",
    "    else:\n",
    "        # Unpack data loaded from cache file\n",
    "        words_train, words_test, labels_train, labels_test = (cache_data['words_train'],\n",
    "                cache_data['words_test'], cache_data['labels_train'], cache_data['labels_test'])\n",
    "    \n",
    "    return words_train, words_test, labels_train, labels_test"
   ]
  },
  {
   "cell_type": "code",
   "execution_count": 11,
   "metadata": {},
   "outputs": [
    {
     "name": "stdout",
     "output_type": "stream",
     "text": [
      "Wrote preprocessed data to cache file: preprocessed_data.pkl\n"
     ]
    }
   ],
   "source": [
    "# Preprocess data\n",
    "train_X, test_X, train_y, test_y = preprocess_data(train_X, test_X, train_y, test_y)"
   ]
  },
  {
   "cell_type": "markdown",
   "metadata": {},
   "source": [
    "## Transform the data\n",
    "\n",
    "In the XGBoost notebook we transformed the data from its word representation to a bag-of-words feature representation. For the model we are going to construct in this notebook we will construct a feature representation which is very similar. To start, we will represent each word as an integer. Of course, some of the words that appear in the reviews occur very infrequently and so likely don't contain much information for the purposes of sentiment analysis. The way we will deal with this problem is that we will fix the size of our working vocabulary and we will only include the words that appear most frequently. We will then combine all of the infrequent words into a single category and, in our case, we will label it as `1`.\n",
    "\n",
    "Since we will be using a recurrent neural network, it will be convenient if the length of each review is the same. To do this, we will fix a size for our reviews and then pad short reviews with the category 'no word' (which we will label `0`) and truncate long reviews."
   ]
  },
  {
   "cell_type": "markdown",
   "metadata": {},
   "source": [
    "### (TODO) Create a word dictionary\n",
    "\n",
    "To begin with, we need to construct a way to map words that appear in the reviews to integers. Here we fix the size of our vocabulary (including the 'no word' and 'infrequent' categories) to be `5000` but you may wish to change this to see how it affects the model.\n",
    "\n",
    "> **TODO:** Complete the implementation for the `build_dict()` method below. Note that even though the vocab_size is set to `5000`, we only want to construct a mapping for the most frequently appearing `4998` words. This is because we want to reserve the special labels `0` for 'no word' and `1` for 'infrequent word'."
   ]
  },
  {
   "cell_type": "code",
   "execution_count": 12,
   "metadata": {},
   "outputs": [],
   "source": [
    "#train_X[:1]\n",
    "def word_counter(data):\n",
    "    #flattern all words in single list\n",
    "    flat = [words for reviews in data for words in reviews]\n",
    "    # A dict storing the words that appear in the reviews along with how often they occur\n",
    "    word_count = Counter(flat)\n",
    "    return word_count"
   ]
  },
  {
   "cell_type": "code",
   "execution_count": 13,
   "metadata": {},
   "outputs": [],
   "source": [
    "import numpy as np\n",
    "\n",
    "from collections import Counter\n",
    "def build_dict(data, vocab_size = 5000):\n",
    "    \"\"\"Construct and return a dictionary mapping each of the most frequently appearing words to a unique integer.\"\"\"\n",
    "    \n",
    "    # TODO: Determine how often each word appears in `data`. Note that `data` is a list of sentences and that a\n",
    "    #       sentence is a list of words.\n",
    "    \n",
    "    word_count =  word_counter(data)\n",
    "    \n",
    "    #Sort the words found in `data` so that sorted_words[0] is the most frequently appearing word and\n",
    "    #sorted_words[-1] is the least frequently appearing word.\n",
    "\n",
    "    #sort the counter and convert to dict\n",
    "    sorted_words = dict(word_count.most_common())\n",
    "    sorted_words = list(sorted_words.keys())\n",
    "    \n",
    "    word_dict = {} # This is what we are building, a dictionary that translates words into integers\n",
    "    for idx, word in enumerate(sorted_words[:vocab_size - 2]): # The -2 is so that we save room for the 'no word'\n",
    "        word_dict[word] = idx + 2                              # 'infrequent' labels\n",
    "        \n",
    "    return word_dict"
   ]
  },
  {
   "cell_type": "code",
   "execution_count": 14,
   "metadata": {},
   "outputs": [
    {
     "name": "stdout",
     "output_type": "stream",
     "text": [
      "{'movi': 2, 'film': 3, 'one': 4, 'like': 5, 'time': 6, 'good': 7, 'make': 8, 'charact': 9, 'get': 10, 'see': 11, 'watch': 12, 'stori': 13, 'even': 14, 'would': 15, 'realli': 16, 'well': 17, 'scene': 18, 'look': 19, 'show': 20, 'much': 21, 'end': 22, 'peopl': 23, 'bad': 24, 'go': 25, 'great': 26, 'also': 27, 'first': 28, 'love': 29, 'think': 30, 'way': 31, 'act': 32, 'play': 33, 'made': 34, 'thing': 35, 'could': 36, 'know': 37, 'say': 38, 'seem': 39, 'work': 40, 'plot': 41, 'two': 42, 'actor': 43, 'year': 44, 'come': 45, 'mani': 46, 'seen': 47, 'take': 48, 'want': 49, 'life': 50, 'never': 51, 'littl': 52, 'best': 53, 'tri': 54, 'man': 55, 'ever': 56, 'give': 57, 'better': 58, 'still': 59, 'perform': 60, 'find': 61, 'feel': 62, 'part': 63, 'back': 64, 'use': 65, 'someth': 66, 'director': 67, 'actual': 68, 'interest': 69, 'lot': 70, 'real': 71, 'old': 72, 'cast': 73, 'though': 74, 'live': 75, 'star': 76, 'enjoy': 77, 'guy': 78, 'anoth': 79, 'new': 80, 'role': 81, 'noth': 82, '10': 83, 'funni': 84, 'music': 85, 'point': 86, 'start': 87, 'set': 88, 'girl': 89, 'origin': 90, 'day': 91, 'world': 92, 'everi': 93, 'believ': 94, 'turn': 95, 'quit': 96, 'us': 97, 'direct': 98, 'thought': 99, 'fact': 100, 'minut': 101, 'horror': 102, 'kill': 103, 'action': 104, 'comedi': 105, 'pretti': 106, 'young': 107, 'wonder': 108, 'happen': 109, 'around': 110, 'got': 111, 'effect': 112, 'right': 113, 'long': 114, 'howev': 115, 'big': 116, 'line': 117, 'famili': 118, 'enough': 119, 'seri': 120, 'may': 121, 'need': 122, 'fan': 123, 'bit': 124, 'script': 125, 'beauti': 126, 'person': 127, 'becom': 128, 'without': 129, 'must': 130, 'alway': 131, 'friend': 132, 'tell': 133, 'reason': 134, 'saw': 135, 'last': 136, 'final': 137, 'kid': 138, 'almost': 139, 'put': 140, 'least': 141, 'sure': 142, 'done': 143, 'whole': 144, 'place': 145, 'complet': 146, 'kind': 147, 'differ': 148, 'expect': 149, 'shot': 150, 'far': 151, 'mean': 152, 'anyth': 153, 'book': 154, 'laugh': 155, 'might': 156, 'name': 157, 'sinc': 158, 'begin': 159, '2': 160, 'probabl': 161, 'woman': 162, 'help': 163, 'entertain': 164, 'let': 165, 'screen': 166, 'call': 167, 'tv': 168, 'moment': 169, 'away': 170, 'read': 171, 'yet': 172, 'rather': 173, 'worst': 174, 'run': 175, 'fun': 176, 'lead': 177, 'hard': 178, 'audienc': 179, 'idea': 180, 'anyon': 181, 'episod': 182, 'american': 183, 'found': 184, 'appear': 185, 'bore': 186, 'especi': 187, 'although': 188, 'hope': 189, 'cours': 190, 'keep': 191, 'anim': 192, 'job': 193, 'goe': 194, 'move': 195, 'sens': 196, 'dvd': 197, 'version': 198, 'war': 199, 'money': 200, 'someon': 201, 'mind': 202, 'mayb': 203, 'problem': 204, 'true': 205, 'hous': 206, 'everyth': 207, 'nice': 208, 'second': 209, 'rate': 210, 'three': 211, 'night': 212, 'face': 213, 'follow': 214, 'recommend': 215, 'main': 216, 'product': 217, 'worth': 218, 'leav': 219, 'human': 220, 'special': 221, 'excel': 222, 'togeth': 223, 'wast': 224, 'sound': 225, 'everyon': 226, 'john': 227, 'hand': 228, '1': 229, 'father': 230, 'later': 231, 'eye': 232, 'said': 233, 'view': 234, 'instead': 235, 'review': 236, 'boy': 237, 'high': 238, 'hour': 239, 'miss': 240, 'classic': 241, 'talk': 242, 'wife': 243, 'understand': 244, 'left': 245, 'care': 246, 'black': 247, 'death': 248, 'open': 249, 'murder': 250, 'write': 251, 'half': 252, 'head': 253, 'rememb': 254, 'chang': 255, 'viewer': 256, 'fight': 257, 'gener': 258, 'surpris': 259, 'short': 260, 'includ': 261, 'die': 262, 'fall': 263, 'less': 264, 'els': 265, 'entir': 266, 'piec': 267, 'involv': 268, 'pictur': 269, 'simpli': 270, 'home': 271, 'top': 272, 'power': 273, 'total': 274, 'usual': 275, 'budget': 276, 'attempt': 277, 'suppos': 278, 'releas': 279, 'hollywood': 280, 'terribl': 281, 'song': 282, 'men': 283, 'possibl': 284, 'featur': 285, 'portray': 286, 'disappoint': 287, 'poor': 288, '3': 289, 'coupl': 290, 'stupid': 291, 'camera': 292, 'dead': 293, 'wrong': 294, 'produc': 295, 'low': 296, 'either': 297, 'video': 298, 'aw': 299, 'definit': 300, 'except': 301, 'rest': 302, 'given': 303, 'absolut': 304, 'women': 305, 'lack': 306, 'word': 307, 'writer': 308, 'titl': 309, 'talent': 310, 'decid': 311, 'full': 312, 'perfect': 313, 'along': 314, 'style': 315, 'close': 316, 'truli': 317, 'school': 318, 'save': 319, 'emot': 320, 'age': 321, 'sex': 322, 'next': 323, 'bring': 324, 'mr': 325, 'case': 326, 'killer': 327, 'heart': 328, 'comment': 329, 'sort': 330, 'creat': 331, 'perhap': 332, 'came': 333, 'brother': 334, 'sever': 335, 'joke': 336, 'art': 337, 'dialogu': 338, 'game': 339, 'small': 340, 'base': 341, 'flick': 342, 'written': 343, 'sequenc': 344, 'meet': 345, 'earli': 346, 'often': 347, 'other': 348, 'mother': 349, 'develop': 350, 'humor': 351, 'actress': 352, 'consid': 353, 'dark': 354, 'guess': 355, 'amaz': 356, 'unfortun': 357, 'lost': 358, 'light': 359, 'exampl': 360, 'cinema': 361, 'drama': 362, 'white': 363, 'ye': 364, 'experi': 365, 'imagin': 366, 'mention': 367, 'stop': 368, 'natur': 369, 'forc': 370, 'manag': 371, 'felt': 372, 'present': 373, 'cut': 374, 'children': 375, 'fail': 376, 'son': 377, 'support': 378, 'car': 379, 'qualiti': 380, 'ask': 381, 'hit': 382, 'side': 383, 'voic': 384, 'extrem': 385, 'impress': 386, 'wors': 387, 'evil': 388, 'stand': 389, 'went': 390, 'certainli': 391, 'basic': 392, 'oh': 393, 'overal': 394, 'favorit': 395, 'horribl': 396, 'mysteri': 397, 'number': 398, 'type': 399, 'danc': 400, 'wait': 401, 'hero': 402, 'alreadi': 403, '5': 404, 'learn': 405, 'matter': 406, '4': 407, 'michael': 408, 'genr': 409, 'fine': 410, 'despit': 411, 'throughout': 412, 'walk': 413, 'success': 414, 'histori': 415, 'question': 416, 'zombi': 417, 'town': 418, 'realiz': 419, 'relationship': 420, 'past': 421, 'child': 422, 'daughter': 423, 'late': 424, 'b': 425, 'wish': 426, 'hate': 427, 'credit': 428, 'event': 429, 'theme': 430, 'touch': 431, 'citi': 432, 'today': 433, 'sometim': 434, 'behind': 435, 'god': 436, 'twist': 437, 'sit': 438, 'stay': 439, 'annoy': 440, 'deal': 441, 'abl': 442, 'rent': 443, 'pleas': 444, 'edit': 445, 'blood': 446, 'deserv': 447, 'anyway': 448, 'comic': 449, 'appar': 450, 'soon': 451, 'gave': 452, 'etc': 453, 'level': 454, 'slow': 455, 'chanc': 456, 'score': 457, 'bodi': 458, 'brilliant': 459, 'incred': 460, 'figur': 461, 'situat': 462, 'major': 463, 'self': 464, 'stuff': 465, 'decent': 466, 'element': 467, 'return': 468, 'dream': 469, 'obvious': 470, 'continu': 471, 'order': 472, 'pace': 473, 'ridicul': 474, 'happi': 475, 'add': 476, 'highli': 477, 'group': 478, 'thank': 479, 'ladi': 480, 'novel': 481, 'pain': 482, 'speak': 483, 'career': 484, 'shoot': 485, 'strang': 486, 'heard': 487, 'sad': 488, 'husband': 489, 'polic': 490, 'import': 491, 'break': 492, 'took': 493, 'cannot': 494, 'strong': 495, 'predict': 496, 'robert': 497, 'violenc': 498, 'hilari': 499, 'recent': 500, 'countri': 501, 'known': 502, 'particularli': 503, 'pick': 504, 'documentari': 505, 'season': 506, 'critic': 507, 'jame': 508, 'compar': 509, 'obviou': 510, 'alon': 511, 'told': 512, 'state': 513, 'visual': 514, 'rock': 515, 'theater': 516, 'exist': 517, 'offer': 518, 'opinion': 519, 'gore': 520, 'crap': 521, 'hold': 522, 'result': 523, 'room': 524, 'realiti': 525, 'hear': 526, 'effort': 527, 'clich': 528, 'thriller': 529, 'caus': 530, 'sequel': 531, 'serious': 532, 'explain': 533, 'king': 534, 'local': 535, 'ago': 536, 'none': 537, 'hell': 538, 'note': 539, 'allow': 540, 'sister': 541, 'david': 542, 'simpl': 543, 'femal': 544, 'deliv': 545, 'ok': 546, 'convinc': 547, 'class': 548, 'check': 549, 'suspens': 550, 'win': 551, 'buy': 552, 'oscar': 553, 'huge': 554, 'valu': 555, 'sexual': 556, 'cool': 557, 'scari': 558, 'similar': 559, 'excit': 560, 'provid': 561, 'apart': 562, 'exactli': 563, 'avoid': 564, 'shown': 565, 'seriou': 566, 'english': 567, 'whose': 568, 'taken': 569, 'cinematographi': 570, 'shock': 571, 'polit': 572, 'spoiler': 573, 'offic': 574, 'across': 575, 'middl': 576, 'pass': 577, 'street': 578, 'messag': 579, 'silli': 580, 'somewhat': 581, 'charm': 582, 'modern': 583, 'filmmak': 584, 'confus': 585, 'form': 586, 'tale': 587, 'singl': 588, 'jack': 589, 'mostli': 590, 'carri': 591, 'attent': 592, 'william': 593, 'sing': 594, 'five': 595, 'subject': 596, 'richard': 597, 'prove': 598, 'stage': 599, 'team': 600, 'unlik': 601, 'cop': 602, 'georg': 603, 'monster': 604, 'televis': 605, 'earth': 606, 'villain': 607, 'cover': 608, 'pay': 609, 'marri': 610, 'toward': 611, 'build': 612, 'parent': 613, 'pull': 614, 'due': 615, 'respect': 616, 'fill': 617, 'four': 618, 'dialog': 619, 'remind': 620, 'futur': 621, 'weak': 622, 'typic': 623, '7': 624, 'cheap': 625, 'intellig': 626, 'atmospher': 627, 'british': 628, '80': 629, 'clearli': 630, 'non': 631, 'paul': 632, 'dog': 633, 'artist': 634, 'fast': 635, 'knew': 636, '8': 637, 'crime': 638, 'easili': 639, 'escap': 640, 'adult': 641, 'doubt': 642, 'detail': 643, 'date': 644, 'fire': 645, 'member': 646, 'romant': 647, 'drive': 648, 'gun': 649, 'straight': 650, 'fit': 651, 'beyond': 652, 'attack': 653, 'imag': 654, 'upon': 655, 'posit': 656, 'whether': 657, 'fantast': 658, 'peter': 659, 'aspect': 660, 'captur': 661, 'appreci': 662, 'ten': 663, 'plan': 664, 'discov': 665, 'remain': 666, 'near': 667, 'period': 668, 'air': 669, 'realist': 670, 'mark': 671, 'red': 672, 'dull': 673, 'adapt': 674, 'within': 675, 'spend': 676, 'lose': 677, 'materi': 678, 'color': 679, 'chase': 680, 'mari': 681, 'storylin': 682, 'forget': 683, 'bunch': 684, 'clear': 685, 'lee': 686, 'victim': 687, 'nearli': 688, 'box': 689, 'york': 690, 'inspir': 691, 'match': 692, 'finish': 693, 'mess': 694, 'standard': 695, 'easi': 696, 'truth': 697, 'busi': 698, 'suffer': 699, 'bill': 700, 'dramat': 701, 'space': 702, 'western': 703, 'e': 704, 'list': 705, 'battl': 706, 'notic': 707, 'de': 708, 'french': 709, 'ad': 710, '9': 711, 'tom': 712, 'larg': 713, 'among': 714, 'eventu': 715, 'train': 716, 'accept': 717, 'agre': 718, 'soundtrack': 719, 'spirit': 720, 'third': 721, 'teenag': 722, 'adventur': 723, 'soldier': 724, 'drug': 725, 'sorri': 726, 'suggest': 727, 'famou': 728, 'babi': 729, 'normal': 730, 'cri': 731, 'ultim': 732, 'troubl': 733, 'contain': 734, 'certain': 735, 'cultur': 736, 'romanc': 737, 'rare': 738, 'lame': 739, 'somehow': 740, 'mix': 741, 'disney': 742, 'gone': 743, 'cartoon': 744, 'student': 745, 'reveal': 746, 'fear': 747, 'suck': 748, 'kept': 749, 'attract': 750, 'appeal': 751, 'premis': 752, 'secret': 753, 'design': 754, 'greatest': 755, 'shame': 756, 'throw': 757, 'scare': 758, 'copi': 759, 'wit': 760, 'admit': 761, 'america': 762, 'brought': 763, 'particular': 764, 'relat': 765, 'screenplay': 766, 'whatev': 767, 'pure': 768, '70': 769, 'averag': 770, 'harri': 771, 'master': 772, 'describ': 773, 'treat': 774, 'male': 775, '20': 776, 'fantasi': 777, 'issu': 778, 'warn': 779, 'inde': 780, 'forward': 781, 'background': 782, 'free': 783, 'project': 784, 'memor': 785, 'japanes': 786, 'poorli': 787, 'award': 788, 'locat': 789, 'potenti': 790, 'amus': 791, 'struggl': 792, 'weird': 793, 'magic': 794, 'societi': 795, 'okay': 796, 'imdb': 797, 'doctor': 798, 'accent': 799, 'water': 800, 'hot': 801, '30': 802, 'alien': 803, 'dr': 804, 'express': 805, 'odd': 806, 'crazi': 807, 'choic': 808, 'fiction': 809, 'studio': 810, 'control': 811, 'becam': 812, 'masterpiec': 813, 'fli': 814, 'difficult': 815, 'joe': 816, 'scream': 817, 'costum': 818, 'lover': 819, 'uniqu': 820, 'refer': 821, 'remak': 822, 'girlfriend': 823, 'vampir': 824, 'prison': 825, 'execut': 826, 'wear': 827, 'jump': 828, 'unless': 829, 'wood': 830, 'creepi': 831, 'cheesi': 832, 'superb': 833, 'otherwis': 834, 'parti': 835, 'ghost': 836, 'roll': 837, 'mad': 838, 'public': 839, 'depict': 840, 'badli': 841, 'earlier': 842, 'moral': 843, 'jane': 844, 'week': 845, 'fi': 846, 'dumb': 847, 'flaw': 848, 'grow': 849, 'sci': 850, 'deep': 851, 'cat': 852, 'maker': 853, 'connect': 854, 'older': 855, 'footag': 856, 'bother': 857, 'plenti': 858, 'outsid': 859, 'stick': 860, 'gay': 861, 'catch': 862, 'plu': 863, 'co': 864, 'popular': 865, 'equal': 866, 'social': 867, 'quickli': 868, 'disturb': 869, 'perfectli': 870, 'dress': 871, 'era': 872, '90': 873, 'mistak': 874, 'lie': 875, 'previou': 876, 'ride': 877, 'combin': 878, 'band': 879, 'concept': 880, 'answer': 881, 'surviv': 882, 'rich': 883, 'front': 884, 'christma': 885, 'sweet': 886, 'insid': 887, 'eat': 888, 'bare': 889, 'concern': 890, 'listen': 891, 'beat': 892, 'ben': 893, 'c': 894, 'term': 895, 'serv': 896, 'german': 897, 'la': 898, 'meant': 899, 'hardli': 900, 'stereotyp': 901, 'innoc': 902, 'law': 903, 'desper': 904, 'promis': 905, 'memori': 906, 'cute': 907, 'intent': 908, 'inform': 909, 'steal': 910, 'variou': 911, 'brain': 912, 'post': 913, 'tone': 914, 'island': 915, 'amount': 916, 'nuditi': 917, 'compani': 918, 'track': 919, 'store': 920, 'claim': 921, 'hair': 922, 'flat': 923, '50': 924, 'land': 925, 'univers': 926, 'danger': 927, 'kick': 928, 'fairli': 929, 'scott': 930, 'player': 931, 'step': 932, 'crew': 933, 'plain': 934, 'toni': 935, 'share': 936, 'centuri': 937, 'tast': 938, 'engag': 939, 'achiev': 940, 'travel': 941, 'cold': 942, 'rip': 943, 'record': 944, 'suit': 945, 'sadli': 946, 'manner': 947, 'tension': 948, 'spot': 949, 'wrote': 950, 'fascin': 951, 'intens': 952, 'familiar': 953, 'depth': 954, 'burn': 955, 'remark': 956, 'histor': 957, 'destroy': 958, 'sleep': 959, 'purpos': 960, 'languag': 961, 'ruin': 962, 'ignor': 963, 'delight': 964, 'italian': 965, 'unbeliev': 966, 'collect': 967, 'abil': 968, 'soul': 969, 'clever': 970, 'detect': 971, 'violent': 972, 'rape': 973, 'reach': 974, 'door': 975, 'scienc': 976, 'liter': 977, 'trash': 978, 'reveng': 979, 'caught': 980, 'commun': 981, 'creatur': 982, 'trip': 983, 'approach': 984, 'fashion': 985, 'intrigu': 986, 'introduc': 987, 'skill': 988, 'paint': 989, 'complex': 990, 'channel': 991, 'camp': 992, 'christian': 993, 'extra': 994, 'hole': 995, 'ann': 996, 'mental': 997, 'limit': 998, 'immedi': 999, 'slightli': 1000, 'million': 1001, '6': 1002, 'mere': 1003, 'comput': 1004, 'slasher': 1005, 'conclus': 1006, 'suddenli': 1007, 'imposs': 1008, 'crimin': 1009, 'neither': 1010, 'teen': 1011, 'nation': 1012, 'physic': 1013, 'spent': 1014, 'respons': 1015, 'planet': 1016, 'fake': 1017, 'receiv': 1018, 'sick': 1019, 'blue': 1020, 'bizarr': 1021, 'embarrass': 1022, 'indian': 1023, '15': 1024, 'ring': 1025, 'drop': 1026, 'pop': 1027, 'drag': 1028, 'haunt': 1029, 'suspect': 1030, 'pointless': 1031, 'search': 1032, 'edg': 1033, 'handl': 1034, 'biggest': 1035, 'common': 1036, 'hurt': 1037, 'faith': 1038, 'arriv': 1039, 'technic': 1040, 'angel': 1041, 'genuin': 1042, 'dad': 1043, 'solid': 1044, 'awesom': 1045, 'f': 1046, 'former': 1047, 'colleg': 1048, 'focu': 1049, 'van': 1050, 'count': 1051, 'tear': 1052, 'heavi': 1053, 'wall': 1054, 'rais': 1055, 'younger': 1056, 'laughabl': 1057, 'visit': 1058, 'excus': 1059, 'sign': 1060, 'fair': 1061, 'cult': 1062, 'motion': 1063, 'tough': 1064, 'key': 1065, 'desir': 1066, 'super': 1067, 'stun': 1068, 'addit': 1069, 'cloth': 1070, 'exploit': 1071, 'tortur': 1072, 'smith': 1073, 'davi': 1074, 'race': 1075, 'cross': 1076, 'author': 1077, 'jim': 1078, 'compel': 1079, 'focus': 1080, 'consist': 1081, 'minor': 1082, 'commit': 1083, 'pathet': 1084, 'chemistri': 1085, 'park': 1086, 'tradit': 1087, 'obsess': 1088, 'frank': 1089, 'grade': 1090, 'asid': 1091, '60': 1092, 'brutal': 1093, 'somewher': 1094, 'steve': 1095, 'opportun': 1096, 'explor': 1097, 'grant': 1098, 'u': 1099, 'depress': 1100, 'rule': 1101, 'honest': 1102, 'besid': 1103, 'anti': 1104, 'dub': 1105, 'intend': 1106, 'trailer': 1107, 'bar': 1108, 'longer': 1109, 'west': 1110, 'scientist': 1111, 'regard': 1112, 'judg': 1113, 'decad': 1114, 'silent': 1115, 'armi': 1116, 'creativ': 1117, 'wild': 1118, 'g': 1119, 'stewart': 1120, 'south': 1121, 'draw': 1122, 'road': 1123, 'govern': 1124, 'boss': 1125, 'ex': 1126, 'practic': 1127, 'motiv': 1128, 'club': 1129, 'festiv': 1130, 'gang': 1131, 'surprisingli': 1132, 'london': 1133, 'green': 1134, 'redeem': 1135, 'page': 1136, 'idiot': 1137, 'machin': 1138, 'display': 1139, 'militari': 1140, 'aliv': 1141, 'thrill': 1142, 'repeat': 1143, 'yeah': 1144, '100': 1145, 'nobodi': 1146, 'folk': 1147, '40': 1148, 'garbag': 1149, 'journey': 1150, 'tire': 1151, 'smile': 1152, 'ground': 1153, 'mood': 1154, 'bought': 1155, 'cost': 1156, 'sam': 1157, 'stone': 1158, 'mouth': 1159, 'noir': 1160, 'terrif': 1161, 'agent': 1162, 'utterli': 1163, 'requir': 1164, 'honestli': 1165, 'area': 1166, 'sexi': 1167, 'geniu': 1168, 'report': 1169, 'glad': 1170, 'humour': 1171, 'enter': 1172, 'investig': 1173, 'serial': 1174, 'narr': 1175, 'occasion': 1176, 'passion': 1177, 'climax': 1178, 'marriag': 1179, 'industri': 1180, 'studi': 1181, 'demon': 1182, 'center': 1183, 'ship': 1184, 'nowher': 1185, 'charli': 1186, 'hors': 1187, 'loos': 1188, 'bear': 1189, 'wow': 1190, 'hang': 1191, 'graphic': 1192, 'giant': 1193, 'admir': 1194, 'send': 1195, 'damn': 1196, 'loud': 1197, 'nake': 1198, 'subtl': 1199, 'profession': 1200, 'rel': 1201, 'blow': 1202, 'bottom': 1203, 'batman': 1204, 'insult': 1205, 'doubl': 1206, 'boyfriend': 1207, 'r': 1208, 'kelli': 1209, 'initi': 1210, 'frame': 1211, 'gem': 1212, 'opera': 1213, 'challeng': 1214, 'cinemat': 1215, 'affect': 1216, 'church': 1217, 'drawn': 1218, 'nightmar': 1219, 'seek': 1220, 'j': 1221, 'l': 1222, 'fulli': 1223, 'evid': 1224, 'essenti': 1225, 'conflict': 1226, 'arm': 1227, 'wind': 1228, 'grace': 1229, 'christoph': 1230, 'henri': 1231, 'witch': 1232, 'narrat': 1233, 'assum': 1234, 'push': 1235, 'hunt': 1236, 'chri': 1237, 'wise': 1238, 'repres': 1239, 'nomin': 1240, 'month': 1241, 'avail': 1242, 'affair': 1243, 'hide': 1244, 'sceneri': 1245, 'justic': 1246, 'thu': 1247, 'bond': 1248, 'smart': 1249, 'flashback': 1250, 'interview': 1251, 'outstand': 1252, 'satisfi': 1253, 'constantli': 1254, 'presenc': 1255, 'bed': 1256, 'central': 1257, 'content': 1258, 'iron': 1259, 'sell': 1260, 'gag': 1261, 'everybodi': 1262, 'slowli': 1263, 'hotel': 1264, 'hire': 1265, 'system': 1266, 'thrown': 1267, 'hey': 1268, 'adam': 1269, 'individu': 1270, 'charl': 1271, 'mediocr': 1272, 'allen': 1273, 'jone': 1274, 'billi': 1275, 'lesson': 1276, 'ray': 1277, 'photographi': 1278, 'cameo': 1279, 'pari': 1280, 'fellow': 1281, 'strike': 1282, 'absurd': 1283, 'rise': 1284, 'independ': 1285, 'brief': 1286, 'neg': 1287, 'impact': 1288, 'phone': 1289, 'born': 1290, 'ill': 1291, 'model': 1292, 'fresh': 1293, 'spoil': 1294, 'angl': 1295, 'abus': 1296, 'likabl': 1297, 'discuss': 1298, 'hill': 1299, 'sight': 1300, 'ahead': 1301, 'sent': 1302, 'photograph': 1303, 'blame': 1304, 'occur': 1305, 'shine': 1306, 'logic': 1307, 'bruce': 1308, 'mainli': 1309, 'skip': 1310, 'forev': 1311, 'commerci': 1312, 'teacher': 1313, 'held': 1314, 'surround': 1315, 'segment': 1316, 'blond': 1317, 'zero': 1318, 'trap': 1319, 'resembl': 1320, 'satir': 1321, 'summer': 1322, 'queen': 1323, 'fool': 1324, 'ball': 1325, 'six': 1326, 'sub': 1327, 'twice': 1328, 'tragedi': 1329, 'reaction': 1330, 'pack': 1331, 'bomb': 1332, 'hospit': 1333, 'will': 1334, 'protagonist': 1335, 'mile': 1336, 'sport': 1337, 'jerri': 1338, 'drink': 1339, 'trust': 1340, 'mom': 1341, 'vote': 1342, 'encount': 1343, 'plane': 1344, 'station': 1345, 'current': 1346, 'al': 1347, 'program': 1348, 'celebr': 1349, 'choos': 1350, 'martin': 1351, 'join': 1352, 'field': 1353, 'favourit': 1354, 'round': 1355, 'tragic': 1356, 'lord': 1357, 'vision': 1358, 'jean': 1359, 'robot': 1360, 'tie': 1361, 'arthur': 1362, 'random': 1363, 'fortun': 1364, 'roger': 1365, 'dread': 1366, 'psycholog': 1367, 'intern': 1368, 'epic': 1369, 'prefer': 1370, 'improv': 1371, 'nonsens': 1372, 'formula': 1373, 'pleasur': 1374, 'legend': 1375, 'highlight': 1376, 'dollar': 1377, '11': 1378, 'tape': 1379, 'gorgeou': 1380, 'fox': 1381, 'porn': 1382, 'object': 1383, 'thin': 1384, 'wide': 1385, 'ugli': 1386, 'influenc': 1387, 'buddi': 1388, 'prepar': 1389, 'nasti': 1390, 'ii': 1391, 'supposedli': 1392, 'progress': 1393, 'warm': 1394, 'reflect': 1395, 'youth': 1396, 'worthi': 1397, 'unusu': 1398, 'length': 1399, 'latter': 1400, 'crash': 1401, 'childhood': 1402, 'shop': 1403, 'superior': 1404, 'seven': 1405, 'remot': 1406, 'theatr': 1407, 'disgust': 1408, 'funniest': 1409, 'paid': 1410, 'pilot': 1411, 'convers': 1412, 'fell': 1413, 'castl': 1414, 'trick': 1415, 'disast': 1416, 'gangster': 1417, 'establish': 1418, 'rob': 1419, 'mine': 1420, 'disappear': 1421, 'suicid': 1422, 'ident': 1423, 'heaven': 1424, 'singer': 1425, 'decis': 1426, 'forgotten': 1427, 'mask': 1428, 'heroin': 1429, 'tend': 1430, 'partner': 1431, 'brian': 1432, 'recogn': 1433, 'alan': 1434, 'desert': 1435, 'stuck': 1436, 'thoroughli': 1437, 'p': 1438, 'sky': 1439, 'ms': 1440, 'replac': 1441, 'accur': 1442, 'market': 1443, 'uncl': 1444, 'seemingli': 1445, 'andi': 1446, 'commentari': 1447, 'danni': 1448, 'eddi': 1449, 'clue': 1450, 'devil': 1451, 'jackson': 1452, 'therefor': 1453, 'that': 1454, 'pair': 1455, 'refus': 1456, 'river': 1457, 'fate': 1458, 'fault': 1459, 'unit': 1460, 'accid': 1461, 'ed': 1462, 'afraid': 1463, 'tune': 1464, 'hidden': 1465, 'clean': 1466, 'russian': 1467, 'stephen': 1468, 'quick': 1469, 'test': 1470, 'readi': 1471, 'captain': 1472, 'irrit': 1473, 'convey': 1474, 'instanc': 1475, 'european': 1476, 'insan': 1477, 'daniel': 1478, 'frustrat': 1479, 'wed': 1480, 'food': 1481, 'rescu': 1482, '1950': 1483, 'chines': 1484, 'dirti': 1485, 'lock': 1486, 'angri': 1487, 'joy': 1488, 'steven': 1489, 'price': 1490, 'bland': 1491, 'cage': 1492, 'rang': 1493, 'anymor': 1494, 'wooden': 1495, 'rush': 1496, 'jason': 1497, 'news': 1498, 'n': 1499, '12': 1500, 'twenti': 1501, 'led': 1502, 'martial': 1503, 'board': 1504, 'worri': 1505, 'cgi': 1506, 'hunter': 1507, 'transform': 1508, 'symbol': 1509, 'sentiment': 1510, 'piti': 1511, 'x': 1512, 'invent': 1513, 'johnni': 1514, 'onto': 1515, 'attitud': 1516, 'explan': 1517, 'process': 1518, 'awar': 1519, 'owner': 1520, 'aim': 1521, 'floor': 1522, 'energi': 1523, 'necessari': 1524, 'target': 1525, 'favor': 1526, 'religi': 1527, 'opposit': 1528, 'insight': 1529, 'chick': 1530, 'blind': 1531, 'window': 1532, 'movement': 1533, 'deepli': 1534, 'research': 1535, 'possess': 1536, 'comparison': 1537, 'mountain': 1538, 'whatsoev': 1539, 'rain': 1540, 'grand': 1541, 'comed': 1542, 'shadow': 1543, 'mid': 1544, 'began': 1545, 'bank': 1546, 'princ': 1547, 'parodi': 1548, 'weapon': 1549, 'credibl': 1550, 'friendship': 1551, 'taylor': 1552, 'pre': 1553, 'flesh': 1554, 'teach': 1555, 'dougla': 1556, 'terror': 1557, 'bloodi': 1558, 'protect': 1559, 'hint': 1560, 'marvel': 1561, 'load': 1562, 'anybodi': 1563, 'accord': 1564, 'drunk': 1565, 'leader': 1566, 'superman': 1567, 'watchabl': 1568, 'freddi': 1569, 'brown': 1570, 'seat': 1571, 'jeff': 1572, 'appropri': 1573, 'tim': 1574, 'hitler': 1575, 'charg': 1576, 'villag': 1577, 'knock': 1578, 'unknown': 1579, 'keaton': 1580, 'unnecessari': 1581, 'empti': 1582, 'enemi': 1583, 'england': 1584, 'media': 1585, 'utter': 1586, 'dare': 1587, 'buck': 1588, 'craft': 1589, 'strength': 1590, 'wave': 1591, 'perspect': 1592, 'nativ': 1593, 'correct': 1594, 'contrast': 1595, 'kiss': 1596, 'ford': 1597, 'chill': 1598, 'distract': 1599, 'speed': 1600, 'soap': 1601, 'knowledg': 1602, 'nazi': 1603, 'anywher': 1604, 'magnific': 1605, 'ice': 1606, '1980': 1607, 'breath': 1608, 'fred': 1609, 'mission': 1610, 'crowd': 1611, 'moon': 1612, 'jr': 1613, 'joan': 1614, 'frighten': 1615, 'soft': 1616, '000': 1617, 'kate': 1618, 'dan': 1619, 'dick': 1620, 'hundr': 1621, 'nick': 1622, 'simon': 1623, 'somebodi': 1624, 'dozen': 1625, 'radio': 1626, 'thousand': 1627, 'academi': 1628, 'loss': 1629, 'shakespear': 1630, 'andrew': 1631, 'quot': 1632, 'root': 1633, 'sum': 1634, 'account': 1635, 'vehicl': 1636, 'convent': 1637, '1970': 1638, 'behavior': 1639, 'leg': 1640, 'regular': 1641, 'gold': 1642, 'demand': 1643, 'compet': 1644, 'worker': 1645, 'pretenti': 1646, 'explos': 1647, 'candi': 1648, 'stretch': 1649, 'privat': 1650, 'notabl': 1651, 'japan': 1652, 'lynch': 1653, 'interpret': 1654, 'constant': 1655, 'debut': 1656, 'tarzan': 1657, 'sea': 1658, 'spi': 1659, 'translat': 1660, 'prais': 1661, 'revolv': 1662, 'failur': 1663, 'ass': 1664, 'threaten': 1665, 'jesu': 1666, 'quiet': 1667, 'franc': 1668, 'sat': 1669, 'technolog': 1670, 'higher': 1671, 'toy': 1672, 'aid': 1673, 'met': 1674, 'punch': 1675, 'kevin': 1676, 'interact': 1677, 'vh': 1678, 'abandon': 1679, 'mike': 1680, 'confront': 1681, 'separ': 1682, 'command': 1683, 'bet': 1684, 'gotten': 1685, 'stunt': 1686, 'site': 1687, 'servic': 1688, 'recal': 1689, 'techniqu': 1690, 'belong': 1691, 'cabl': 1692, 'freak': 1693, 'bug': 1694, 'foot': 1695, 'jimmi': 1696, 'fu': 1697, 'african': 1698, 'capabl': 1699, 'bright': 1700, 'succeed': 1701, 'clark': 1702, 'stock': 1703, 'presid': 1704, 'fat': 1705, 'boat': 1706, 'structur': 1707, 'spanish': 1708, 'gene': 1709, 'kidnap': 1710, 'paper': 1711, 'whilst': 1712, 'belief': 1713, 'factor': 1714, 'realism': 1715, 'bob': 1716, 'complic': 1717, 'educ': 1718, 'witti': 1719, 'realis': 1720, 'attend': 1721, 'tree': 1722, 'broken': 1723, 'assist': 1724, 'finest': 1725, 'santa': 1726, 'up': 1727, 'observ': 1728, 'determin': 1729, 'smoke': 1730, 'v': 1731, 'depart': 1732, 'rubbish': 1733, 'lewi': 1734, 'routin': 1735, 'fame': 1736, 'domin': 1737, 'oper': 1738, 'hat': 1739, 'kinda': 1740, 'safe': 1741, 'advanc': 1742, 'foreign': 1743, 'hook': 1744, 'lone': 1745, 'morgan': 1746, 'rank': 1747, 'numer': 1748, 'washington': 1749, 'shape': 1750, 'werewolf': 1751, 'vs': 1752, 'rose': 1753, 'civil': 1754, 'shallow': 1755, 'gari': 1756, 'morn': 1757, 'accomplish': 1758, 'winner': 1759, 'ordinari': 1760, 'kong': 1761, 'whenev': 1762, 'virtual': 1763, 'peac': 1764, 'grab': 1765, 'luck': 1766, 'offens': 1767, 'h': 1768, 'activ': 1769, 'unfunni': 1770, 'welcom': 1771, 'patient': 1772, 'bigger': 1773, 'complain': 1774, 'contriv': 1775, 'pretend': 1776, 'con': 1777, 'dimension': 1778, 'trek': 1779, 'eric': 1780, 'flash': 1781, 'wake': 1782, 'lesbian': 1783, 'dri': 1784, 'code': 1785, 'cain': 1786, 'albert': 1787, 'statu': 1788, 'guard': 1789, 'corrupt': 1790, 'manipul': 1791, 'dancer': 1792, 'sourc': 1793, 'context': 1794, 'awkward': 1795, 'gain': 1796, 'signific': 1797, 'speech': 1798, 'psycho': 1799, 'sean': 1800, 'anthoni': 1801, 'clip': 1802, '13': 1803, 'corni': 1804, 'curiou': 1805, 'reli': 1806, 'w': 1807, 'advic': 1808, 'theatric': 1809, 'religion': 1810, 'priest': 1811, 'flow': 1812, 'addict': 1813, 'asian': 1814, 'jennif': 1815, 'specif': 1816, 'howard': 1817, 'secur': 1818, 'skin': 1819, 'promot': 1820, 'comfort': 1821, 'core': 1822, 'golden': 1823, 'luke': 1824, 'organ': 1825, 'lucki': 1826, 'cheat': 1827, 'cash': 1828, 'associ': 1829, 'lower': 1830, 'dislik': 1831, 'frankli': 1832, 'spell': 1833, 'regret': 1834, 'contribut': 1835, 'degre': 1836, 'frequent': 1837, 'wing': 1838, 'devic': 1839, 'balanc': 1840, 'sake': 1841, 'lake': 1842, 'forgiv': 1843, 'print': 1844, 'thoma': 1845, 'mass': 1846, 'betti': 1847, 'gordon': 1848, 'unexpect': 1849, 'crack': 1850, 'unfold': 1851, 'grown': 1852, 'categori': 1853, 'amateur': 1854, 'invit': 1855, 'construct': 1856, 'depend': 1857, 'matur': 1858, 'condit': 1859, 'grew': 1860, 'walter': 1861, 'intellectu': 1862, 'honor': 1863, 'anna': 1864, 'sudden': 1865, 'mirror': 1866, 'veteran': 1867, 'spectacular': 1868, 'sole': 1869, 'experienc': 1870, 'robin': 1871, 'meanwhil': 1872, 'overli': 1873, 'gift': 1874, 'demonstr': 1875, 'freedom': 1876, 'liner': 1877, 'grip': 1878, 'card': 1879, 'sheriff': 1880, 'circumst': 1881, 'crappi': 1882, 'brilliantli': 1883, 'section': 1884, 'drew': 1885, 'unabl': 1886, 'subtitl': 1887, 'colour': 1888, 'oliv': 1889, 'theori': 1890, 'altern': 1891, 'sheer': 1892, 'laughter': 1893, 'path': 1894, 'parker': 1895, 'pile': 1896, 'matt': 1897, 'cook': 1898, 'relief': 1899, 'accident': 1900, 'wander': 1901, 'defin': 1902, 'hall': 1903, 'lawyer': 1904, 'treatment': 1905, 'sinatra': 1906, 'captiv': 1907, 'hank': 1908, 'dragon': 1909, 'gratuit': 1910, 'halloween': 1911, 'moor': 1912, 'cowboy': 1913, 'unintent': 1914, 'jacki': 1915, 'k': 1916, 'kung': 1917, 'wound': 1918, 'barbara': 1919, 'wayn': 1920, 'broadway': 1921, 'spoof': 1922, 'statement': 1923, 'surreal': 1924, 'canadian': 1925, 'winter': 1926, 'fish': 1927, 'compos': 1928, 'cheer': 1929, 'treasur': 1930, 'gonna': 1931, 'fare': 1932, 'sensit': 1933, 'unrealist': 1934, 'victor': 1935, 'emerg': 1936, 'woodi': 1937, 'neighbor': 1938, 'ran': 1939, 'driven': 1940, 'sympathet': 1941, 'overlook': 1942, 'expos': 1943, 'menac': 1944, 'topic': 1945, 'glass': 1946, 'authent': 1947, 'ancient': 1948, 'michel': 1949, 'gross': 1950, 'handsom': 1951, 'chief': 1952, 'pleasant': 1953, 'contemporari': 1954, 'nevertheless': 1955, 'network': 1956, 'comedian': 1957, 'stranger': 1958, 'feet': 1959, 'russel': 1960, 'built': 1961, 'cinderella': 1962, 'earn': 1963, 'endless': 1964, 'letter': 1965, 'gori': 1966, 'miser': 1967, 'underr': 1968, 'consider': 1969, 'blockbust': 1970, 'solv': 1971, 'switch': 1972, 'brook': 1973, 'convict': 1974, 'bullet': 1975, 'virgin': 1976, 'edward': 1977, 'joseph': 1978, 'victoria': 1979, 'alex': 1980, 'chosen': 1981, 'cynic': 1982, '0': 1983, 'scenario': 1984, 'scale': 1985, 'gut': 1986, 'sword': 1987, 'curs': 1988, 'com': 1989, 'outrag': 1990, 'uk': 1991, 'wrap': 1992, 'substanc': 1993, 'screenwrit': 1994, 'driver': 1995, 'juli': 1996, 'proper': 1997, 'monkey': 1998, 'court': 1999, 'remov': 2000, 'indic': 2001, 'bird': 2002, 'par': 2003, 'naiv': 2004, 'grave': 2005, 'rental': 2006, 'roy': 2007, 'nanci': 2008, 'advertis': 2009, 'consequ': 2010, 'inevit': 2011, 'loser': 2012, 'invis': 2013, 'slap': 2014, 'brave': 2015, 'le': 2016, 'fatal': 2017, 'germani': 2018, 'bridg': 2019, 'ador': 2020, 'provok': 2021, 'anger': 2022, 'loui': 2023, 'footbal': 2024, 'chan': 2025, 'anderson': 2026, 'alcohol': 2027, 'stumbl': 2028, 'willi': 2029, 'professor': 2030, 'ryan': 2031, 'patrick': 2032, 'sharp': 2033, 'bat': 2034, 'australian': 2035, '1930': 2036, 'assassin': 2037, 'heck': 2038, 'amateurish': 2039, 'saturday': 2040, 'cell': 2041, 'eight': 2042, 'lousi': 2043, 'strongli': 2044, 'ape': 2045, 'trilog': 2046, 'liber': 2047, 'refresh': 2048, 'deni': 2049, 'sin': 2050, 'justifi': 2051, 'vagu': 2052, 'san': 2053, 'resid': 2054, 'creator': 2055, 'mini': 2056, 'indi': 2057, 'reput': 2058, 'defeat': 2059, 'sympathi': 2060, 'terrifi': 2061, 'prevent': 2062, 'endur': 2063, 'tediou': 2064, 'task': 2065, 'expert': 2066, 'tabl': 2067, 'trial': 2068, 'rival': 2069, 'che': 2070, 'basebal': 2071, 'imit': 2072, 'employ': 2073, 'offend': 2074, 'dig': 2075, 'weekend': 2076, 'max': 2077, 'europ': 2078, 'fairi': 2079, 'pitch': 2080, 'complaint': 2081, 'beach': 2082, 'purchas': 2083, 'format': 2084, 'murphi': 2085, 'risk': 2086, 'reminisc': 2087, 'titan': 2088, 'hype': 2089, 'harsh': 2090, 'tini': 2091, 'glimps': 2092, 'bite': 2093, 'nois': 2094, 'powel': 2095, 'fals': 2096, 'till': 2097, '14': 2098, 'prime': 2099, 'strip': 2100, 'north': 2101, 'asleep': 2102, 'texa': 2103, 'revel': 2104, 'descript': 2105, 'destruct': 2106, 'africa': 2107, 'surfac': 2108, 'sitcom': 2109, 'spin': 2110, 'uninterest': 2111, 'excess': 2112, 'inner': 2113, 'semi': 2114, 'arrest': 2115, 'makeup': 2116, 'argu': 2117, 'massiv': 2118, 'maintain': 2119, 'twin': 2120, 'hitchcock': 2121, 'controversi': 2122, 'dinosaur': 2123, 'insist': 2124, 'expens': 2125, 'reject': 2126, 'melodrama': 2127, 'ludicr': 2128, 'stare': 2129, 'kim': 2130, 'ideal': 2131, 'atroci': 2132, 'erot': 2133, 'ala': 2134, 'subplot': 2135, 'host': 2136, 'nail': 2137, 'forest': 2138, 'supernatur': 2139, 'press': 2140, 'ga': 2141, 'columbo': 2142, 'presum': 2143, 'dude': 2144, 'cant': 2145, 'identifi': 2146, 'notch': 2147, 'closer': 2148, 'method': 2149, 'plagu': 2150, 'guest': 2151, 'crude': 2152, 'character': 2153, 'forgett': 2154, 'beast': 2155, 'princess': 2156, 'border': 2157, 'lion': 2158, 'foster': 2159, 'ear': 2160, 'landscap': 2161, 'accus': 2162, 'jungl': 2163, 'birth': 2164, 'storytel': 2165, 'pacino': 2166, 'previous': 2167, 'bound': 2168, 'damag': 2169, 'aunt': 2170, 'urban': 2171, 'nude': 2172, 'chose': 2173, 'propaganda': 2174, 'thirti': 2175, 'guid': 2176, 'jess': 2177, 'emma': 2178, 'doll': 2179, 'pet': 2180, 'mainstream': 2181, '25': 2182, 'whoever': 2183, 'mate': 2184, 'warrior': 2185, 'exact': 2186, 'friday': 2187, 'deadli': 2188, 'merit': 2189, 'cooper': 2190, 'poster': 2191, 'upset': 2192, 'gritti': 2193, 'size': 2194, 'latest': 2195, 'contact': 2196, '1990': 2197, 'settl': 2198, 'rough': 2199, 'ton': 2200, 'blend': 2201, 'contest': 2202, 'buff': 2203, 'corps': 2204, 'wilson': 2205, 'popul': 2206, 'citizen': 2207, 'warner': 2208, 'sun': 2209, 'metal': 2210, 'widow': 2211, 'alic': 2212, 'overcom': 2213, 'select': 2214, 'pitt': 2215, 'rat': 2216, 'mgm': 2217, 'bu': 2218, 'environ': 2219, 'lift': 2220, 'link': 2221, 'guilti': 2222, 'particip': 2223, 'revolut': 2224, 'ted': 2225, 'exagger': 2226, 'johnson': 2227, 'moron': 2228, '1960': 2229, 'matrix': 2230, 'corner': 2231, 'corpor': 2232, 'accompani': 2233, 'prostitut': 2234, 'afternoon': 2235, 'instal': 2236, 'clair': 2237, 'multipl': 2238, 'leagu': 2239, 'hood': 2240, 'doom': 2241, 'sincer': 2242, 'friendli': 2243, 'holm': 2244, 'junk': 2245, 'aka': 2246, 'blah': 2247, 'irish': 2248, 'grim': 2249, 'string': 2250, 'sunday': 2251, 'advis': 2252, 'defend': 2253, 'examin': 2254, 'hip': 2255, 'campi': 2256, 'lugosi': 2257, 'varieti': 2258, 'shake': 2259, 'icon': 2260, 'rachel': 2261, 'confid': 2262, 'tight': 2263, 'pro': 2264, 'shut': 2265, 'jaw': 2266, 'attach': 2267, 'mexican': 2268, 'directli': 2269, 'denni': 2270, 'goal': 2271, 'medic': 2272, 'sullivan': 2273, 'courag': 2274, 'duke': 2275, 'breast': 2276, 'sentenc': 2277, 'sarah': 2278, 'prior': 2279, 'terrorist': 2280, 'truck': 2281, 'dean': 2282, 'legendari': 2283, 'vietnam': 2284, 'bourn': 2285, 'donald': 2286, 'split': 2287, 'proceed': 2288, 'yell': 2289, 'behav': 2290, 'nose': 2291, 'entri': 2292, 'hong': 2293, 'un': 2294, 'crush': 2295, 'forth': 2296, 'swim': 2297, 'concentr': 2298, 'borrow': 2299, 'buri': 2300, 'everywher': 2301, 'lifetim': 2302, 'unconvinc': 2303, 'jerk': 2304, 'gather': 2305, 'confess': 2306, 'stolen': 2307, 'pan': 2308, 'lip': 2309, 'spite': 2310, 'deliveri': 2311, 'turkey': 2312, 'julia': 2313, 'california': 2314, 'downright': 2315, 'offici': 2316, 'hoffman': 2317, 'quest': 2318, 'reward': 2319, 'china': 2320, 'freeman': 2321, 'proud': 2322, 'flight': 2323, 'notori': 2324, 'inept': 2325, 'sink': 2326, 'lazi': 2327, 'encourag': 2328, 'fabul': 2329, 'betray': 2330, 'worthwhil': 2331, 'jon': 2332, 'jail': 2333, 'fade': 2334, 'sir': 2335, 'imageri': 2336, 'retard': 2337, 'bell': 2338, 'shower': 2339, 'relev': 2340, 'lisa': 2341, 'susan': 2342, 'bag': 2343, 'survivor': 2344, 'storm': 2345, 'cousin': 2346, 'teeth': 2347, 'branagh': 2348, 'quirki': 2349, 'tremend': 2350, 'shark': 2351, 'finger': 2352, 'bride': 2353, 'summari': 2354, 'hugh': 2355, 'trade': 2356, 'toler': 2357, 'stab': 2358, 'alright': 2359, 'facial': 2360, 'mexico': 2361, 'blown': 2362, 'bitter': 2363, 'von': 2364, 'ha': 2365, 'hyster': 2366, 'pose': 2367, 'cruel': 2368, 'ron': 2369, 'address': 2370, 'ned': 2371, 'afterward': 2372, 'bone': 2373, 'larri': 2374, 'christ': 2375, 'scheme': 2376, 'feed': 2377, 'traci': 2378, 'distinct': 2379, 'screw': 2380, 'swear': 2381, 'thumb': 2382, 'beg': 2383, 'tour': 2384, 'pursu': 2385, 'snake': 2386, 'obscur': 2387, 'photo': 2388, 'mechan': 2389, 'occas': 2390, 'stomach': 2391, 'raw': 2392, 'chair': 2393, 'chain': 2394, 'render': 2395, 'gruesom': 2396, 'holiday': 2397, 'resist': 2398, 'sidney': 2399, 'necessarili': 2400, 'hardi': 2401, 'cabin': 2402, 'argument': 2403, 'southern': 2404, 'heavili': 2405, 'understood': 2406, 'philip': 2407, 'racist': 2408, 'indulg': 2409, 'satan': 2410, 'india': 2411, 'integr': 2412, 'lay': 2413, 'outfit': 2414, 'tongu': 2415, 'stalk': 2416, 'pregnant': 2417, 'forgot': 2418, 'obnoxi': 2419, 'fourth': 2420, 'midnight': 2421, 'belov': 2422, 'carol': 2423, 'slapstick': 2424, 'restor': 2425, 'ticket': 2426, 'magazin': 2427, 'inhabit': 2428, '17': 2429, 'garden': 2430, 'deeper': 2431, 'brad': 2432, 'incid': 2433, 'devot': 2434, 'lincoln': 2435, 'shoe': 2436, 'benefit': 2437, 'disbelief': 2438, 'elizabeth': 2439, 'sandler': 2440, 'anticip': 2441, 'underground': 2442, 'guarante': 2443, 'divorc': 2444, 'maria': 2445, 'lili': 2446, 'capit': 2447, 'princip': 2448, 'bbc': 2449, 'explod': 2450, 'creation': 2451, 'amazingli': 2452, 'cring': 2453, 'slave': 2454, 'greater': 2455, 'mildli': 2456, 'halfway': 2457, 'funnier': 2458, 'extraordinari': 2459, 'lesli': 2460, 'introduct': 2461, 'transfer': 2462, 'enhanc': 2463, 'extent': 2464, 'wreck': 2465, 'advantag': 2466, 'tap': 2467, 'overwhelm': 2468, 'punish': 2469, 'text': 2470, 'lo': 2471, 'horrif': 2472, 'dynam': 2473, 'preview': 2474, 'east': 2475, 'plant': 2476, 'error': 2477, 'lane': 2478, 'deliber': 2479, 'jessica': 2480, 'miller': 2481, '2000': 2482, 'miscast': 2483, 'homosexu': 2484, 'appli': 2485, 'ensu': 2486, 'sophist': 2487, 'vacat': 2488, 'vincent': 2489, 'basi': 2490, 'sleazi': 2491, 'measur': 2492, 'spoken': 2493, 'uncomfort': 2494, 'elev': 2495, 'bollywood': 2496, 'via': 2497, 'reed': 2498, 'mansion': 2499, 'steel': 2500, 'extend': 2501, 'savag': 2502, 'mous': 2503, 'stanley': 2504, 'fix': 2505, 'daili': 2506, 'beer': 2507, 'alter': 2508, 'hippi': 2509, 'conceiv': 2510, 'blair': 2511, 'assign': 2512, 'overact': 2513, 'goofi': 2514, 'cathol': 2515, 'breathtak': 2516, 'melt': 2517, 'dentist': 2518, 'sacrific': 2519, 'oppos': 2520, 'nowaday': 2521, 'inspector': 2522, 'properli': 2523, 'subsequ': 2524, 'burt': 2525, 'carpent': 2526, 'everyday': 2527, 'succe': 2528, 'massacr': 2529, 'circl': 2530, 'block': 2531, 'neck': 2532, 'laura': 2533, 'grey': 2534, 'pool': 2535, 'fay': 2536, 'christi': 2537, 'lesser': 2538, 'access': 2539, 'fallen': 2540, 'concert': 2541, 'portrait': 2542, 'mob': 2543, 'seagal': 2544, 'chees': 2545, 'jewish': 2546, 'competit': 2547, 'react': 2548, 'isol': 2549, 'jake': 2550, 'usa': 2551, 'sinist': 2552, 'relax': 2553, 'stink': 2554, 'nonetheless': 2555, 'spiritu': 2556, 'immens': 2557, 'chop': 2558, 'creep': 2559, 'ironi': 2560, '2006': 2561, 'lyric': 2562, 'appal': 2563, 'nine': 2564, 'suitabl': 2565, 'user': 2566, 'shirt': 2567, 'retir': 2568, 'franchis': 2569, 'sold': 2570, 'spring': 2571, 'nut': 2572, 'needless': 2573, 'rage': 2574, 'showcas': 2575, 'luci': 2576, 'reduc': 2577, 'adopt': 2578, 'navi': 2579, 'uninspir': 2580, 'asham': 2581, 'jay': 2582, 'nurs': 2583, 'zone': 2584, 'bath': 2585, 'bulli': 2586, 'digit': 2587, 'per': 2588, 'stanwyck': 2589, 'broadcast': 2590, '2001': 2591, 'oddli': 2592, 'upper': 2593, 'illustr': 2594, 'laid': 2595, 'sutherland': 2596, 'amongst': 2597, '1940': 2598, 'baker': 2599, 'aspir': 2600, 'fulfil': 2601, 'stylish': 2602, 'brando': 2603, 'throat': 2604, 'disguis': 2605, 'pound': 2606, 'pride': 2607, 'em': 2608, 'wwii': 2609, 'nobl': 2610, 'thief': 2611, 'impli': 2612, 'wanna': 2613, '18': 2614, 'neighborhood': 2615, 'endear': 2616, 'bo': 2617, 'coher': 2618, '16': 2619, 'dawn': 2620, 'shift': 2621, 'tens': 2622, 'prop': 2623, 'dinner': 2624, 'cinematograph': 2625, 'shoulder': 2626, 'bett': 2627, 'diseas': 2628, 'distribut': 2629, 'rochest': 2630, 'albeit': 2631, 'surf': 2632, 'knife': 2633, 'poignant': 2634, 'function': 2635, 'silenc': 2636, 'shout': 2637, 'matthau': 2638, 'snow': 2639, 'wash': 2640, 'contract': 2641, 'forti': 2642, 'rebel': 2643, 'internet': 2644, 'cannib': 2645, 'mindless': 2646, 'widmark': 2647, 'duti': 2648, 'cancel': 2649, 'proof': 2650, 'horrend': 2651, 'henc': 2652, 'chuck': 2653, 'silver': 2654, 'heat': 2655, 'height': 2656, 'instinct': 2657, 'reunion': 2658, 'eeri': 2659, 'derek': 2660, 'elvira': 2661, 'torn': 2662, 'spielberg': 2663, 'premier': 2664, 'pie': 2665, 'innov': 2666, 'greatli': 2667, 'glori': 2668, 'absorb': 2669, 'musician': 2670, 'elvi': 2671, 'alik': 2672, 'etern': 2673, 'mill': 2674, 'neat': 2675, 'repetit': 2676, 'incoher': 2677, 'announc': 2678, 'crisi': 2679, 'redempt': 2680, 'homag': 2681, 'britain': 2682, 'infam': 2683, 'horrifi': 2684, 'blank': 2685, 'fbi': 2686, 'precis': 2687, 'lovabl': 2688, 'trite': 2689, 'bang': 2690, 'itali': 2691, 'wealthi': 2692, 'burton': 2693, 'nelson': 2694, 'racism': 2695, 'diamond': 2696, 'hammer': 2697, 'happili': 2698, 'streisand': 2699, 'resolut': 2700, 'pat': 2701, 'wilder': 2702, 'dedic': 2703, 'helen': 2704, 'ensembl': 2705, 'flop': 2706, 'parallel': 2707, 'chaplin': 2708, 'cube': 2709, 'disagre': 2710, 'conclud': 2711, 'triumph': 2712, 'broke': 2713, 'oil': 2714, 'carter': 2715, 'factori': 2716, 'plastic': 2717, 'st': 2718, 'mar': 2719, 'bush': 2720, 'march': 2721, 'own': 2722, 'weight': 2723, 'climb': 2724, 'vega': 2725, 'rocket': 2726, 'chuckl': 2727, 'row': 2728, 'fighter': 2729, 'dane': 2730, 'thug': 2731, 'luca': 2732, 'boot': 2733, 'unforgett': 2734, 'wherea': 2735, 'meaning': 2736, 'dump': 2737, 'sensibl': 2738, 'mst3k': 2739, 'enorm': 2740, 'lust': 2741, 'kurt': 2742, 'spare': 2743, 'fifti': 2744, 'engin': 2745, 'caricatur': 2746, 'butt': 2747, 'dear': 2748, 'brand': 2749, 'stress': 2750, 'difficulti': 2751, 'threat': 2752, 'rap': 2753, 'bobbi': 2754, 'arnold': 2755, 'adequ': 2756, 'karloff': 2757, 'fest': 2758, 'arrog': 2759, 'journalist': 2760, 'secretari': 2761, 'elabor': 2762, 'ralph': 2763, 'polish': 2764, 'ego': 2765, 'hamlet': 2766, 'swing': 2767, 'homeless': 2768, 'barri': 2769, 'flynn': 2770, 'simpson': 2771, 'induc': 2772, 'unbear': 2773, 'tool': 2774, 'float': 2775, 'fanci': 2776, 'puppet': 2777, 'spike': 2778, 'conspiraci': 2779, 'grate': 2780, 'resort': 2781, 'arrang': 2782, 'exercis': 2783, 'cruis': 2784, 'guilt': 2785, 'boll': 2786, 'basement': 2787, 'phillip': 2788, 'tribut': 2789, 'choreograph': 2790, 'pig': 2791, 'muppet': 2792, 'medium': 2793, 'toilet': 2794, 'ham': 2795, 'item': 2796, 'puzzl': 2797, 'fianc': 2798, 'editor': 2799, 'stan': 2800, 'file': 2801, 'slip': 2802, 'scarecrow': 2803, 'babe': 2804, 'layer': 2805, '24': 2806, 'document': 2807, 'ward': 2808, 'tower': 2809, 'korean': 2810, 'inexplic': 2811, 'librari': 2812, 'orient': 2813, 'minim': 2814, 'doc': 2815, 'superfici': 2816, 'spark': 2817, 'slaughter': 2818, 'glover': 2819, 'portion': 2820, 'assur': 2821, 'denzel': 2822, 'transit': 2823, 'philosoph': 2824, 'persona': 2825, 'territori': 2826, 'larger': 2827, 'catherin': 2828, 'boredom': 2829, 'sneak': 2830, 'walken': 2831, 'curti': 2832, 'owe': 2833, 'jeremi': 2834, 'pg': 2835, 'shi': 2836, 'ban': 2837, 'dorothi': 2838, 'jet': 2839, 'wolf': 2840, 'financi': 2841, 'backdrop': 2842, 'eleph': 2843, 'multi': 2844, 'metaphor': 2845, 'profound': 2846, 'ambigu': 2847, 'hudson': 2848, 'whale': 2849, 'cusack': 2850, '2005': 2851, 'hack': 2852, 'ultra': 2853, 'birthday': 2854, 'viru': 2855, 'notion': 2856, 'stiff': 2857, 'union': 2858, 'rave': 2859, 'elsewher': 2860, 'implaus': 2861, 'gadget': 2862, 'bibl': 2863, 'squar': 2864, 'pad': 2865, 'hawk': 2866, 'lloyd': 2867, 'disc': 2868, 'deriv': 2869, 'afford': 2870, 'urg': 2871, 'poison': 2872, 'distanc': 2873, 'superhero': 2874, 'reader': 2875, 'slight': 2876, '1st': 2877, 'eastwood': 2878, 'newspap': 2879, 'canada': 2880, 'eva': 2881, 'skit': 2882, 'montag': 2883, 'button': 2884, 'health': 2885, 'sadist': 2886, 'spread': 2887, 'essenc': 2888, 'charisma': 2889, 'heston': 2890, 'cure': 2891, 'drown': 2892, 'restaur': 2893, 'huh': 2894, 'scoobi': 2895, 'dealt': 2896, 'invest': 2897, 'maniac': 2898, 'fetch': 2899, 'gradual': 2900, 'peak': 2901, 'estat': 2902, 'godfath': 2903, 'companion': 2904, 'lab': 2905, 'muslim': 2906, 'subtleti': 2907, 'miik': 2908, 'servant': 2909, 'kane': 2910, 'gothic': 2911, 'countless': 2912, 'ritter': 2913, 'tea': 2914, 'alli': 2915, 'cup': 2916, 'elect': 2917, 'heroic': 2918, 'salli': 2919, 'electr': 2920, 'briefli': 2921, 'iii': 2922, 'charismat': 2923, 'nuanc': 2924, 'ingredi': 2925, 'wannab': 2926, 'cole': 2927, 'bud': 2928, 'admittedli': 2929, 'neil': 2930, 'tender': 2931, 'grandmoth': 2932, 'toss': 2933, 'reel': 2934, 'resourc': 2935, 'stood': 2936, 'pauli': 2937, 'punk': 2938, 'gate': 2939, 'pit': 2940, 'kubrick': 2941, 'dawson': 2942, 'stronger': 2943, 'poverti': 2944, 'shall': 2945, 'mild': 2946, 'mafia': 2947, 'label': 2948, 'reev': 2949, 'carrey': 2950, 'terri': 2951, 'updat': 2952, 'tag': 2953, 'cardboard': 2954, 'useless': 2955, 'assault': 2956, 'easier': 2957, 'cox': 2958, 'bakshi': 2959, 'burst': 2960, 'smash': 2961, 'outcom': 2962, 'astair': 2963, 'smooth': 2964, 'ian': 2965, 'fond': 2966, 'fist': 2967, 'coincid': 2968, 'vulner': 2969, '2002': 2970, 'increasingli': 2971, 'divers': 2972, 'rex': 2973, 'melodramat': 2974, 'exchang': 2975, 'qualifi': 2976, 'resolv': 2977, 'sketch': 2978, 'vari': 2979, 'samurai': 2980, 'blast': 2981, 'conveni': 2982, 'luckili': 2983, 'suspend': 2984, 'scratch': 2985, 'reynold': 2986, 'tame': 2987, 'brillianc': 2988, 'be': 2989, 'insert': 2990, 'templ': 2991, 'walker': 2992, 'ambiti': 2993, 'coach': 2994, 'pin': 2995, 'soprano': 2996, 'matthew': 2997, 'gotta': 2998, 'farm': 2999, 'strictli': 3000, 'nuclear': 3001, 'meat': 3002, 'jami': 3003, 'hamilton': 3004, 'fisher': 3005, 'seventi': 3006, 'grasp': 3007, 'empir': 3008, 'worthless': 3009, 'struck': 3010, 'butcher': 3011, 'instantli': 3012, 'monk': 3013, 'convolut': 3014, 'closet': 3015, 'revers': 3016, 'clock': 3017, 'brosnan': 3018, 'kudo': 3019, 'spooki': 3020, 'cave': 3021, 'discoveri': 3022, 'timeless': 3023, 'ninja': 3024, 'recreat': 3025, 'joey': 3026, 'eccentr': 3027, 'seller': 3028, 'fifteen': 3029, 'importantli': 3030, 'evok': 3031, 'eighti': 3032, 'clown': 3033, 'partli': 3034, 'cliff': 3035, 'miracl': 3036, 'inconsist': 3037, 'wipe': 3038, 'pal': 3039, 'gray': 3040, 'sidekick': 3041, 'mitchel': 3042, 'norman': 3043, 'selfish': 3044, 'bleak': 3045, 'declar': 3046, 'communist': 3047, 'sloppi': 3048, 'destin': 3049, '45': 3050, 'flawless': 3051, 'superbl': 3052, 'cheek': 3053, 'piano': 3054, 'psychiatrist': 3055, 'aforement': 3056, 'lifestyl': 3057, 'debat': 3058, 'ho': 3059, 'seed': 3060, 'australia': 3061, 'farc': 3062, 'chew': 3063, 'websit': 3064, 'enthusiast': 3065, 'stoog': 3066, 'slice': 3067, 'splatter': 3068, 'directori': 3069, 'wrestl': 3070, 'abc': 3071, 'drivel': 3072, 'dire': 3073, 'bash': 3074, 'pressur': 3075, 'anni': 3076, 'wick': 3077, 'soviet': 3078, 'emili': 3079, 'kitchen': 3080, 'incompet': 3081, 'regardless': 3082, 'dash': 3083, 'akshay': 3084, 'doo': 3085, 'boil': 3086, 'suppli': 3087, 'beaten': 3088, 'pleasantli': 3089, 'chapter': 3090, 'glow': 3091, 'flower': 3092, 'jar': 3093, 'blob': 3094, 'dave': 3095, 'duo': 3096, 'prize': 3097, 'recov': 3098, 'curios': 3099, 'distant': 3100, 'cameron': 3101, 'artifici': 3102, 'seduc': 3103, 'increas': 3104, 'helicopt': 3105, 'lou': 3106, 'ken': 3107, 'mann': 3108, 'cia': 3109, 'cagney': 3110, 'judi': 3111, 'favour': 3112, 'ranger': 3113, 'eleg': 3114, 'drunken': 3115, 'goldberg': 3116, 'splendid': 3117, 'francisco': 3118, 'web': 3119, 'hop': 3120, 'craig': 3121, 'perri': 3122, 'laurel': 3123, 'combat': 3124, 'psychot': 3125, 'panic': 3126, 'turner': 3127, 'craven': 3128, 'ellen': 3129, 'glenn': 3130, 'greek': 3131, 'rid': 3132, 'shortli': 3133, 'philosophi': 3134, 'falk': 3135, 'hatr': 3136, 'gentl': 3137, 'fx': 3138, 'slightest': 3139, 'min': 3140, 'plausibl': 3141, 'wizard': 3142, 'graduat': 3143, 'ruth': 3144, 'flip': 3145, 'gandhi': 3146, '20th': 3147, 'alexand': 3148, 'modesti': 3149, 'manhattan': 3150, 'unpleas': 3151, 'tall': 3152, 'futurist': 3153, 'ocean': 3154, 'jealou': 3155, 'we': 3156, 'preciou': 3157, 'fund': 3158, 'harm': 3159, 'legal': 3160, 'dracula': 3161, 'lend': 3162, 'felix': 3163, 'knight': 3164, 'holi': 3165, 'thread': 3166, 'bless': 3167, 'explicit': 3168, 'ami': 3169, 'digniti': 3170, 'mock': 3171, 'reviv': 3172, 'giallo': 3173, 'childish': 3174, 'nod': 3175, 'scientif': 3176, 'overdon': 3177, 'tank': 3178, 'forbidden': 3179, 'torment': 3180, 'repeatedli': 3181, 'awaken': 3182, 'fever': 3183, 'unwatch': 3184, 'elderli': 3185, 'nerv': 3186, 'thick': 3187, 'verhoeven': 3188, 'yesterday': 3189, '99': 3190, '2004': 3191, 'margaret': 3192, 'eve': 3193, 'pirat': 3194, 'broad': 3195, 'awe': 3196, 'mel': 3197, 'romero': 3198, 'kay': 3199, 'royal': 3200, 'ah': 3201, 'rivet': 3202, 'lean': 3203, 'publish': 3204, 'launch': 3205, 'automat': 3206, 'eas': 3207, 'timothi': 3208, 'bin': 3209, 'absenc': 3210, 'acclaim': 3211, 'politician': 3212, 'custom': 3213, 'roman': 3214, 'uniform': 3215, 'griffith': 3216, 'ambit': 3217, 'stiller': 3218, 'crook': 3219, 'pulp': 3220, 'transport': 3221, 'sunshin': 3222, 'darker': 3223, 'antic': 3224, 'pierc': 3225, 'purpl': 3226, 'wallac': 3227, 'termin': 3228, 'stinker': 3229, 'tomato': 3230, 'bathroom': 3231, 'foul': 3232, 'warren': 3233, 'phrase': 3234, 'homicid': 3235, 'gabriel': 3236, 'ought': 3237, 'li': 3238, 'kenneth': 3239, 'revolutionari': 3240, 'karen': 3241, '2003': 3242, 'album': 3243, 'hollow': 3244, 'prom': 3245, 'brazil': 3246, 'saint': 3247, 'pray': 3248, 'horrid': 3249, 'contrari': 3250, 'viciou': 3251, 'juvenil': 3252, 'sixti': 3253, 'coloni': 3254, 'awak': 3255, 'choreographi': 3256, 'packag': 3257, 'donna': 3258, 'marin': 3259, 'rambo': 3260, 'eyr': 3261, 'q': 3262, 'evolv': 3263, 'stole': 3264, 'candid': 3265, 'defi': 3266, 'dose': 3267, 'nerd': 3268, 'beatti': 3269, 'ireland': 3270, 'conserv': 3271, 'option': 3272, 'twelv': 3273, 'blade': 3274, 'overr': 3275, 'mummi': 3276, 'boast': 3277, 'kapoor': 3278, 'ramon': 3279, 'mildr': 3280, 'natali': 3281, 'astonish': 3282, 'global': 3283, 'flame': 3284, 'fulci': 3285, 'kirk': 3286, 'funer': 3287, 'jazz': 3288, 'confirm': 3289, 'trio': 3290, 'protest': 3291, 'collabor': 3292, 'altman': 3293, 'detract': 3294, 'bottl': 3295, 'delici': 3296, 'destini': 3297, 'audio': 3298, 'tommi': 3299, 'leap': 3300, 'nicholson': 3301, 'mystic': 3302, 'shade': 3303, 'bull': 3304, 'spit': 3305, 'blake': 3306, 'racial': 3307, 'yellow': 3308, 'whip': 3309, 'enterpris': 3310, 'inherit': 3311, 'visibl': 3312, 'threw': 3313, 'adolesc': 3314, 'altogeth': 3315, 'bedroom': 3316, 'fonda': 3317, 'meaningless': 3318, 'todd': 3319, 'pseudo': 3320, 'vivid': 3321, 'harder': 3322, 'merci': 3323, 'reunit': 3324, 'swedish': 3325, 'neo': 3326, 'popcorn': 3327, 'enchant': 3328, 'staff': 3329, 'crocodil': 3330, 'ruthless': 3331, 'respond': 3332, 'kennedi': 3333, 'lawrenc': 3334, 'roommat': 3335, 'voight': 3336, 'reserv': 3337, 'wire': 3338, 'leonard': 3339, 'moodi': 3340, 'synopsi': 3341, 'suspici': 3342, 'decor': 3343, 'tip': 3344, 'fanat': 3345, 'atlanti': 3346, 'uneven': 3347, 'befriend': 3348, 'jew': 3349, 'bust': 3350, 'lemmon': 3351, 'await': 3352, 'exhibit': 3353, 'madonna': 3354, 'edi': 3355, 'bold': 3356, 'holli': 3357, 'abysm': 3358, 'dimens': 3359, 'audit': 3360, 'chao': 3361, 'clumsi': 3362, 'bargain': 3363, 'palma': 3364, 'incident': 3365, 'voyag': 3366, 'garner': 3367, 'clint': 3368, 'ventur': 3369, 'carl': 3370, 'bradi': 3371, 'centr': 3372, 'rural': 3373, '2007': 3374, 'unsettl': 3375, 'acknowledg': 3376, 'ant': 3377, 'humili': 3378, 'cuba': 3379, 'trail': 3380, 'characterist': 3381, 'cari': 3382, '2nd': 3383, 'daddi': 3384, 'echo': 3385, 'poetic': 3386, 'wealth': 3387, 'tiger': 3388, 'timon': 3389, 'nearbi': 3390, 'elimin': 3391, 'troop': 3392, 'immigr': 3393, 'mall': 3394, 'imperson': 3395, 'cd': 3396, 'neglect': 3397, 'lit': 3398, 'versu': 3399, 'hart': 3400, 'pun': 3401, 'collaps': 3402, 'celluloid': 3403, 'jeffrey': 3404, 'paus': 3405, 'domest': 3406, 'infect': 3407, 'mistaken': 3408, 'solo': 3409, 'mickey': 3410, 'homer': 3411, 'prejudic': 3412, 'repuls': 3413, 'saga': 3414, 'marshal': 3415, 'chest': 3416, 'milk': 3417, '1996': 3418, 'tribe': 3419, 'inappropri': 3420, 'interrupt': 3421, 'undoubtedli': 3422, 'assembl': 3423, 'equip': 3424, 'cake': 3425, 'apolog': 3426, 'hbo': 3427, 'harvey': 3428, 'inan': 3429, 'ginger': 3430, 'sore': 3431, 'promin': 3432, 'coffe': 3433, 'pant': 3434, 'olivi': 3435, 'gear': 3436, 'leon': 3437, 'coat': 3438, 'aveng': 3439, 'pen': 3440, 'jenni': 3441, 'exot': 3442, 'primari': 3443, 'highest': 3444, 'humbl': 3445, 'instant': 3446, 'retain': 3447, 'consum': 3448, 'pot': 3449, 'furthermor': 3450, 'solut': 3451, 'brooklyn': 3452, 'vulgar': 3453, 'colonel': 3454, 'colleagu': 3455, 'embrac': 3456, 'florida': 3457, 'devast': 3458, 'institut': 3459, 'maggi': 3460, 'polanski': 3461, 'airplan': 3462, 'trace': 3463, 'ya': 3464, 'principl': 3465, 'outer': 3466, 'bowl': 3467, 'descend': 3468, 'cope': 3469, 'dutch': 3470, 'seduct': 3471, 'gender': 3472, 'wive': 3473, 'smaller': 3474, 'sale': 3475, 'rick': 3476, 'illog': 3477, '1999': 3478, 'strain': 3479, 'poke': 3480, 'linda': 3481, 'disabl': 3482, '3rd': 3483, 'godzilla': 3484, 'dian': 3485, 'scope': 3486, 'mixtur': 3487, 'inferior': 3488, 'glamor': 3489, 'vast': 3490, 'cue': 3491, 'bubbl': 3492, 'hal': 3493, 'devoid': 3494, 'dud': 3495, 'primarili': 3496, 'secondli': 3497, 'rabbit': 3498, 'lol': 3499, 'beneath': 3500, 'predecessor': 3501, 'dive': 3502, 'yard': 3503, 'blatant': 3504, 'gundam': 3505, 'gloriou': 3506, 'museum': 3507, 'senseless': 3508, 'hideou': 3509, 'invas': 3510, 'pearl': 3511, 'casual': 3512, 'talki': 3513, 'alert': 3514, 'aggress': 3515, 'shirley': 3516, 'trademark': 3517, 'myer': 3518, 'arab': 3519, 'april': 3520, 'et': 3521, 'garbo': 3522, 'disjoint': 3523, 'shelf': 3524, 'countrysid': 3525, 'simplist': 3526, 'z': 3527, 'breed': 3528, 'alfr': 3529, 'domino': 3530, 'grinch': 3531, 'streep': 3532, 'obtain': 3533, 'defens': 3534, 'rendit': 3535, 'robberi': 3536, 'applaud': 3537, 'khan': 3538, 'robinson': 3539, 'uwe': 3540, 'stir': 3541, 'disgrac': 3542, 'unhappi': 3543, 'stack': 3544, 'mail': 3545, 'experiment': 3546, 'hopeless': 3547, 'sh': 3548, 'slide': 3549, 'vanish': 3550, 'maci': 3551, 'loyal': 3552, 'mayor': 3553, 'illeg': 3554, 'oz': 3555, 'stellar': 3556, 'acid': 3557, 'boom': 3558, 'hardcor': 3559, 'fri': 3560, 'amanda': 3561, 'craze': 3562, 'topless': 3563, 'soccer': 3564, 'span': 3565, 'hartley': 3566, 'diana': 3567, 'blew': 3568, 'grandfath': 3569, 'dismiss': 3570, 'incomprehens': 3571, 'emphasi': 3572, 'recruit': 3573, 'spider': 3574, 'berlin': 3575, 'tempt': 3576, 'counter': 3577, 'wont': 3578, 'rifl': 3579, 'psychic': 3580, 'scroog': 3581, 'declin': 3582, 'dicken': 3583, 'tenant': 3584, 'wet': 3585, 'trashi': 3586, 'woo': 3587, 'sibl': 3588, 'parad': 3589, 'faster': 3590, 'lumet': 3591, 'intim': 3592, 'sympath': 3593, 'resurrect': 3594, 'revolt': 3595, 'porno': 3596, 'riot': 3597, 'shed': 3598, 'justin': 3599, 'goer': 3600, 'ethnic': 3601, 'shaw': 3602, 'ration': 3603, 'bitch': 3604, 'niro': 3605, 'nephew': 3606, 'wheel': 3607, 'feminist': 3608, 'worm': 3609, 'patriot': 3610, 'eager': 3611, 'honesti': 3612, 'ensur': 3613, 'commend': 3614, 'andr': 3615, 'immort': 3616, 'partial': 3617, '00': 3618, 'rider': 3619, 'ballet': 3620, 'slick': 3621, 'steam': 3622, 'lena': 3623, 'weakest': 3624, 'hesit': 3625, 'dealer': 3626, 'gap': 3627, 'jonathan': 3628, 'enlighten': 3629, 'biographi': 3630, 'region': 3631, 'hopper': 3632, 'farmer': 3633, 'choru': 3634, 'unreal': 3635, 'mario': 3636, 'wendi': 3637, 'prequel': 3638, 'skull': 3639, 'mutant': 3640, 'util': 3641, 'properti': 3642, 'similarli': 3643, 'nostalg': 3644, 'morri': 3645, 'repress': 3646, 'leo': 3647, 'hung': 3648, 'composit': 3649, 'psychopath': 3650, 'owen': 3651, 'safeti': 3652, 'confin': 3653, 'snap': 3654, 'sandra': 3655, 'blunt': 3656, 'sappi': 3657, 'charlott': 3658, 'vice': 3659, 'franco': 3660, 'wore': 3661, 'kingdom': 3662, 'victori': 3663, 'macarthur': 3664, 'bow': 3665, 'drum': 3666, 'tad': 3667, 'pattern': 3668, 'del': 3669, 'acquir': 3670, 'latin': 3671, 'whoopi': 3672, 'snl': 3673, 'compass': 3674, 'rope': 3675, 'deed': 3676, 'campbel': 3677, 'miseri': 3678, '1972': 3679, 'rambl': 3680, 'bergman': 3681, 'nervou': 3682, 'bumbl': 3683, 'tail': 3684, 'despair': 3685, 'kyle': 3686, 'valuabl': 3687, 'recycl': 3688, 'bonu': 3689, 'emperor': 3690, 'dust': 3691, 'cg': 3692, 'repli': 3693, 'heartbreak': 3694, 'compens': 3695, 'drain': 3696, 'hyde': 3697, 'rocki': 3698, 'exit': 3699, 'montana': 3700, 'dalton': 3701, 'strand': 3702, 'speci': 3703, 'thru': 3704, 'farrel': 3705, 'rapist': 3706, 'gimmick': 3707, 'contempl': 3708, 'carradin': 3709, 'downhil': 3710, 'percept': 3711, '35': 3712, 'pour': 3713, 'olli': 3714, 'tonight': 3715, 'martian': 3716, 'romp': 3717, 'roth': 3718, 'da': 3719, 'gal': 3720, 'oppress': 3721, 'wacki': 3722, 'chess': 3723, 'rotten': 3724, 'orson': 3725, 'mistress': 3726, 'slug': 3727, 'airport': 3728, 'bleed': 3729, 'radic': 3730, 'pursuit': 3731, 'pervers': 3732, 'mislead': 3733, 'unpredict': 3734, 'slash': 3735, 'pervert': 3736, 'tackl': 3737, 'dazzl': 3738, 'melodi': 3739, 'belt': 3740, 'preach': 3741, 'arc': 3742, 'arguabl': 3743, 'champion': 3744, 'programm': 3745, 'taught': 3746, 'banal': 3747, 'heal': 3748, 'paltrow': 3749, 'attorney': 3750, 'edgar': 3751, 'shelley': 3752, '1983': 3753, 'tooth': 3754, 'stilt': 3755, 'vengeanc': 3756, 'chicken': 3757, 'passeng': 3758, 'orang': 3759, 'vocal': 3760, 'plight': 3761, 'mesmer': 3762, 'sensat': 3763, 'dixon': 3764, 'closest': 3765, 'uplift': 3766, 'maid': 3767, 'graham': 3768, 'employe': 3769, 'poem': 3770, 'cleverli': 3771, 'virginia': 3772, 'raymond': 3773, 'conneri': 3774, 'rubi': 3775, 'duval': 3776, 'bela': 3777, 'gambl': 3778, 'tiresom': 3779, 'marti': 3780, 'franki': 3781, 'mute': 3782, 'profan': 3783, 'monologu': 3784, 'crystal': 3785, 'quarter': 3786, '1968': 3787, 'amitabh': 3788, 'habit': 3789, 'clone': 3790, 'sirk': 3791, 'convincingli': 3792, 'pokemon': 3793, 'secretli': 3794, 'outing': 3795, 'whine': 3796, 'climact': 3797, 'lundgren': 3798, 'paranoia': 3799, 'swallow': 3800, 'giggl': 3801, 'bay': 3802, 'yawn': 3803, 'engross': 3804, 'extens': 3805, 'suffic': 3806, 'iran': 3807, 'abraham': 3808, 'numb': 3809, 'volum': 3810, 'inject': 3811, 'tube': 3812, 'calm': 3813, 'gerard': 3814, 'scottish': 3815, 'trend': 3816, 'surpass': 3817, 'fed': 3818, 'ethan': 3819, 'grotesqu': 3820, 'earl': 3821, 'richardson': 3822, 'backward': 3823, 'abort': 3824, 'frankenstein': 3825, 'chicago': 3826, 'bend': 3827, 'linger': 3828, 'junior': 3829, 'poetri': 3830, 'dispos': 3831, 'austen': 3832, 'expand': 3833, 'taxi': 3834, 'plod': 3835, 'lowest': 3836, 'spock': 3837, 'underst': 3838, 'nichola': 3839, 'profess': 3840, 'im': 3841, 'franci': 3842, 'septemb': 3843, 'meander': 3844, 'myth': 3845, 'instrument': 3846, 'cannon': 3847, 'dysfunct': 3848, 'literatur': 3849, 'catchi': 3850, 'lure': 3851, 'econom': 3852, 'descent': 3853, 'waitress': 3854, 'compliment': 3855, 'tourist': 3856, 'hum': 3857, 'household': 3858, 'spoke': 3859, 'muddl': 3860, 'stallon': 3861, 'rubber': 3862, 'nostalgia': 3863, 'sue': 3864, 'rant': 3865, 'greedi': 3866, 'simplic': 3867, 'mundan': 3868, 'eugen': 3869, 'der': 3870, 'occupi': 3871, 'hello': 3872, 'dement': 3873, 'phoni': 3874, 'randi': 3875, 'firstli': 3876, 'phantom': 3877, 'recognis': 3878, 'furi': 3879, 'duck': 3880, 'mankind': 3881, 'insur': 3882, 'omen': 3883, 'recognit': 3884, 'sissi': 3885, 'louis': 3886, 'irrelev': 3887, 'damon': 3888, 'coast': 3889, 'stale': 3890, 'lang': 3891, 'flee': 3892, 'mortal': 3893, 'bacal': 3894, 'molli': 3895, 'equival': 3896, 'alongsid': 3897, 'cent': 3898, 'june': 3899, 'map': 3900, 'eaten': 3901, 'deaf': 3902, 'crucial': 3903, 'dictat': 3904, 'carel': 3905, 'loyalti': 3906, 'freez': 3907, 'reign': 3908, 'newli': 3909, 'daisi': 3910, 'buffalo': 3911, 'likewis': 3912, 'onlin': 3913, 'labor': 3914, 'bump': 3915, '1973': 3916, 'grayson': 3917, 'rude': 3918, 'heel': 3919, 'dreari': 3920, 'drake': 3921, 'lengthi': 3922, 'ashley': 3923, 'damm': 3924, 'bike': 3925, 'wisdom': 3926, 'antwon': 3927, 'distinguish': 3928, 'rooney': 3929, 'blackmail': 3930, 'twilight': 3931, 'cyborg': 3932, 'biko': 3933, 'interior': 3934, 'basketbal': 3935, 'startl': 3936, 'prey': 3937, 'barrymor': 3938, 'incorpor': 3939, 'proce': 3940, 'boxer': 3941, 'exposur': 3942, 'keith': 3943, 'pink': 3944, 'butler': 3945, 'sailor': 3946, 'inher': 3947, 'worn': 3948, 'ridden': 3949, 'chronicl': 3950, 'approv': 3951, 'tunnel': 3952, 'emphas': 3953, 'vein': 3954, 'baddi': 3955, 'provoc': 3956, 'unorigin': 3957, 'attribut': 3958, 'nineti': 3959, 'analysi': 3960, 'predat': 3961, 'belushi': 3962, 'mighti': 3963, 'substitut': 3964, 'fleet': 3965, 'millionair': 3966, 'barrel': 3967, 'drift': 3968, 'unrel': 3969, 'hypnot': 3970, 'improvis': 3971, 'condemn': 3972, 'undeni': 3973, 'degrad': 3974, 'er': 3975, 'underli': 3976, 'indiffer': 3977, 'walsh': 3978, 'meg': 3979, 'meyer': 3980, 'elm': 3981, 'mormon': 3982, 'stalker': 3983, 'othello': 3984, 'bunni': 3985, 'nicol': 3986, 'robbin': 3987, 'julian': 3988, 'simmon': 3989, 'carla': 3990, 'unawar': 3991, '3d': 3992, 'firm': 3993, 'lampoon': 3994, 'edgi': 3995, 'mtv': 3996, 'alison': 3997, 'disord': 3998, 'agenda': 3999, 'hay': 4000, 'alarm': 4001, 'vital': 4002, 'shove': 4003, 'priceless': 4004, 'roof': 4005, 'nyc': 4006, 'warmth': 4007, 'palac': 4008, 'enthusiasm': 4009, 'dolph': 4010, 'watson': 4011, 'exquisit': 4012, 'greed': 4013, 'marion': 4014, 'rukh': 4015, 'reid': 4016, 'errol': 4017, 'novak': 4018, 'orlean': 4019, 'petti': 4020, 'championship': 4021, 'thompson': 4022, '13th': 4023, 'simultan': 4024, 'showdown': 4025, 'glanc': 4026, 'iraq': 4027, 'distort': 4028, 'campaign': 4029, 'peril': 4030, 'drip': 4031, 'israel': 4032, 'testament': 4033, 'peck': 4034, 'coup': 4035, 'gestur': 4036, 'crown': 4037, 'profit': 4038, 'sergeant': 4039, 'cassidi': 4040, 'nun': 4041, 'randomli': 4042, 'unleash': 4043, 'pamela': 4044, 'spain': 4045, 'angela': 4046, 'what': 4047, 'eastern': 4048, '1933': 4049, 'valentin': 4050, 'minimum': 4051, 'session': 4052, 'ponder': 4053, 'preserv': 4054, 'beatl': 4055, 'zizek': 4056, 'shootout': 4057, 'stake': 4058, 'wig': 4059, 'climat': 4060, 'contradict': 4061, 'realm': 4062, 'quinn': 4063, 'empathi': 4064, 'mon': 4065, 'calib': 4066, '1984': 4067, 'buster': 4068, 'miyazaki': 4069, 'rout': 4070, 'sabrina': 4071, 'exposit': 4072, 'cooki': 4073, 'travesti': 4074, 'regist': 4075, 'crow': 4076, 'reson': 4077, 'jan': 4078, 'din': 4079, 'unimagin': 4080, 'bro': 4081, 'crawl': 4082, 'brenda': 4083, 'scotland': 4084, 'han': 4085, 'perpetu': 4086, 'valley': 4087, 'stroke': 4088, 'restrain': 4089, 'represent': 4090, 'gentleman': 4091, 'cream': 4092, 'kurosawa': 4093, 'fido': 4094, 'delic': 4095, 'abomin': 4096, 'fuller': 4097, '1997': 4098, 'shaki': 4099, 'greg': 4100, 'geek': 4101, 'distress': 4102, 'baldwin': 4103, 'censor': 4104, 'soderbergh': 4105, 'stargat': 4106, 'shoddi': 4107, '1987': 4108, 'unsatisfi': 4109, 'tacki': 4110, 'absent': 4111, 'unseen': 4112, 'painter': 4113, 'passabl': 4114, 'traumat': 4115, 'monoton': 4116, 'derang': 4117, 'businessman': 4118, 'perceiv': 4119, 'spacey': 4120, 'demis': 4121, 'dana': 4122, 'warrant': 4123, 'mclaglen': 4124, 'pretens': 4125, 'josh': 4126, 'femm': 4127, 'sucker': 4128, 'ustinov': 4129, 'cloud': 4130, 'ross': 4131, 'compromis': 4132, 'wax': 4133, 'darren': 4134, 'sammi': 4135, 'meryl': 4136, 'crawford': 4137, 'pole': 4138, 'tech': 4139, 'polici': 4140, 'deniro': 4141, 'verbal': 4142, 'unravel': 4143, 'fenc': 4144, 'nathan': 4145, 'clash': 4146, 'wholli': 4147, 'judgment': 4148, '1993': 4149, 'uncov': 4150, 'kumar': 4151, 'fog': 4152, 'accuraci': 4153, 'reluct': 4154, 'anchor': 4155, 'norm': 4156, 'dee': 4157, 'jewel': 4158, 'expedit': 4159, 'antonioni': 4160, 'tarantino': 4161, 'valid': 4162, 'seal': 4163, 'click': 4164, 'primit': 4165, 'exclus': 4166, 'austin': 4167, 'correctli': 4168, 'deceas': 4169, 'sid': 4170, 'furiou': 4171, 'slam': 4172, 'murray': 4173, 'sheet': 4174, 'alec': 4175, '1995': 4176, 'trait': 4177, 'mode': 4178, 'hallucin': 4179, '3000': 4180, 'behold': 4181, 'patienc': 4182, 'nicola': 4183, 'joel': 4184, 'malon': 4185, 'clerk': 4186, 'dreck': 4187, 'conduct': 4188, '1971': 4189, 'ritual': 4190, 'enforc': 4191, 'shanghai': 4192, 'wretch': 4193, 'fought': 4194, 'pocket': 4195, 'darn': 4196, 'tax': 4197, '2008': 4198, 'fabric': 4199, 'sustain': 4200, 'seldom': 4201, 'bake': 4202, 'temper': 4203, 'sand': 4204, 'unfair': 4205, 'debt': 4206, 'roller': 4207, 'logan': 4208, 'crippl': 4209, 'sunni': 4210, 'fart': 4211, 'vanc': 4212, 'wang': 4213, 'soup': 4214, 'canyon': 4215, 'shell': 4216, 'tactic': 4217, 'schedul': 4218, 'stuart': 4219, 'penni': 4220, 'squad': 4221, 'legaci': 4222, 'preston': 4223, 'critiqu': 4224, 'exhaust': 4225, 'divid': 4226, 'conscious': 4227, 'bridget': 4228, 'stark': 4229, 'technicolor': 4230, 'fundament': 4231, 'phil': 4232, 'outlin': 4233, 'bias': 4234, 'clau': 4235, 'helpless': 4236, 'despis': 4237, 'grief': 4238, 'rita': 4239, 'guitar': 4240, 'pete': 4241, 'isabel': 4242, 'scriptwrit': 4243, 'sweep': 4244, 'runner': 4245, 'preposter': 4246, 'robber': 4247, 'sentinel': 4248, 'alicia': 4249, 'rehash': 4250, 'unexpectedli': 4251, 'inabl': 4252, 'lacklust': 4253, 'marc': 4254, 'culmin': 4255, 'cigarett': 4256, 'bloom': 4257, 'alley': 4258, 'drove': 4259, 'jacket': 4260, 'agenc': 4261, 'vomit': 4262, 'sugar': 4263, 'flair': 4264, 'kansa': 4265, 'newman': 4266, 'gregori': 4267, 'invad': 4268, 'rear': 4269, 'delv': 4270, 'implic': 4271, 'connor': 4272, 'palanc': 4273, 'passag': 4274, 'propos': 4275, 'restrict': 4276, 'sniper': 4277, 'consciou': 4278, 'downey': 4279, 'liberti': 4280, 'boyl': 4281, 'russia': 4282, 'jodi': 4283, 'arrow': 4284, 'asylum': 4285, 'rod': 4286, 'cap': 4287, 'chainsaw': 4288, 'behaviour': 4289, 'awhil': 4290, 'delet': 4291, 'feat': 4292, 'wrench': 4293, 'horn': 4294, 'improb': 4295, 'rampag': 4296, 'sharon': 4297, 'bacon': 4298, 'vet': 4299, '22': 4300, '1936': 4301, 'lush': 4302, 'mccoy': 4303, 'tripe': 4304, 'tendenc': 4305, 'karl': 4306, 'aesthet': 4307, 'ladder': 4308, 'rehears': 4309, 'foxx': 4310, 'pale': 4311, 'yeti': 4312, 'kolchak': 4313, 'underneath': 4314, 'amazon': 4315, 'tasteless': 4316, 'hungri': 4317, 'minu': 4318, 'shortcom': 4319, 'lurk': 4320, 'hackney': 4321, 'newcom': 4322, 'rumor': 4323, 'paramount': 4324, 'tomorrow': 4325, '1978': 4326, 'conscienc': 4327, 'hulk': 4328, 'spice': 4329, 'elit': 4330, 'weav': 4331, 'globe': 4332, 'basing': 4333, 'prank': 4334, 'sung': 4335, 'suffici': 4336, '1988': 4337, 'aristocrat': 4338, 'fright': 4339, 'el': 4340, 'stream': 4341, 'paradis': 4342, 'suspicion': 4343, 'rhythm': 4344, 'loneli': 4345, 'thunderbird': 4346, 'wildli': 4347, 'scoop': 4348, 'financ': 4349, 'coaster': 4350, '1920': 4351, 'filler': 4352, '19th': 4353, 'visitor': 4354, 'wagner': 4355, 'literari': 4356, 'paxton': 4357, 'secondari': 4358, 'rub': 4359, 'dirt': 4360, 'en': 4361, 'heist': 4362, '1989': 4363, 'choppi': 4364, 'standout': 4365, 'beverli': 4366, 'leigh': 4367, 'posey': 4368, 'entranc': 4369, 'atroc': 4370, 'minist': 4371, 'teas': 4372, 'immers': 4373, 'grudg': 4374, 'quietli': 4375, 'bread': 4376, 'abrupt': 4377, 'counterpart': 4378, 'impos': 4379, 'penn': 4380, 'couch': 4381, '1939': 4382, 'curli': 4383, 'hopkin': 4384, 'naughti': 4385, 'chamberlain': 4386, 'smell': 4387, 'ram': 4388, 'straightforward': 4389, 'ingeni': 4390, 'lectur': 4391, 'wwe': 4392, '75': 4393, 'inmat': 4394, 'worship': 4395, 'springer': 4396, 'tierney': 4397, 'cancer': 4398, 'recogniz': 4399, 'brit': 4400, 'chavez': 4401, 'iv': 4402, 'transcend': 4403, 'policeman': 4404, 'enthral': 4405, 'nolan': 4406, 'variat': 4407, 'net': 4408, '1986': 4409, 'injuri': 4410, 'ratso': 4411, 'heartfelt': 4412, 'misguid': 4413, 'nemesi': 4414, 'laurenc': 4415, 'quaid': 4416, 'convert': 4417, 'skeptic': 4418, 'entitl': 4419, 'yearn': 4420, 'duel': 4421, 'morbid': 4422, 'ace': 4423, 'moreov': 4424, 'cattl': 4425, 'missil': 4426, 'sassi': 4427, 'lindsay': 4428, 'geni': 4429, 'sublim': 4430, 'watcher': 4431, 'attenborough': 4432, 'bernard': 4433, 'clan': 4434, 'esther': 4435, 'kitti': 4436, 'cruelti': 4437, 'buzz': 4438, 'graini': 4439, 'spiral': 4440, 'enabl': 4441, 'grin': 4442, 'hk': 4443, 'rosemari': 4444, 'dont': 4445, 'reliabl': 4446, 'tyler': 4447, 'bye': 4448, 'egg': 4449, 'puppi': 4450, 'characteris': 4451, 'unexplain': 4452, 'obstacl': 4453, 'brood': 4454, 'steadi': 4455, 'poe': 4456, 'hopelessli': 4457, 'uncut': 4458, 'carlito': 4459, 'youngest': 4460, 'mytholog': 4461, 'out': 4462, 'facil': 4463, 'diari': 4464, 'moder': 4465, '1979': 4466, 'artsi': 4467, 'bean': 4468, 'vader': 4469, 'setup': 4470, 'kidman': 4471, 'disastr': 4472, 'bounc': 4473, 'spontan': 4474, 'clueless': 4475, 'hammi': 4476, 'fuel': 4477, 'acquaint': 4478, 'underworld': 4479, 'niec': 4480, 'baffl': 4481, 'brendan': 4482, '1969': 4483, 'despic': 4484, 'bronson': 4485, 'preming': 4486, 'effici': 4487, 'patricia': 4488, 'bewar': 4489, 'exterior': 4490, 'decept': 4491, 'weather': 4492, 'gillian': 4493, 'oblig': 4494, 'kline': 4495, 'narrow': 4496, 'heap': 4497, 'martha': 4498, 'athlet': 4499, 'gina': 4500, 'sweat': 4501, 'hain': 4502, 'christin': 4503, 'analyz': 4504, 'suprem': 4505, 'shatter': 4506, 'astound': 4507, 'headach': 4508, 'injur': 4509, 'uh': 4510, 'sooner': 4511, 'goof': 4512, 'scar': 4513, 'lester': 4514, 'preachi': 4515, 'candl': 4516, 'circu': 4517, 'biker': 4518, 'hepburn': 4519, 'angst': 4520, 'rome': 4521, 'taboo': 4522, '73': 4523, 'trigger': 4524, 'insipid': 4525, 'virtu': 4526, 'loath': 4527, 'mermaid': 4528, 'enlist': 4529, 'mayhem': 4530, 'housewif': 4531, 'harmless': 4532, 'dilemma': 4533, '19': 4534, 'tick': 4535, 'outlaw': 4536, 'viewpoint': 4537, 'renaiss': 4538, 'sleepwalk': 4539, 'fontain': 4540, 'loi': 4541, 'dandi': 4542, 'macho': 4543, 'intric': 4544, 'filth': 4545, 'stair': 4546, 'redund': 4547, 'dish': 4548, 'whore': 4549, 'idol': 4550, 'tripl': 4551, 'hokey': 4552, 'stimul': 4553, 'salt': 4554, 'immatur': 4555, 'surgeri': 4556, 'guin': 4557, 'hooker': 4558, 'spade': 4559, 'bent': 4560, 'dismal': 4561, 'slimi': 4562, 'hostag': 4563, 'ebert': 4564, 'contempt': 4565, 'overlong': 4566, 'boston': 4567, 'oldest': 4568, 'claustrophob': 4569, 'phenomenon': 4570, 'amor': 4571, 'steer': 4572, 'glorifi': 4573, 'scorses': 4574, 'camcord': 4575, 'zoom': 4576, 'gere': 4577, 'foolish': 4578, 'ariel': 4579, 'cassavet': 4580, 'fluff': 4581, 'sox': 4582, 'corbett': 4583, 'shred': 4584, 'messi': 4585, '1981': 4586, 'schlock': 4587, 'proport': 4588, 'gasp': 4589, 'obligatori': 4590, 'trivia': 4591, 'mount': 4592, 'transplant': 4593, 'zane': 4594, 'beard': 4595, 'frantic': 4596, 'radiat': 4597, 'shield': 4598, 'spinal': 4599, 'remad': 4600, 'widescreen': 4601, 'flashi': 4602, 'fascist': 4603, 'cow': 4604, 'antagonist': 4605, 'rhyme': 4606, 'mutual': 4607, 'assert': 4608, 'margin': 4609, 'cohen': 4610, 'spree': 4611, 'keen': 4612, 'faint': 4613, 'flirt': 4614, '1976': 4615, 'perman': 4616, 'preced': 4617, 'corman': 4618, 'muscl': 4619, 'astronaut': 4620, 'down': 4621, 'strongest': 4622, 'nolt': 4623, 'harold': 4624, 'conquer': 4625, 'dwarf': 4626, 'joker': 4627, 'cush': 4628, 'alvin': 4629, 'flag': 4630, 'naschi': 4631, 'gabl': 4632, 'danish': 4633, 'boob': 4634, 'bachelor': 4635, 'strive': 4636, 'departur': 4637, 'vaniti': 4638, 'discern': 4639, 'wield': 4640, 'archiv': 4641, '1945': 4642, 'instruct': 4643, 'divin': 4644, 'neurot': 4645, 'persuad': 4646, 'triangl': 4647, 'mol': 4648, 'fishburn': 4649, 'repris': 4650, 'carey': 4651, '95': 4652, 'someday': 4653, 'resum': 4654, 'hara': 4655, 'claud': 4656, 'inflict': 4657, 'aborigin': 4658, 'off': 4659, 'bitten': 4660, 'brush': 4661, 'www': 4662, 'scandal': 4663, 'mobil': 4664, 'flock': 4665, 'ritchi': 4666, '28': 4667, 'sensual': 4668, 'info': 4669, 'barn': 4670, 'interestingli': 4671, 'deer': 4672, 'raj': 4673, 'artwork': 4674, 'mobster': 4675, 'pacif': 4676, 'cycl': 4677, 'kathryn': 4678, 'dame': 4679, 'melissa': 4680, 'carlo': 4681, 'hapless': 4682, 'europa': 4683, 'cb': 4684, 'clad': 4685, 'vibrant': 4686, 'helm': 4687, 'fragil': 4688, 'casino': 4689, 'ish': 4690, 'prophet': 4691, 'undermin': 4692, 'harrison': 4693, 'wendigo': 4694, 'timberlak': 4695, 'miracul': 4696, 'traffic': 4697, 'hug': 4698, 'colin': 4699, 'banter': 4700, 'biblic': 4701, 'submit': 4702, 'heartwarm': 4703, 'frontier': 4704, 'rot': 4705, 'bate': 4706, 'luka': 4707, 'pixar': 4708, 'axe': 4709, 'proclaim': 4710, 'hilar': 4711, 'dim': 4712, 'jade': 4713, 'dylan': 4714, 'senior': 4715, 'recit': 4716, 'pickford': 4717, 'cher': 4718, 'parson': 4719, 'loretta': 4720, 'neill': 4721, 'earnest': 4722, 'cliffhang': 4723, 'anton': 4724, 'vile': 4725, 'bikini': 4726, 'eli': 4727, 'blatantli': 4728, 'cerebr': 4729, 'misfortun': 4730, 'nope': 4731, 'mason': 4732, 'illus': 4733, 'breakfast': 4734, 'flavor': 4735, 'trier': 4736, 'razor': 4737, 'seedi': 4738, 'pc': 4739, 'sicken': 4740, 'marlon': 4741, 'northern': 4742, 'feast': 4743, 'articl': 4744, 'alexandr': 4745, 'aris': 4746, 'milo': 4747, 'legitim': 4748, 'redneck': 4749, 'venom': 4750, 'isra': 4751, 'electron': 4752, 'lui': 4753, 'winchest': 4754, 'jo': 4755, 'toronto': 4756, 'lucil': 4757, 'foil': 4758, 'http': 4759, 'akin': 4760, 'rooki': 4761, 'wardrob': 4762, 'holocaust': 4763, 'uma': 4764, 'antholog': 4765, 'static': 4766, 'orphan': 4767, 'vanessa': 4768, 'choke': 4769, 'mathieu': 4770, 'bondag': 4771, 'shepherd': 4772, 'estrang': 4773, 'jordan': 4774, 'token': 4775, 'magician': 4776, 'wrestler': 4777, 'disregard': 4778, 'glare': 4779, 'oppon': 4780, 'ideolog': 4781, 'highway': 4782, 'turd': 4783, 'clinic': 4784, 'styliz': 4785, 'ceremoni': 4786, 'nightclub': 4787, 'deem': 4788, 'audrey': 4789, 'swept': 4790, 'huston': 4791, 'outdat': 4792, 'charlton': 4793, 'knightley': 4794, 'tack': 4795, 'psych': 4796, 'smack': 4797, 'leather': 4798, 'fifth': 4799, 'feminin': 4800, 'shorter': 4801, 'gilbert': 4802, 'frog': 4803, 'linear': 4804, 'abund': 4805, 'boyer': 4806, 'retriev': 4807, 'howl': 4808, 'dudley': 4809, 'gunga': 4810, 'peer': 4811, 'affleck': 4812, 'cartoonish': 4813, 'comprehend': 4814, 'energet': 4815, 'plate': 4816, 'durat': 4817, '4th': 4818, 'spine': 4819, '1991': 4820, 'cemeteri': 4821, 'uniformli': 4822, 'toe': 4823, 'lighter': 4824, 'breakdown': 4825, 'newer': 4826, 'bastard': 4827, 'deliver': 4828, '1994': 4829, 'corn': 4830, 'chip': 4831, 'lifeless': 4832, 'mitch': 4833, 'bogu': 4834, 'btw': 4835, 'potter': 4836, 'collector': 4837, 'client': 4838, 'greet': 4839, 'lavish': 4840, 'spawn': 4841, 'boo': 4842, 'compris': 4843, 'evolut': 4844, 'cuban': 4845, 'senat': 4846, 'monument': 4847, 'summar': 4848, 'phenomen': 4849, 'conrad': 4850, 'tara': 4851, 'moe': 4852, 'whack': 4853, 'snatch': 4854, 'sleaz': 4855, 'salman': 4856, 'braveheart': 4857, 'einstein': 4858, 'goldsworthi': 4859, 'jedi': 4860, 'embark': 4861, 'signal': 4862, 'occup': 4863, '1974': 4864, 'sorrow': 4865, 'spectacl': 4866, 'belli': 4867, 'wtf': 4868, 'luxuri': 4869, 'jam': 4870, 'gilliam': 4871, 'replay': 4872, 'undead': 4873, 'inaccuraci': 4874, 'judd': 4875, 'trauma': 4876, 'constitut': 4877, 'evelyn': 4878, '1977': 4879, 'capot': 4880, 'appl': 4881, 'liu': 4882, 'creek': 4883, 'mcqueen': 4884, 'historian': 4885, 'cecil': 4886, 'ol': 4887, 'bulk': 4888, 'nina': 4889, 'eleven': 4890, 'outright': 4891, 'armstrong': 4892, 'healthi': 4893, 'firmli': 4894, 'ie': 4895, 'pronounc': 4896, 'kent': 4897, 'bori': 4898, 'neatli': 4899, 'randolph': 4900, 'kazan': 4901, 'jule': 4902, 'clara': 4903, 'fluid': 4904, 'undertak': 4905, 'lex': 4906, 'alleg': 4907, 'jare': 4908, 'congratul': 4909, 'fruit': 4910, 'decapit': 4911, 'conan': 4912, 'unsuspect': 4913, 'genet': 4914, 'vignett': 4915, 'basket': 4916, 'lauren': 4917, 'kiddi': 4918, 'blur': 4919, 'relentless': 4920, 'goldblum': 4921, 'vain': 4922, '1985': 4923, 'miniseri': 4924, 'poker': 4925, 'rosario': 4926, 'sidewalk': 4927, 'subtli': 4928, 'abound': 4929, 'id': 4930, 'antonio': 4931, 'walt': 4932, 'inclus': 4933, 'pioneer': 4934, 'truman': 4935, 'tokyo': 4936, 'miami': 4937, 'bait': 4938, 'meal': 4939, 'mum': 4940, 'unattract': 4941, 'roar': 4942, 'propheci': 4943, 'sacrif': 4944, 'aussi': 4945, 'carmen': 4946, 'ash': 4947, 'lanc': 4948, 'porter': 4949, 'curtain': 4950, 'bsg': 4951, 'cape': 4952, 'groan': 4953, 'forgiven': 4954, 'comb': 4955, 'knee': 4956, 'pepper': 4957, 'spray': 4958, 'inaccur': 4959, 'comprehens': 4960, 'galaxi': 4961, 'paula': 4962, 'palm': 4963, 'assort': 4964, 'reincarn': 4965, 'asset': 4966, 'evan': 4967, 'scariest': 4968, 'masterson': 4969, 'weari': 4970, 'vastli': 4971, 'hostil': 4972, 'orchestr': 4973, 'victorian': 4974, 'rapidli': 4975, 'incorrect': 4976, 'weaker': 4977, 'detach': 4978, 'frontal': 4979, 'monti': 4980, 'dubiou': 4981, 'substanti': 4982, 'epitom': 4983, 'verg': 4984, 'motorcycl': 4985, 'spill': 4986, 'bravo': 4987, 'jill': 4988, 'profil': 4989, 'growth': 4990, 'mice': 4991, 'handicap': 4992, 'sparkl': 4993, 'playboy': 4994, 'bach': 4995, '21st': 4996, 'optimist': 4997, 'ghetto': 4998, 'scarfac': 4999}\n"
     ]
    }
   ],
   "source": [
    "word_dict = build_dict(train_X)\n",
    "print(word_dict)"
   ]
  },
  {
   "cell_type": "raw",
   "metadata": {},
   "source": []
  },
  {
   "cell_type": "markdown",
   "metadata": {},
   "source": [
    "**Question:** What are the five most frequently appearing (tokenized) words in the training set? Does it makes sense that these words appear frequently in the training set?"
   ]
  },
  {
   "cell_type": "markdown",
   "metadata": {},
   "source": [
    "**Answer:**\n",
    "The five most frequently appearing words in the training set are:\n",
    "  {'movi': 51695, 'film': 48190, 'one': 27741, 'like': 22799, 'time': 16191}"
   ]
  },
  {
   "cell_type": "code",
   "execution_count": 15,
   "metadata": {},
   "outputs": [
    {
     "name": "stdout",
     "output_type": "stream",
     "text": [
      "The five most frequently appearing words in the training set are:\n",
      "  {'movi': 51695, 'film': 48190, 'one': 27741, 'like': 22799, 'time': 16191}\n"
     ]
    }
   ],
   "source": [
    "# TODO: Use this space to determine the five most frequently appearing words in the training set.\n",
    "word_count = word_counter(train_X)\n",
    "most_words = dict(word_count.most_common(5))           \n",
    "print(\"The five most frequently appearing words in the training set are:\\n \", most_words)"
   ]
  },
  {
   "cell_type": "markdown",
   "metadata": {},
   "source": [
    "### Save `word_dict`\n",
    "\n",
    "Later on when we construct an endpoint which processes a submitted review we will need to make use of the `word_dict` which we have created. As such, we will save it to a file now for future use."
   ]
  },
  {
   "cell_type": "code",
   "execution_count": 16,
   "metadata": {},
   "outputs": [],
   "source": [
    "data_dir = '../data/pytorch' # The folder we will use for storing data\n",
    "if not os.path.exists(data_dir): # Make sure that the folder exists\n",
    "    os.makedirs(data_dir)"
   ]
  },
  {
   "cell_type": "code",
   "execution_count": 17,
   "metadata": {},
   "outputs": [],
   "source": [
    "with open(os.path.join(data_dir, 'word_dict.pkl'), \"wb\") as f:\n",
    "    pickle.dump(word_dict, f)"
   ]
  },
  {
   "cell_type": "markdown",
   "metadata": {},
   "source": [
    "### Transform the reviews\n",
    "\n",
    "Now that we have our word dictionary which allows us to transform the words appearing in the reviews into integers, it is time to make use of it and convert our reviews to their integer sequence representation, making sure to pad or truncate to a fixed length, which in our case is `500`."
   ]
  },
  {
   "cell_type": "code",
   "execution_count": 18,
   "metadata": {},
   "outputs": [],
   "source": [
    "def convert_and_pad(word_dict, sentence, pad=500):\n",
    "    NOWORD = 0 # We will use 0 to represent the 'no word' category\n",
    "    INFREQ = 1 # and we use 1 to represent the infrequent words, i.e., words not appearing in word_dict\n",
    "    \n",
    "    working_sentence = [NOWORD] * pad\n",
    "    \n",
    "    for word_index, word in enumerate(sentence[:pad]):\n",
    "        if word in word_dict:\n",
    "            working_sentence[word_index] = word_dict[word]\n",
    "        else:\n",
    "            working_sentence[word_index] = INFREQ\n",
    "            \n",
    "    return working_sentence, min(len(sentence), pad)\n",
    "\n",
    "def convert_and_pad_data(word_dict, data, pad=500):\n",
    "    result = []\n",
    "    lengths = []\n",
    "    \n",
    "    for sentence in data:\n",
    "        converted, leng = convert_and_pad(word_dict, sentence, pad)\n",
    "        result.append(converted)\n",
    "        lengths.append(leng)\n",
    "        \n",
    "    return np.array(result), np.array(lengths)"
   ]
  },
  {
   "cell_type": "code",
   "execution_count": 19,
   "metadata": {},
   "outputs": [],
   "source": [
    "train_X, train_X_len = convert_and_pad_data(word_dict, train_X)\n",
    "test_X, test_X_len = convert_and_pad_data(word_dict, test_X)"
   ]
  },
  {
   "cell_type": "markdown",
   "metadata": {},
   "source": [
    "As a quick check to make sure that things are working as intended, check to see what one of the reviews in the training set looks like after having been processeed. Does this look reasonable? What is the length of a review in the training set?"
   ]
  },
  {
   "cell_type": "code",
   "execution_count": 20,
   "metadata": {},
   "outputs": [
    {
     "data": {
      "text/plain": [
       "array([[  30,    4,  748, ...,    0,    0,    0],\n",
       "       [ 159,    1,  238, ...,    0,    0,    0],\n",
       "       [   1,    1,    2, ...,    0,    0,    0],\n",
       "       ...,\n",
       "       [ 123,  982,  285, ...,    0,    0,    0],\n",
       "       [1096, 2474,    3, ...,    0,    0,    0],\n",
       "       [ 466,   52,  342, ...,    0,    0,    0]])"
      ]
     },
     "execution_count": 20,
     "metadata": {},
     "output_type": "execute_result"
    }
   ],
   "source": [
    "# Use this cell to examine one of the processed reviews to make sure everything is working as intended.\n",
    "train_X[:20]"
   ]
  },
  {
   "cell_type": "markdown",
   "metadata": {},
   "source": [
    "**Question:** In the cells above we use the `preprocess_data` and `convert_and_pad_data` methods to process both the training and testing set. Why or why not might this be a problem?"
   ]
  },
  {
   "cell_type": "markdown",
   "metadata": {},
   "source": [
    "**Answer:**\n",
    "The preprocess_data method applies the review_to_words method to each of the reviews in the training and testing datasets. The convert_and_pad_data process by fixing the length, which in our case is 500. The first will taking time, but the second one can miss some information."
   ]
  },
  {
   "cell_type": "markdown",
   "metadata": {},
   "source": [
    "## Step 3: Upload the data to S3\n",
    "\n",
    "As in the XGBoost notebook, we will need to upload the training dataset to S3 in order for our training code to access it. For now we will save it locally and we will upload to S3 later on.\n",
    "\n",
    "### Save the processed training dataset locally\n",
    "\n",
    "It is important to note the format of the data that we are saving as we will need to know it when we write the training code. In our case, each row of the dataset has the form `label`, `length`, `review[500]` where `review[500]` is a sequence of `500` integers representing the words in the review."
   ]
  },
  {
   "cell_type": "code",
   "execution_count": 21,
   "metadata": {},
   "outputs": [],
   "source": [
    "import pandas as pd\n",
    "    \n",
    "pd.concat([pd.DataFrame(train_y), pd.DataFrame(train_X_len), pd.DataFrame(train_X)], axis=1) \\\n",
    "        .to_csv(os.path.join(data_dir, 'train.csv'), header=False, index=False)"
   ]
  },
  {
   "cell_type": "markdown",
   "metadata": {},
   "source": [
    "### Uploading the training data\n",
    "\n",
    "\n",
    "Next, we need to upload the training data to the SageMaker default S3 bucket so that we can provide access to it while training our model."
   ]
  },
  {
   "cell_type": "code",
   "execution_count": 22,
   "metadata": {},
   "outputs": [],
   "source": [
    "import sagemaker\n",
    "\n",
    "sagemaker_session = sagemaker.Session()\n",
    "\n",
    "bucket = sagemaker_session.default_bucket()\n",
    "prefix = 'sagemaker/sentiment_rnn'\n",
    "\n",
    "role = sagemaker.get_execution_role()"
   ]
  },
  {
   "cell_type": "code",
   "execution_count": 23,
   "metadata": {},
   "outputs": [],
   "source": [
    "input_data = sagemaker_session.upload_data(path=data_dir, bucket=bucket, key_prefix=prefix)"
   ]
  },
  {
   "cell_type": "markdown",
   "metadata": {},
   "source": [
    "**NOTE:** The cell above uploads the entire contents of our data directory. This includes the `word_dict.pkl` file. This is fortunate as we will need this later on when we create an endpoint that accepts an arbitrary review. For now, we will just take note of the fact that it resides in the data directory (and so also in the S3 training bucket) and that we will need to make sure it gets saved in the model directory."
   ]
  },
  {
   "cell_type": "markdown",
   "metadata": {},
   "source": [
    "## Step 4: Build and Train the PyTorch Model\n",
    "\n",
    "In the XGBoost notebook we discussed what a model is in the SageMaker framework. In particular, a model comprises three objects\n",
    "\n",
    " - Model Artifacts,\n",
    " - Training Code, and\n",
    " - Inference Code,\n",
    " \n",
    "each of which interact with one another. In the XGBoost example we used training and inference code that was provided by Amazon. Here we will still be using containers provided by Amazon with the added benefit of being able to include our own custom code.\n",
    "\n",
    "We will start by implementing our own neural network in PyTorch along with a training script. For the purposes of this project we have provided the necessary model object in the `model.py` file, inside of the `train` folder. You can see the provided implementation by running the cell below."
   ]
  },
  {
   "cell_type": "code",
   "execution_count": 24,
   "metadata": {},
   "outputs": [
    {
     "name": "stdout",
     "output_type": "stream",
     "text": [
      "\u001b[34mimport\u001b[39;49;00m \u001b[04m\u001b[36mtorch\u001b[39;49;00m\u001b[04m\u001b[36m.\u001b[39;49;00m\u001b[04m\u001b[36mnn\u001b[39;49;00m \u001b[34mas\u001b[39;49;00m \u001b[04m\u001b[36mnn\u001b[39;49;00m\r\n",
      "\r\n",
      "\u001b[34mclass\u001b[39;49;00m \u001b[04m\u001b[32mLSTMClassifier\u001b[39;49;00m(nn.Module):\r\n",
      "    \u001b[33m\"\"\"\u001b[39;49;00m\r\n",
      "\u001b[33m    This is the simple RNN model we will be using to perform Sentiment Analysis.\u001b[39;49;00m\r\n",
      "\u001b[33m    \"\"\"\u001b[39;49;00m\r\n",
      "\r\n",
      "    \u001b[34mdef\u001b[39;49;00m \u001b[32m__init__\u001b[39;49;00m(\u001b[36mself\u001b[39;49;00m, embedding_dim, hidden_dim, vocab_size):\r\n",
      "        \u001b[33m\"\"\"\u001b[39;49;00m\r\n",
      "\u001b[33m        Initialize the model by settingg up the various layers.\u001b[39;49;00m\r\n",
      "\u001b[33m        \"\"\"\u001b[39;49;00m\r\n",
      "        \u001b[36msuper\u001b[39;49;00m(LSTMClassifier, \u001b[36mself\u001b[39;49;00m).\u001b[32m__init__\u001b[39;49;00m()\r\n",
      "\r\n",
      "        \u001b[36mself\u001b[39;49;00m.embedding = nn.Embedding(vocab_size, embedding_dim, padding_idx=\u001b[34m0\u001b[39;49;00m)\r\n",
      "        \u001b[36mself\u001b[39;49;00m.lstm = nn.LSTM(embedding_dim, hidden_dim)\r\n",
      "        \u001b[36mself\u001b[39;49;00m.dense = nn.Linear(in_features=hidden_dim, out_features=\u001b[34m1\u001b[39;49;00m)\r\n",
      "        \u001b[36mself\u001b[39;49;00m.sig = nn.Sigmoid()\r\n",
      "        \r\n",
      "        \u001b[36mself\u001b[39;49;00m.word_dict = \u001b[34mNone\u001b[39;49;00m\r\n",
      "\r\n",
      "    \u001b[34mdef\u001b[39;49;00m \u001b[32mforward\u001b[39;49;00m(\u001b[36mself\u001b[39;49;00m, x):\r\n",
      "        \u001b[33m\"\"\"\u001b[39;49;00m\r\n",
      "\u001b[33m        Perform a forward pass of our model on some input.\u001b[39;49;00m\r\n",
      "\u001b[33m        \"\"\"\u001b[39;49;00m\r\n",
      "        x = x.t()\r\n",
      "        lengths = x[\u001b[34m0\u001b[39;49;00m,:]\r\n",
      "        reviews = x[\u001b[34m1\u001b[39;49;00m:,:]\r\n",
      "        embeds = \u001b[36mself\u001b[39;49;00m.embedding(reviews)\r\n",
      "        lstm_out, _ = \u001b[36mself\u001b[39;49;00m.lstm(embeds)\r\n",
      "        out = \u001b[36mself\u001b[39;49;00m.dense(lstm_out)\r\n",
      "        out = out[lengths - \u001b[34m1\u001b[39;49;00m, \u001b[36mrange\u001b[39;49;00m(\u001b[36mlen\u001b[39;49;00m(lengths))]\r\n",
      "        \u001b[34mreturn\u001b[39;49;00m \u001b[36mself\u001b[39;49;00m.sig(out.squeeze())\r\n"
     ]
    }
   ],
   "source": [
    "!pygmentize train/model.py"
   ]
  },
  {
   "cell_type": "markdown",
   "metadata": {},
   "source": [
    "The important takeaway from the implementation provided is that there are three parameters that we may wish to tweak to improve the performance of our model. These are the embedding dimension, the hidden dimension and the size of the vocabulary. We will likely want to make these parameters configurable in the training script so that if we wish to modify them we do not need to modify the script itself. We will see how to do this later on. To start we will write some of the training code in the notebook so that we can more easily diagnose any issues that arise.\n",
    "\n",
    "First we will load a small portion of the training data set to use as a sample. It would be very time consuming to try and train the model completely in the notebook as we do not have access to a gpu and the compute instance that we are using is not particularly powerful. However, we can work on a small bit of the data to get a feel for how our training script is behaving."
   ]
  },
  {
   "cell_type": "code",
   "execution_count": 25,
   "metadata": {},
   "outputs": [],
   "source": [
    "import torch\n",
    "import torch.utils.data\n",
    "\n",
    "# Read in only the first 250 rows\n",
    "train_sample = pd.read_csv(os.path.join(data_dir, 'train.csv'), header=None, names=None, nrows=250)\n",
    "\n",
    "# Turn the input pandas dataframe into tensors\n",
    "train_sample_y = torch.from_numpy(train_sample[[0]].values).float().squeeze()\n",
    "train_sample_X = torch.from_numpy(train_sample.drop([0], axis=1).values).long()\n",
    "\n",
    "# Build the dataset\n",
    "train_sample_ds = torch.utils.data.TensorDataset(train_sample_X, train_sample_y)\n",
    "# Build the dataloader\n",
    "train_sample_dl = torch.utils.data.DataLoader(train_sample_ds, batch_size=50)"
   ]
  },
  {
   "cell_type": "markdown",
   "metadata": {},
   "source": [
    "### (TODO) Writing the training method\n",
    "\n",
    "Next we need to write the training code itself. This should be very similar to training methods that you have written before to train PyTorch models. We will leave any difficult aspects such as model saving / loading and parameter loading until a little later."
   ]
  },
  {
   "cell_type": "code",
   "execution_count": 26,
   "metadata": {},
   "outputs": [],
   "source": [
    "def train(model, train_loader, epochs, optimizer, loss_fn, device):\n",
    "    for epoch in range(1, epochs + 1):\n",
    "        model.train()\n",
    "        total_loss = 0\n",
    "        for batch in train_loader:         \n",
    "            batch_X, batch_y = batch\n",
    "            \n",
    "            batch_X = batch_X.to(device)\n",
    "            batch_y = batch_y.to(device)\n",
    "            \n",
    "            # TODO: Complete this train method to train the model provided.\n",
    "            optimizer.zero_grad()\n",
    "            output = model.forward(batch_X)\n",
    "            loss = loss_fn(output, batch_y)\n",
    "            loss.backward()\n",
    "            optimizer.step()\n",
    "            total_loss += loss.data.item()\n",
    "        print(\"Epoch: {}, BCELoss: {}\".format(epoch, total_loss / len(train_loader)))"
   ]
  },
  {
   "cell_type": "markdown",
   "metadata": {},
   "source": [
    "Supposing we have the training method above, we will test that it is working by writing a bit of code in the notebook that executes our training method on the small sample training set that we loaded earlier. The reason for doing this in the notebook is so that we have an opportunity to fix any errors that arise early when they are easier to diagnose."
   ]
  },
  {
   "cell_type": "code",
   "execution_count": 27,
   "metadata": {},
   "outputs": [
    {
     "name": "stdout",
     "output_type": "stream",
     "text": [
      "Epoch: 1, BCELoss: 0.6939169764518738\n",
      "Epoch: 2, BCELoss: 0.6847053050994873\n",
      "Epoch: 3, BCELoss: 0.6760529637336731\n",
      "Epoch: 4, BCELoss: 0.6656852841377259\n",
      "Epoch: 5, BCELoss: 0.6519629240036011\n"
     ]
    }
   ],
   "source": [
    "import torch.optim as optim\n",
    "from train.model import LSTMClassifier\n",
    "\n",
    "device = torch.device(\"cuda\" if torch.cuda.is_available() else \"cpu\")\n",
    "model = LSTMClassifier(32, 100, 5000).to(device)\n",
    "optimizer = optim.Adam(model.parameters())\n",
    "loss_fn = torch.nn.BCELoss()\n",
    "\n",
    "train(model, train_sample_dl, 5, optimizer, loss_fn, device)"
   ]
  },
  {
   "cell_type": "markdown",
   "metadata": {},
   "source": [
    "In order to construct a PyTorch model using SageMaker we must provide SageMaker with a training script. We may optionally include a directory which will be copied to the container and from which our training code will be run. When the training container is executed it will check the uploaded directory (if there is one) for a `requirements.txt` file and install any required Python libraries, after which the training script will be run."
   ]
  },
  {
   "cell_type": "markdown",
   "metadata": {},
   "source": [
    "### (TODO) Training the model\n",
    "\n",
    "When a PyTorch model is constructed in SageMaker, an entry point must be specified. This is the Python file which will be executed when the model is trained. Inside of the `train` directory is a file called `train.py` which has been provided and which contains most of the necessary code to train our model. The only thing that is missing is the implementation of the `train()` method which you wrote earlier in this notebook.\n",
    "\n",
    "**TODO**: Copy the `train()` method written above and paste it into the `train/train.py` file where required.\n",
    "\n",
    "The way that SageMaker passes hyperparameters to the training script is by way of arguments. These arguments can then be parsed and used in the training script. To see how this is done take a look at the provided `train/train.py` file."
   ]
  },
  {
   "cell_type": "code",
   "execution_count": 28,
   "metadata": {},
   "outputs": [],
   "source": [
    "from sagemaker.pytorch import PyTorch\n",
    "\n",
    "estimator = PyTorch(entry_point=\"train.py\",\n",
    "                    source_dir=\"train\",\n",
    "                    role=role,\n",
    "                    framework_version='0.4.0',\n",
    "                    train_instance_count=1,\n",
    "                    train_instance_type='ml.p2.xlarge',\n",
    "                    hyperparameters={\n",
    "                        'epochs': 10,\n",
    "                        'hidden_dim': 200,\n",
    "                    })"
   ]
  },
  {
   "cell_type": "code",
   "execution_count": 29,
   "metadata": {},
   "outputs": [
    {
     "name": "stderr",
     "output_type": "stream",
     "text": [
      "'create_image_uri' will be deprecated in favor of 'ImageURIProvider' class in SageMaker Python SDK v2.\n",
      "'s3_input' class will be renamed to 'TrainingInput' in SageMaker Python SDK v2.\n",
      "'create_image_uri' will be deprecated in favor of 'ImageURIProvider' class in SageMaker Python SDK v2.\n"
     ]
    },
    {
     "name": "stdout",
     "output_type": "stream",
     "text": [
      "2021-07-28 06:09:04 Starting - Starting the training job...\n",
      "2021-07-28 06:09:06 Starting - Launching requested ML instances......\n",
      "2021-07-28 06:10:16 Starting - Preparing the instances for training.........\n",
      "2021-07-28 06:11:49 Downloading - Downloading input data...\n",
      "2021-07-28 06:12:27 Training - Downloading the training image...\n",
      "2021-07-28 06:12:57 Training - Training image download completed. Training in progress.\u001b[34mbash: cannot set terminal process group (-1): Inappropriate ioctl for device\u001b[0m\n",
      "\u001b[34mbash: no job control in this shell\u001b[0m\n",
      "\u001b[34m2021-07-28 06:12:58,166 sagemaker-containers INFO     Imported framework sagemaker_pytorch_container.training\u001b[0m\n",
      "\u001b[34m2021-07-28 06:12:58,195 sagemaker_pytorch_container.training INFO     Block until all host DNS lookups succeed.\u001b[0m\n",
      "\u001b[34m2021-07-28 06:13:01,217 sagemaker_pytorch_container.training INFO     Invoking user training script.\u001b[0m\n",
      "\u001b[34m2021-07-28 06:13:01,598 sagemaker-containers INFO     Module train does not provide a setup.py. \u001b[0m\n",
      "\u001b[34mGenerating setup.py\u001b[0m\n",
      "\u001b[34m2021-07-28 06:13:01,598 sagemaker-containers INFO     Generating setup.cfg\u001b[0m\n",
      "\u001b[34m2021-07-28 06:13:01,598 sagemaker-containers INFO     Generating MANIFEST.in\u001b[0m\n",
      "\u001b[34m2021-07-28 06:13:01,599 sagemaker-containers INFO     Installing module with the following command:\u001b[0m\n",
      "\u001b[34m/usr/bin/python -m pip install -U . -r requirements.txt\u001b[0m\n",
      "\u001b[34mProcessing /opt/ml/code\u001b[0m\n",
      "\u001b[34mCollecting pandas (from -r requirements.txt (line 1))\n",
      "  Downloading https://files.pythonhosted.org/packages/74/24/0cdbf8907e1e3bc5a8da03345c23cbed7044330bb8f73bb12e711a640a00/pandas-0.24.2-cp35-cp35m-manylinux1_x86_64.whl (10.0MB)\u001b[0m\n",
      "\u001b[34mCollecting numpy (from -r requirements.txt (line 2))\n",
      "  Downloading https://files.pythonhosted.org/packages/b5/36/88723426b4ff576809fec7d73594fe17a35c27f8d01f93637637a29ae25b/numpy-1.18.5-cp35-cp35m-manylinux1_x86_64.whl (19.9MB)\u001b[0m\n",
      "\u001b[34mCollecting nltk (from -r requirements.txt (line 3))\n",
      "  Downloading https://files.pythonhosted.org/packages/5e/37/9532ddd4b1bbb619333d5708aaad9bf1742f051a664c3c6fa6632a105fd8/nltk-3.6.2-py3-none-any.whl (1.5MB)\u001b[0m\n",
      "\u001b[34mCollecting beautifulsoup4 (from -r requirements.txt (line 4))\n",
      "  Downloading https://files.pythonhosted.org/packages/d1/41/e6495bd7d3781cee623ce23ea6ac73282a373088fcd0ddc809a047b18eae/beautifulsoup4-4.9.3-py3-none-any.whl (115kB)\u001b[0m\n",
      "\u001b[34mCollecting html5lib (from -r requirements.txt (line 5))\n",
      "  Downloading https://files.pythonhosted.org/packages/6c/dd/a834df6482147d48e225a49515aabc28974ad5a4ca3215c18a882565b028/html5lib-1.1-py2.py3-none-any.whl (112kB)\u001b[0m\n",
      "\u001b[34mRequirement already satisfied, skipping upgrade: python-dateutil>=2.5.0 in /usr/local/lib/python3.5/dist-packages (from pandas->-r requirements.txt (line 1)) (2.7.5)\u001b[0m\n",
      "\u001b[34mCollecting pytz>=2011k (from pandas->-r requirements.txt (line 1))\n",
      "  Downloading https://files.pythonhosted.org/packages/70/94/784178ca5dd892a98f113cdd923372024dc04b8d40abe77ca76b5fb90ca6/pytz-2021.1-py2.py3-none-any.whl (510kB)\u001b[0m\n",
      "\u001b[34mCollecting joblib (from nltk->-r requirements.txt (line 3))\n",
      "  Downloading https://files.pythonhosted.org/packages/28/5c/cf6a2b65a321c4a209efcdf64c2689efae2cb62661f8f6f4bb28547cf1bf/joblib-0.14.1-py2.py3-none-any.whl (294kB)\u001b[0m\n",
      "\u001b[34mCollecting tqdm (from nltk->-r requirements.txt (line 3))\n",
      "  Downloading https://files.pythonhosted.org/packages/7a/ec/f8ff3ccfc4e59ce619a66a0bf29dc3b49c2e8c07de29d572e191c006eaa2/tqdm-4.61.2-py2.py3-none-any.whl (76kB)\u001b[0m\n",
      "\u001b[34mRequirement already satisfied, skipping upgrade: click in /usr/local/lib/python3.5/dist-packages (from nltk->-r requirements.txt (line 3)) (7.0)\u001b[0m\n",
      "\u001b[34mCollecting regex (from nltk->-r requirements.txt (line 3))\u001b[0m\n",
      "\u001b[34m  Downloading https://files.pythonhosted.org/packages/c0/d1/ad6afa6000ab869f6af2c85985d40558ffb298d9fcb2ab04c0648436008f/regex-2021.7.6.tar.gz (693kB)\u001b[0m\n",
      "\u001b[34mCollecting soupsieve>1.2; python_version >= \"3.0\" (from beautifulsoup4->-r requirements.txt (line 4))\n",
      "  Downloading https://files.pythonhosted.org/packages/02/fb/1c65691a9aeb7bd6ac2aa505b84cb8b49ac29c976411c6ab3659425e045f/soupsieve-2.1-py3-none-any.whl\u001b[0m\n",
      "\u001b[34mRequirement already satisfied, skipping upgrade: six>=1.9 in /usr/local/lib/python3.5/dist-packages (from html5lib->-r requirements.txt (line 5)) (1.11.0)\u001b[0m\n",
      "\u001b[34mCollecting webencodings (from html5lib->-r requirements.txt (line 5))\n",
      "  Downloading https://files.pythonhosted.org/packages/f4/24/2a3e3df732393fed8b3ebf2ec078f05546de641fe1b667ee316ec1dcf3b7/webencodings-0.5.1-py2.py3-none-any.whl\u001b[0m\n",
      "\u001b[34mBuilding wheels for collected packages: train, regex\n",
      "  Running setup.py bdist_wheel for train: started\u001b[0m\n",
      "\u001b[34m  Running setup.py bdist_wheel for train: finished with status 'done'\n",
      "  Stored in directory: /tmp/pip-ephem-wheel-cache-1veiie2p/wheels/35/24/16/37574d11bf9bde50616c67372a334f94fa8356bc7164af8ca3\n",
      "  Running setup.py bdist_wheel for regex: started\u001b[0m\n",
      "\u001b[34m  Running setup.py bdist_wheel for regex: finished with status 'done'\n",
      "  Stored in directory: /root/.cache/pip/wheels/4d/21/94/ffc1c84ddb509f51dab71898a63df9fbff5f1e04552ee8ea8e\u001b[0m\n",
      "\u001b[34mSuccessfully built train regex\u001b[0m\n",
      "\u001b[34mInstalling collected packages: numpy, pytz, pandas, joblib, tqdm, regex, nltk, soupsieve, beautifulsoup4, webencodings, html5lib, train\n",
      "  Found existing installation: numpy 1.15.4\n",
      "    Uninstalling numpy-1.15.4:\u001b[0m\n",
      "\u001b[34m      Successfully uninstalled numpy-1.15.4\u001b[0m\n",
      "\u001b[34mSuccessfully installed beautifulsoup4-4.9.3 html5lib-1.1 joblib-0.14.1 nltk-3.6.2 numpy-1.18.5 pandas-0.24.2 pytz-2021.1 regex-2021.7.6 soupsieve-2.1 tqdm-4.61.2 train-1.0.0 webencodings-0.5.1\u001b[0m\n",
      "\u001b[34mYou are using pip version 18.1, however version 20.3.4 is available.\u001b[0m\n",
      "\u001b[34mYou should consider upgrading via the 'pip install --upgrade pip' command.\u001b[0m\n",
      "\u001b[34m2021-07-28 06:13:24,993 sagemaker-containers INFO     Invoking user script\n",
      "\u001b[0m\n",
      "\u001b[34mTraining Env:\n",
      "\u001b[0m\n",
      "\u001b[34m{\n",
      "    \"hosts\": [\n",
      "        \"algo-1\"\n",
      "    ],\n",
      "    \"job_name\": \"sagemaker-pytorch-2021-07-28-06-09-03-799\",\n",
      "    \"output_dir\": \"/opt/ml/output\",\n",
      "    \"hyperparameters\": {\n",
      "        \"hidden_dim\": 200,\n",
      "        \"epochs\": 10\n",
      "    },\n",
      "    \"input_config_dir\": \"/opt/ml/input/config\",\n",
      "    \"log_level\": 20,\n",
      "    \"output_data_dir\": \"/opt/ml/output/data\",\n",
      "    \"network_interface_name\": \"eth0\",\n",
      "    \"resource_config\": {\n",
      "        \"hosts\": [\n",
      "            \"algo-1\"\n",
      "        ],\n",
      "        \"network_interface_name\": \"eth0\",\n",
      "        \"current_host\": \"algo-1\"\n",
      "    },\n",
      "    \"module_dir\": \"s3://sagemaker-us-east-1-439153323123/sagemaker-pytorch-2021-07-28-06-09-03-799/source/sourcedir.tar.gz\",\n",
      "    \"channel_input_dirs\": {\n",
      "        \"training\": \"/opt/ml/input/data/training\"\n",
      "    },\n",
      "    \"module_name\": \"train\",\n",
      "    \"num_gpus\": 1,\n",
      "    \"input_data_config\": {\n",
      "        \"training\": {\n",
      "            \"TrainingInputMode\": \"File\",\n",
      "            \"S3DistributionType\": \"FullyReplicated\",\n",
      "            \"RecordWrapperType\": \"None\"\n",
      "        }\n",
      "    },\n",
      "    \"framework_module\": \"sagemaker_pytorch_container.training:main\",\n",
      "    \"input_dir\": \"/opt/ml/input\",\n",
      "    \"additional_framework_parameters\": {},\n",
      "    \"model_dir\": \"/opt/ml/model\",\n",
      "    \"user_entry_point\": \"train.py\",\n",
      "    \"num_cpus\": 4,\n",
      "    \"current_host\": \"algo-1\",\n",
      "    \"output_intermediate_dir\": \"/opt/ml/output/intermediate\"\u001b[0m\n",
      "\u001b[34m}\n",
      "\u001b[0m\n",
      "\u001b[34mEnvironment variables:\n",
      "\u001b[0m\n",
      "\u001b[34mSM_CURRENT_HOST=algo-1\u001b[0m\n",
      "\u001b[34mSM_MODEL_DIR=/opt/ml/model\u001b[0m\n",
      "\u001b[34mSM_OUTPUT_DATA_DIR=/opt/ml/output/data\u001b[0m\n",
      "\u001b[34mSM_INPUT_DIR=/opt/ml/input\u001b[0m\n",
      "\u001b[34mSM_CHANNELS=[\"training\"]\u001b[0m\n",
      "\u001b[34mSM_FRAMEWORK_PARAMS={}\u001b[0m\n",
      "\u001b[34mSM_HP_EPOCHS=10\u001b[0m\n",
      "\u001b[34mSM_RESOURCE_CONFIG={\"current_host\":\"algo-1\",\"hosts\":[\"algo-1\"],\"network_interface_name\":\"eth0\"}\u001b[0m\n",
      "\u001b[34mSM_MODULE_NAME=train\u001b[0m\n",
      "\u001b[34mSM_USER_ENTRY_POINT=train.py\u001b[0m\n",
      "\u001b[34mSM_OUTPUT_INTERMEDIATE_DIR=/opt/ml/output/intermediate\u001b[0m\n",
      "\u001b[34mSM_INPUT_DATA_CONFIG={\"training\":{\"RecordWrapperType\":\"None\",\"S3DistributionType\":\"FullyReplicated\",\"TrainingInputMode\":\"File\"}}\u001b[0m\n",
      "\u001b[34mSM_NUM_GPUS=1\u001b[0m\n",
      "\u001b[34mSM_HPS={\"epochs\":10,\"hidden_dim\":200}\u001b[0m\n",
      "\u001b[34mSM_FRAMEWORK_MODULE=sagemaker_pytorch_container.training:main\u001b[0m\n",
      "\u001b[34mSM_CHANNEL_TRAINING=/opt/ml/input/data/training\u001b[0m\n",
      "\u001b[34mSM_TRAINING_ENV={\"additional_framework_parameters\":{},\"channel_input_dirs\":{\"training\":\"/opt/ml/input/data/training\"},\"current_host\":\"algo-1\",\"framework_module\":\"sagemaker_pytorch_container.training:main\",\"hosts\":[\"algo-1\"],\"hyperparameters\":{\"epochs\":10,\"hidden_dim\":200},\"input_config_dir\":\"/opt/ml/input/config\",\"input_data_config\":{\"training\":{\"RecordWrapperType\":\"None\",\"S3DistributionType\":\"FullyReplicated\",\"TrainingInputMode\":\"File\"}},\"input_dir\":\"/opt/ml/input\",\"job_name\":\"sagemaker-pytorch-2021-07-28-06-09-03-799\",\"log_level\":20,\"model_dir\":\"/opt/ml/model\",\"module_dir\":\"s3://sagemaker-us-east-1-439153323123/sagemaker-pytorch-2021-07-28-06-09-03-799/source/sourcedir.tar.gz\",\"module_name\":\"train\",\"network_interface_name\":\"eth0\",\"num_cpus\":4,\"num_gpus\":1,\"output_data_dir\":\"/opt/ml/output/data\",\"output_dir\":\"/opt/ml/output\",\"output_intermediate_dir\":\"/opt/ml/output/intermediate\",\"resource_config\":{\"current_host\":\"algo-1\",\"hosts\":[\"algo-1\"],\"network_interface_name\":\"eth0\"},\"user_entry_point\":\"train.py\"}\u001b[0m\n",
      "\u001b[34mSM_LOG_LEVEL=20\u001b[0m\n",
      "\u001b[34mSM_INPUT_CONFIG_DIR=/opt/ml/input/config\u001b[0m\n",
      "\u001b[34mSM_USER_ARGS=[\"--epochs\",\"10\",\"--hidden_dim\",\"200\"]\u001b[0m\n",
      "\u001b[34mSM_MODULE_DIR=s3://sagemaker-us-east-1-439153323123/sagemaker-pytorch-2021-07-28-06-09-03-799/source/sourcedir.tar.gz\u001b[0m\n",
      "\u001b[34mSM_NETWORK_INTERFACE_NAME=eth0\u001b[0m\n",
      "\u001b[34mSM_OUTPUT_DIR=/opt/ml/output\u001b[0m\n",
      "\u001b[34mSM_NUM_CPUS=4\u001b[0m\n",
      "\u001b[34mSM_HP_HIDDEN_DIM=200\u001b[0m\n",
      "\u001b[34mSM_HOSTS=[\"algo-1\"]\u001b[0m\n",
      "\u001b[34mPYTHONPATH=/usr/local/bin:/usr/lib/python35.zip:/usr/lib/python3.5:/usr/lib/python3.5/plat-x86_64-linux-gnu:/usr/lib/python3.5/lib-dynload:/usr/local/lib/python3.5/dist-packages:/usr/lib/python3/dist-packages\n",
      "\u001b[0m\n",
      "\u001b[34mInvoking script with the following command:\n",
      "\u001b[0m\n",
      "\u001b[34m/usr/bin/python -m train --epochs 10 --hidden_dim 200\n",
      "\n",
      "\u001b[0m\n",
      "\u001b[34mUsing device cuda.\u001b[0m\n",
      "\u001b[34mGet train data loader.\u001b[0m\n",
      "\u001b[34mModel loaded with embedding_dim 32, hidden_dim 200, vocab_size 5000.\u001b[0m\n",
      "\u001b[34mEpoch: 1, BCELoss: 0.6728589194161552\u001b[0m\n",
      "\u001b[34mEpoch: 2, BCELoss: 0.6023128604402348\u001b[0m\n",
      "\u001b[34mEpoch: 3, BCELoss: 0.5079099195344108\u001b[0m\n",
      "\u001b[34mEpoch: 4, BCELoss: 0.43414898307955996\u001b[0m\n",
      "\u001b[34mEpoch: 5, BCELoss: 0.38288845821302764\u001b[0m\n",
      "\u001b[34mEpoch: 6, BCELoss: 0.35267856960393945\u001b[0m\n",
      "\u001b[34mEpoch: 7, BCELoss: 0.35144263566756734\u001b[0m\n",
      "\u001b[34mEpoch: 8, BCELoss: 0.30830960796803847\u001b[0m\n",
      "\u001b[34mEpoch: 9, BCELoss: 0.2953230495355567\u001b[0m\n",
      "\n",
      "2021-07-28 06:16:34 Uploading - Uploading generated training model\n",
      "2021-07-28 06:16:34 Completed - Training job completed\n",
      "\u001b[34mEpoch: 10, BCELoss: 0.2748783598749005\u001b[0m\n",
      "\u001b[34m2021-07-28 06:16:23,984 sagemaker-containers INFO     Reporting training SUCCESS\u001b[0m\n",
      "Training seconds: 285\n",
      "Billable seconds: 285\n"
     ]
    }
   ],
   "source": [
    "estimator.fit({'training': input_data})"
   ]
  },
  {
   "cell_type": "markdown",
   "metadata": {},
   "source": [
    "## Step 5: Testing the model\n",
    "\n",
    "As mentioned at the top of this notebook, we will be testing this model by first deploying it and then sending the testing data to the deployed endpoint. We will do this so that we can make sure that the deployed model is working correctly.\n",
    "\n",
    "## Step 6: Deploy the model for testing\n",
    "\n",
    "Now that we have trained our model, we would like to test it to see how it performs. Currently our model takes input of the form `review_length, review[500]` where `review[500]` is a sequence of `500` integers which describe the words present in the review, encoded using `word_dict`. Fortunately for us, SageMaker provides built-in inference code for models with simple inputs such as this.\n",
    "\n",
    "There is one thing that we need to provide, however, and that is a function which loads the saved model. This function must be called `model_fn()` and takes as its only parameter a path to the directory where the model artifacts are stored. This function must also be present in the python file which we specified as the entry point. In our case the model loading function has been provided and so no changes need to be made.\n",
    "\n",
    "**NOTE**: When the built-in inference code is run it must import the `model_fn()` method from the `train.py` file. This is why the training code is wrapped in a main guard ( ie, `if __name__ == '__main__':` )\n",
    "\n",
    "Since we don't need to change anything in the code that was uploaded during training, we can simply deploy the current model as-is.\n",
    "\n",
    "**NOTE:** When deploying a model you are asking SageMaker to launch an compute instance that will wait for data to be sent to it. As a result, this compute instance will continue to run until *you* shut it down. This is important to know since the cost of a deployed endpoint depends on how long it has been running for.\n",
    "\n",
    "In other words **If you are no longer using a deployed endpoint, shut it down!**\n",
    "\n",
    "**TODO:** Deploy the trained model."
   ]
  },
  {
   "cell_type": "code",
   "execution_count": 30,
   "metadata": {},
   "outputs": [
    {
     "name": "stderr",
     "output_type": "stream",
     "text": [
      "Parameter image will be renamed to image_uri in SageMaker Python SDK v2.\n",
      "'create_image_uri' will be deprecated in favor of 'ImageURIProvider' class in SageMaker Python SDK v2.\n"
     ]
    },
    {
     "name": "stdout",
     "output_type": "stream",
     "text": [
      "-----------------!"
     ]
    }
   ],
   "source": [
    "# TODO: Deploy the trained model\n",
    "predictor = estimator.deploy(initial_instance_count = 1, instance_type = 'ml.m4.xlarge')"
   ]
  },
  {
   "cell_type": "markdown",
   "metadata": {},
   "source": [
    "## Step 7 - Use the model for testing\n",
    "\n",
    "Once deployed, we can read in the test data and send it off to our deployed model to get some results. Once we collect all of the results we can determine how accurate our model is."
   ]
  },
  {
   "cell_type": "code",
   "execution_count": 31,
   "metadata": {},
   "outputs": [],
   "source": [
    "test_X = pd.concat([pd.DataFrame(test_X_len), pd.DataFrame(test_X)], axis=1)"
   ]
  },
  {
   "cell_type": "code",
   "execution_count": 32,
   "metadata": {},
   "outputs": [],
   "source": [
    "# We split the data into chunks and send each chunk seperately, accumulating the results.\n",
    "\n",
    "def predict(data, rows=512):\n",
    "    split_array = np.array_split(data, int(data.shape[0] / float(rows) + 1))\n",
    "    predictions = np.array([])\n",
    "    for array in split_array:\n",
    "        predictions = np.append(predictions, predictor.predict(array))\n",
    "    \n",
    "    return predictions"
   ]
  },
  {
   "cell_type": "code",
   "execution_count": 33,
   "metadata": {},
   "outputs": [],
   "source": [
    "predictions = predict(test_X.values)\n",
    "predictions = [round(num) for num in predictions]"
   ]
  },
  {
   "cell_type": "code",
   "execution_count": 34,
   "metadata": {},
   "outputs": [
    {
     "data": {
      "text/plain": [
       "0.85656"
      ]
     },
     "execution_count": 34,
     "metadata": {},
     "output_type": "execute_result"
    }
   ],
   "source": [
    "from sklearn.metrics import accuracy_score\n",
    "accuracy_score(test_y, predictions)"
   ]
  },
  {
   "cell_type": "markdown",
   "metadata": {},
   "source": [
    "**Question:** How does this model compare to the XGBoost model you created earlier? Why might these two models perform differently on this dataset? Which do *you* think is better for sentiment analysis?"
   ]
  },
  {
   "cell_type": "markdown",
   "metadata": {},
   "source": [
    "**Answer:**\n",
    "The way of deployment is the same but this model perform well than the XGBoost. The reasons could be the way of cleaning the data. And the network used is deeper."
   ]
  },
  {
   "cell_type": "markdown",
   "metadata": {},
   "source": [
    "### (TODO) More testing\n",
    "\n",
    "We now have a trained model which has been deployed and which we can send processed reviews to and which returns the predicted sentiment. However, ultimately we would like to be able to send our model an unprocessed review. That is, we would like to send the review itself as a string. For example, suppose we wish to send the following review to our model."
   ]
  },
  {
   "cell_type": "code",
   "execution_count": 35,
   "metadata": {},
   "outputs": [],
   "source": [
    "test_review = 'The simplest pleasures in life are the best, and this film is one of them. Combining a rather basic storyline of love and adventure this movie transcends the usual weekend fair with wit and unmitigated charm.'"
   ]
  },
  {
   "cell_type": "markdown",
   "metadata": {},
   "source": [
    "The question we now need to answer is, how do we send this review to our model?\n",
    "\n",
    "Recall in the first section of this notebook we did a bunch of data processing to the IMDb dataset. In particular, we did two specific things to the provided reviews.\n",
    " - Removed any html tags and stemmed the input\n",
    " - Encoded the review as a sequence of integers using `word_dict`\n",
    " \n",
    "In order process the review we will need to repeat these two steps.\n",
    "\n",
    "**TODO**: Using the `review_to_words` and `convert_and_pad` methods from section one, convert `test_review` into a numpy array `test_data` suitable to send to our model. Remember that our model expects input of the form `review_length, review[500]`."
   ]
  },
  {
   "cell_type": "code",
   "execution_count": 36,
   "metadata": {},
   "outputs": [],
   "source": [
    "# TODO: Convert test_review into a form usable by the model and save the results in test_data\n",
    "test_data, len_test  = convert_and_pad(word_dict, review_to_words(test_review))\n",
    "test_data = np.array([np.array([len_test] + test_data)])"
   ]
  },
  {
   "cell_type": "markdown",
   "metadata": {},
   "source": [
    "Now that we have processed the review, we can send the resulting array to our model to predict the sentiment of the review."
   ]
  },
  {
   "cell_type": "code",
   "execution_count": 37,
   "metadata": {},
   "outputs": [
    {
     "data": {
      "text/plain": [
       "array(0.9077313, dtype=float32)"
      ]
     },
     "execution_count": 37,
     "metadata": {},
     "output_type": "execute_result"
    }
   ],
   "source": [
    "predictor.predict(test_data)"
   ]
  },
  {
   "cell_type": "markdown",
   "metadata": {},
   "source": [
    "Since the return value of our model is close to `1`, we can be certain that the review we submitted is positive."
   ]
  },
  {
   "cell_type": "markdown",
   "metadata": {},
   "source": [
    "### Delete the endpoint\n",
    "\n",
    "Of course, just like in the XGBoost notebook, once we've deployed an endpoint it continues to run until we tell it to shut down. Since we are done using our endpoint for now, we can delete it."
   ]
  },
  {
   "cell_type": "code",
   "execution_count": 38,
   "metadata": {},
   "outputs": [
    {
     "name": "stderr",
     "output_type": "stream",
     "text": [
      "estimator.delete_endpoint() will be deprecated in SageMaker Python SDK v2. Please use the delete_endpoint() function on your predictor instead.\n"
     ]
    }
   ],
   "source": [
    "estimator.delete_endpoint()"
   ]
  },
  {
   "cell_type": "markdown",
   "metadata": {},
   "source": [
    "## Step 6 (again) - Deploy the model for the web app\n",
    "\n",
    "Now that we know that our model is working, it's time to create some custom inference code so that we can send the model a review which has not been processed and have it determine the sentiment of the review.\n",
    "\n",
    "As we saw above, by default the estimator which we created, when deployed, will use the entry script and directory which we provided when creating the model. However, since we now wish to accept a string as input and our model expects a processed review, we need to write some custom inference code.\n",
    "\n",
    "We will store the code that we write in the `serve` directory. Provided in this directory is the `model.py` file that we used to construct our model, a `utils.py` file which contains the `review_to_words` and `convert_and_pad` pre-processing functions which we used during the initial data processing, and `predict.py`, the file which will contain our custom inference code. Note also that `requirements.txt` is present which will tell SageMaker what Python libraries are required by our custom inference code.\n",
    "\n",
    "When deploying a PyTorch model in SageMaker, you are expected to provide four functions which the SageMaker inference container will use.\n",
    " - `model_fn`: This function is the same function that we used in the training script and it tells SageMaker how to load our model.\n",
    " - `input_fn`: This function receives the raw serialized input that has been sent to the model's endpoint and its job is to de-serialize and make the input available for the inference code.\n",
    " - `output_fn`: This function takes the output of the inference code and its job is to serialize this output and return it to the caller of the model's endpoint.\n",
    " - `predict_fn`: The heart of the inference script, this is where the actual prediction is done and is the function which you will need to complete.\n",
    "\n",
    "For the simple website that we are constructing during this project, the `input_fn` and `output_fn` methods are relatively straightforward. We only require being able to accept a string as input and we expect to return a single value as output. You might imagine though that in a more complex application the input or output may be image data or some other binary data which would require some effort to serialize.\n",
    "\n",
    "### (TODO) Writing inference code\n",
    "\n",
    "Before writing our custom inference code, we will begin by taking a look at the code which has been provided."
   ]
  },
  {
   "cell_type": "code",
   "execution_count": 39,
   "metadata": {},
   "outputs": [
    {
     "name": "stdout",
     "output_type": "stream",
     "text": [
      "\u001b[34mimport\u001b[39;49;00m \u001b[04m\u001b[36margparse\u001b[39;49;00m\r\n",
      "\u001b[34mimport\u001b[39;49;00m \u001b[04m\u001b[36mjson\u001b[39;49;00m\r\n",
      "\u001b[34mimport\u001b[39;49;00m \u001b[04m\u001b[36mos\u001b[39;49;00m\r\n",
      "\u001b[34mimport\u001b[39;49;00m \u001b[04m\u001b[36mpickle\u001b[39;49;00m\r\n",
      "\u001b[34mimport\u001b[39;49;00m \u001b[04m\u001b[36msys\u001b[39;49;00m\r\n",
      "\u001b[34mimport\u001b[39;49;00m \u001b[04m\u001b[36msagemaker_containers\u001b[39;49;00m\r\n",
      "\u001b[34mimport\u001b[39;49;00m \u001b[04m\u001b[36mpandas\u001b[39;49;00m \u001b[34mas\u001b[39;49;00m \u001b[04m\u001b[36mpd\u001b[39;49;00m\r\n",
      "\u001b[34mimport\u001b[39;49;00m \u001b[04m\u001b[36mnumpy\u001b[39;49;00m \u001b[34mas\u001b[39;49;00m \u001b[04m\u001b[36mnp\u001b[39;49;00m\r\n",
      "\u001b[34mimport\u001b[39;49;00m \u001b[04m\u001b[36mtorch\u001b[39;49;00m\r\n",
      "\u001b[34mimport\u001b[39;49;00m \u001b[04m\u001b[36mtorch\u001b[39;49;00m\u001b[04m\u001b[36m.\u001b[39;49;00m\u001b[04m\u001b[36mnn\u001b[39;49;00m \u001b[34mas\u001b[39;49;00m \u001b[04m\u001b[36mnn\u001b[39;49;00m\r\n",
      "\u001b[34mimport\u001b[39;49;00m \u001b[04m\u001b[36mtorch\u001b[39;49;00m\u001b[04m\u001b[36m.\u001b[39;49;00m\u001b[04m\u001b[36moptim\u001b[39;49;00m \u001b[34mas\u001b[39;49;00m \u001b[04m\u001b[36moptim\u001b[39;49;00m\r\n",
      "\u001b[34mimport\u001b[39;49;00m \u001b[04m\u001b[36mtorch\u001b[39;49;00m\u001b[04m\u001b[36m.\u001b[39;49;00m\u001b[04m\u001b[36mutils\u001b[39;49;00m\u001b[04m\u001b[36m.\u001b[39;49;00m\u001b[04m\u001b[36mdata\u001b[39;49;00m\r\n",
      "\r\n",
      "\u001b[34mfrom\u001b[39;49;00m \u001b[04m\u001b[36mmodel\u001b[39;49;00m \u001b[34mimport\u001b[39;49;00m LSTMClassifier\r\n",
      "\r\n",
      "\u001b[34mfrom\u001b[39;49;00m \u001b[04m\u001b[36mutils\u001b[39;49;00m \u001b[34mimport\u001b[39;49;00m review_to_words, convert_and_pad\r\n",
      "\r\n",
      "\u001b[34mdef\u001b[39;49;00m \u001b[32mmodel_fn\u001b[39;49;00m(model_dir):\r\n",
      "    \u001b[33m\"\"\"Load the PyTorch model from the `model_dir` directory.\"\"\"\u001b[39;49;00m\r\n",
      "    \u001b[36mprint\u001b[39;49;00m(\u001b[33m\"\u001b[39;49;00m\u001b[33mLoading model.\u001b[39;49;00m\u001b[33m\"\u001b[39;49;00m)\r\n",
      "\r\n",
      "    \u001b[37m# First, load the parameters used to create the model.\u001b[39;49;00m\r\n",
      "    model_info = {}\r\n",
      "    model_info_path = os.path.join(model_dir, \u001b[33m'\u001b[39;49;00m\u001b[33mmodel_info.pth\u001b[39;49;00m\u001b[33m'\u001b[39;49;00m)\r\n",
      "    \u001b[34mwith\u001b[39;49;00m \u001b[36mopen\u001b[39;49;00m(model_info_path, \u001b[33m'\u001b[39;49;00m\u001b[33mrb\u001b[39;49;00m\u001b[33m'\u001b[39;49;00m) \u001b[34mas\u001b[39;49;00m f:\r\n",
      "        model_info = torch.load(f)\r\n",
      "\r\n",
      "    \u001b[36mprint\u001b[39;49;00m(\u001b[33m\"\u001b[39;49;00m\u001b[33mmodel_info: \u001b[39;49;00m\u001b[33m{}\u001b[39;49;00m\u001b[33m\"\u001b[39;49;00m.format(model_info))\r\n",
      "\r\n",
      "    \u001b[37m# Determine the device and construct the model.\u001b[39;49;00m\r\n",
      "    device = torch.device(\u001b[33m\"\u001b[39;49;00m\u001b[33mcuda\u001b[39;49;00m\u001b[33m\"\u001b[39;49;00m \u001b[34mif\u001b[39;49;00m torch.cuda.is_available() \u001b[34melse\u001b[39;49;00m \u001b[33m\"\u001b[39;49;00m\u001b[33mcpu\u001b[39;49;00m\u001b[33m\"\u001b[39;49;00m)\r\n",
      "    model = LSTMClassifier(model_info[\u001b[33m'\u001b[39;49;00m\u001b[33membedding_dim\u001b[39;49;00m\u001b[33m'\u001b[39;49;00m], model_info[\u001b[33m'\u001b[39;49;00m\u001b[33mhidden_dim\u001b[39;49;00m\u001b[33m'\u001b[39;49;00m], model_info[\u001b[33m'\u001b[39;49;00m\u001b[33mvocab_size\u001b[39;49;00m\u001b[33m'\u001b[39;49;00m])\r\n",
      "\r\n",
      "    \u001b[37m# Load the store model parameters.\u001b[39;49;00m\r\n",
      "    model_path = os.path.join(model_dir, \u001b[33m'\u001b[39;49;00m\u001b[33mmodel.pth\u001b[39;49;00m\u001b[33m'\u001b[39;49;00m)\r\n",
      "    \u001b[34mwith\u001b[39;49;00m \u001b[36mopen\u001b[39;49;00m(model_path, \u001b[33m'\u001b[39;49;00m\u001b[33mrb\u001b[39;49;00m\u001b[33m'\u001b[39;49;00m) \u001b[34mas\u001b[39;49;00m f:\r\n",
      "        model.load_state_dict(torch.load(f))\r\n",
      "\r\n",
      "    \u001b[37m# Load the saved word_dict.\u001b[39;49;00m\r\n",
      "    word_dict_path = os.path.join(model_dir, \u001b[33m'\u001b[39;49;00m\u001b[33mword_dict.pkl\u001b[39;49;00m\u001b[33m'\u001b[39;49;00m)\r\n",
      "    \u001b[34mwith\u001b[39;49;00m \u001b[36mopen\u001b[39;49;00m(word_dict_path, \u001b[33m'\u001b[39;49;00m\u001b[33mrb\u001b[39;49;00m\u001b[33m'\u001b[39;49;00m) \u001b[34mas\u001b[39;49;00m f:\r\n",
      "        model.word_dict = pickle.load(f)\r\n",
      "\r\n",
      "    model.to(device).eval()\r\n",
      "\r\n",
      "    \u001b[36mprint\u001b[39;49;00m(\u001b[33m\"\u001b[39;49;00m\u001b[33mDone loading model.\u001b[39;49;00m\u001b[33m\"\u001b[39;49;00m)\r\n",
      "    \u001b[34mreturn\u001b[39;49;00m model\r\n",
      "\r\n",
      "\u001b[34mdef\u001b[39;49;00m \u001b[32minput_fn\u001b[39;49;00m(serialized_input_data, content_type):\r\n",
      "    \u001b[36mprint\u001b[39;49;00m(\u001b[33m'\u001b[39;49;00m\u001b[33mDeserializing the input data.\u001b[39;49;00m\u001b[33m'\u001b[39;49;00m)\r\n",
      "    \u001b[34mif\u001b[39;49;00m content_type == \u001b[33m'\u001b[39;49;00m\u001b[33mtext/plain\u001b[39;49;00m\u001b[33m'\u001b[39;49;00m:\r\n",
      "        data = serialized_input_data.decode(\u001b[33m'\u001b[39;49;00m\u001b[33mutf-8\u001b[39;49;00m\u001b[33m'\u001b[39;49;00m)\r\n",
      "        \u001b[34mreturn\u001b[39;49;00m data\r\n",
      "    \u001b[34mraise\u001b[39;49;00m \u001b[36mException\u001b[39;49;00m(\u001b[33m'\u001b[39;49;00m\u001b[33mRequested unsupported ContentType in content_type: \u001b[39;49;00m\u001b[33m'\u001b[39;49;00m + content_type)\r\n",
      "\r\n",
      "\u001b[34mdef\u001b[39;49;00m \u001b[32moutput_fn\u001b[39;49;00m(prediction_output, accept):\r\n",
      "    \u001b[36mprint\u001b[39;49;00m(\u001b[33m'\u001b[39;49;00m\u001b[33mSerializing the generated output.\u001b[39;49;00m\u001b[33m'\u001b[39;49;00m)\r\n",
      "    \u001b[34mreturn\u001b[39;49;00m \u001b[36mstr\u001b[39;49;00m(prediction_output)\r\n",
      "\r\n",
      "\u001b[34mdef\u001b[39;49;00m \u001b[32mpredict_fn\u001b[39;49;00m(input_data, model):\r\n",
      "    \u001b[36mprint\u001b[39;49;00m(\u001b[33m'\u001b[39;49;00m\u001b[33mInferring sentiment of input data.\u001b[39;49;00m\u001b[33m'\u001b[39;49;00m)\r\n",
      "\r\n",
      "    device = torch.device(\u001b[33m\"\u001b[39;49;00m\u001b[33mcuda\u001b[39;49;00m\u001b[33m\"\u001b[39;49;00m \u001b[34mif\u001b[39;49;00m torch.cuda.is_available() \u001b[34melse\u001b[39;49;00m \u001b[33m\"\u001b[39;49;00m\u001b[33mcpu\u001b[39;49;00m\u001b[33m\"\u001b[39;49;00m)\r\n",
      "    \r\n",
      "    \u001b[34mif\u001b[39;49;00m model.word_dict \u001b[35mis\u001b[39;49;00m \u001b[34mNone\u001b[39;49;00m:\r\n",
      "        \u001b[34mraise\u001b[39;49;00m \u001b[36mException\u001b[39;49;00m(\u001b[33m'\u001b[39;49;00m\u001b[33mModel has not been loaded properly, no word_dict.\u001b[39;49;00m\u001b[33m'\u001b[39;49;00m)\r\n",
      "    \r\n",
      "    \u001b[37m# TODO: Process input_data so that it is ready to be sent to our model.\u001b[39;49;00m\r\n",
      "    \u001b[37m#       You should produce two variables:\u001b[39;49;00m\r\n",
      "    \u001b[37m#         data_X   - A sequence of length 500 which represents the converted review\u001b[39;49;00m\r\n",
      "    \u001b[37m#         data_len - The length of the review\u001b[39;49;00m\r\n",
      "    input_data_cleaned = review_to_words(input_data)\r\n",
      "    data_X, data_len = convert_and_pad(model.word_dict, input_data_cleaned)\r\n",
      "\r\n",
      "    \u001b[37m# Using data_X and data_len we construct an appropriate input tensor. Remember\u001b[39;49;00m\r\n",
      "    \u001b[37m# that our model expects input data of the form 'len, review[500]'.\u001b[39;49;00m\r\n",
      "    data_pack = np.hstack((data_len, data_X))\r\n",
      "    data_pack = data_pack.reshape(\u001b[34m1\u001b[39;49;00m, -\u001b[34m1\u001b[39;49;00m)\r\n",
      "    \r\n",
      "    data = torch.from_numpy(data_pack)\r\n",
      "    data = data.to(device)\r\n",
      "\r\n",
      "    \u001b[37m# Make sure to put the model into evaluation mode\u001b[39;49;00m\r\n",
      "    model.eval()\r\n",
      "\r\n",
      "    \u001b[37m# TODO: Compute the result of applying the model to the input data. The variable `result` should\u001b[39;49;00m\r\n",
      "    \u001b[37m#       be a numpy array which contains a single integer which is either 1 or 0\u001b[39;49;00m\r\n",
      "    \u001b[37m#redictions = predict(test_X)\u001b[39;49;00m\r\n",
      "    \u001b[37m#predictions = [round(num) for num in predictions]\u001b[39;49;00m\r\n",
      "    \u001b[34mwith\u001b[39;49;00m torch.no_grad():\r\n",
      "        output = model(data)\r\n",
      "    result = np.round(output.numpy())\r\n",
      "\r\n",
      "    \u001b[34mreturn\u001b[39;49;00m result\r\n"
     ]
    }
   ],
   "source": [
    "!pygmentize serve/predict.py"
   ]
  },
  {
   "cell_type": "markdown",
   "metadata": {},
   "source": [
    "As mentioned earlier, the `model_fn` method is the same as the one provided in the training code and the `input_fn` and `output_fn` methods are very simple and your task will be to complete the `predict_fn` method. Make sure that you save the completed file as `predict.py` in the `serve` directory.\n",
    "\n",
    "**TODO**: Complete the `predict_fn()` method in the `serve/predict.py` file."
   ]
  },
  {
   "cell_type": "markdown",
   "metadata": {},
   "source": [
    "### Deploying the model\n",
    "\n",
    "Now that the custom inference code has been written, we will create and deploy our model. To begin with, we need to construct a new PyTorchModel object which points to the model artifacts created during training and also points to the inference code that we wish to use. Then we can call the deploy method to launch the deployment container.\n",
    "\n",
    "**NOTE**: The default behaviour for a deployed PyTorch model is to assume that any input passed to the predictor is a `numpy` array. In our case we want to send a string so we need to construct a simple wrapper around the `RealTimePredictor` class to accomodate simple strings. In a more complicated situation you may want to provide a serialization object, for example if you wanted to sent image data."
   ]
  },
  {
   "cell_type": "code",
   "execution_count": 47,
   "metadata": {},
   "outputs": [
    {
     "data": {
      "text/plain": [
       "'s3://sagemaker-us-east-1-439153323123/sagemaker-pytorch-2021-07-28-06-09-03-799/output/model.tar.gz'"
      ]
     },
     "execution_count": 47,
     "metadata": {},
     "output_type": "execute_result"
    }
   ],
   "source": [
    "model_data = estimator.model_data\n",
    "model_data"
   ]
  },
  {
   "cell_type": "code",
   "execution_count": 48,
   "metadata": {},
   "outputs": [
    {
     "name": "stderr",
     "output_type": "stream",
     "text": [
      "Parameter image will be renamed to image_uri in SageMaker Python SDK v2.\n",
      "'create_image_uri' will be deprecated in favor of 'ImageURIProvider' class in SageMaker Python SDK v2.\n"
     ]
    },
    {
     "name": "stdout",
     "output_type": "stream",
     "text": [
      "---------------!"
     ]
    }
   ],
   "source": [
    "from sagemaker.predictor import RealTimePredictor\n",
    "from sagemaker.pytorch import PyTorchModel\n",
    "\n",
    "class StringPredictor(RealTimePredictor):\n",
    "    def __init__(self, endpoint_name, sagemaker_session):\n",
    "        super(StringPredictor, self).__init__(endpoint_name, sagemaker_session, content_type='text/plain')\n",
    "\n",
    "model = PyTorchModel(model_data=model_data,\n",
    "                     role = role,\n",
    "                     framework_version='0.4.0',\n",
    "                     entry_point='predict.py',\n",
    "                     source_dir='serve',\n",
    "                     predictor_cls=StringPredictor)\n",
    "predictor = model.deploy(initial_instance_count=1, instance_type='ml.m4.xlarge')"
   ]
  },
  {
   "cell_type": "markdown",
   "metadata": {},
   "source": [
    "### Testing the model\n",
    "\n",
    "Now that we have deployed our model with the custom inference code, we should test to see if everything is working. Here we test our model by loading the first `250` positive and negative reviews and send them to the endpoint, then collect the results. The reason for only sending some of the data is that the amount of time it takes for our model to process the input and then perform inference is quite long and so testing the entire data set would be prohibitive."
   ]
  },
  {
   "cell_type": "code",
   "execution_count": 49,
   "metadata": {},
   "outputs": [],
   "source": [
    "import glob\n",
    "\n",
    "def test_reviews(data_dir='../data/aclImdb', stop=250):\n",
    "    \n",
    "    results = []\n",
    "    ground = []\n",
    "    \n",
    "    # We make sure to test both positive and negative reviews    \n",
    "    for sentiment in ['pos', 'neg']:\n",
    "        \n",
    "        path = os.path.join(data_dir, 'test', sentiment, '*.txt')\n",
    "        files = glob.glob(path)\n",
    "        \n",
    "        files_read = 0\n",
    "        \n",
    "        print('Starting ', sentiment, ' files')\n",
    "        \n",
    "        # Iterate through the files and send them to the predictor\n",
    "        for f in files:\n",
    "            with open(f) as review:\n",
    "                # First, we store the ground truth (was the review positive or negative)\n",
    "                if sentiment == 'pos':\n",
    "                    ground.append(1)\n",
    "                else:\n",
    "                    ground.append(0)\n",
    "                # Read in the review and convert to 'utf-8' for transmission via HTTP\n",
    "                review_input = review.read().encode('utf-8')\n",
    "                # Send the review to the predictor and store the results\n",
    "                results.append(float(predictor.predict(review_input)))\n",
    "                \n",
    "            # Sending reviews to our endpoint one at a time takes a while so we\n",
    "            # only send a small number of reviews\n",
    "            files_read += 1\n",
    "            if files_read == stop:\n",
    "                break\n",
    "            \n",
    "    return ground, results"
   ]
  },
  {
   "cell_type": "code",
   "execution_count": 50,
   "metadata": {},
   "outputs": [
    {
     "name": "stdout",
     "output_type": "stream",
     "text": [
      "Starting  pos  files\n",
      "Starting  neg  files\n"
     ]
    }
   ],
   "source": [
    "ground, results = test_reviews()"
   ]
  },
  {
   "cell_type": "code",
   "execution_count": 51,
   "metadata": {},
   "outputs": [
    {
     "data": {
      "text/plain": [
       "0.864"
      ]
     },
     "execution_count": 51,
     "metadata": {},
     "output_type": "execute_result"
    }
   ],
   "source": [
    "from sklearn.metrics import accuracy_score\n",
    "accuracy_score(ground, results)"
   ]
  },
  {
   "cell_type": "markdown",
   "metadata": {},
   "source": [
    "As an additional test, we can try sending the `test_review` that we looked at earlier."
   ]
  },
  {
   "cell_type": "code",
   "execution_count": 52,
   "metadata": {},
   "outputs": [
    {
     "data": {
      "text/plain": [
       "b'1.0'"
      ]
     },
     "execution_count": 52,
     "metadata": {},
     "output_type": "execute_result"
    }
   ],
   "source": [
    "predictor.predict(test_review)"
   ]
  },
  {
   "cell_type": "markdown",
   "metadata": {},
   "source": [
    "Now that we know our endpoint is working as expected, we can set up the web page that will interact with it. If you don't have time to finish the project now, make sure to skip down to the end of this notebook and shut down your endpoint. You can deploy it again when you come back."
   ]
  },
  {
   "cell_type": "markdown",
   "metadata": {},
   "source": [
    "## Step 7 (again): Use the model for the web app\n",
    "\n",
    "> **TODO:** This entire section and the next contain tasks for you to complete, mostly using the AWS console.\n",
    "\n",
    "So far we have been accessing our model endpoint by constructing a predictor object which uses the endpoint and then just using the predictor object to perform inference. What if we wanted to create a web app which accessed our model? The way things are set up currently makes that not possible since in order to access a SageMaker endpoint the app would first have to authenticate with AWS using an IAM role which included access to SageMaker endpoints. However, there is an easier way! We just need to use some additional AWS services.\n",
    "\n",
    "<img src=\"Web App Diagram.svg\">\n",
    "\n",
    "The diagram above gives an overview of how the various services will work together. On the far right is the model which we trained above and which is deployed using SageMaker. On the far left is our web app that collects a user's movie review, sends it off and expects a positive or negative sentiment in return.\n",
    "\n",
    "In the middle is where some of the magic happens. We will construct a Lambda function, which you can think of as a straightforward Python function that can be executed whenever a specified event occurs. We will give this function permission to send and recieve data from a SageMaker endpoint.\n",
    "\n",
    "Lastly, the method we will use to execute the Lambda function is a new endpoint that we will create using API Gateway. This endpoint will be a url that listens for data to be sent to it. Once it gets some data it will pass that data on to the Lambda function and then return whatever the Lambda function returns. Essentially it will act as an interface that lets our web app communicate with the Lambda function.\n",
    "\n",
    "### Setting up a Lambda function\n",
    "\n",
    "The first thing we are going to do is set up a Lambda function. This Lambda function will be executed whenever our public API has data sent to it. When it is executed it will receive the data, perform any sort of processing that is required, send the data (the review) to the SageMaker endpoint we've created and then return the result.\n",
    "\n",
    "#### Part A: Create an IAM Role for the Lambda function\n",
    "\n",
    "Since we want the Lambda function to call a SageMaker endpoint, we need to make sure that it has permission to do so. To do this, we will construct a role that we can later give the Lambda function.\n",
    "\n",
    "Using the AWS Console, navigate to the **IAM** page and click on **Roles**. Then, click on **Create role**. Make sure that the **AWS service** is the type of trusted entity selected and choose **Lambda** as the service that will use this role, then click **Next: Permissions**.\n",
    "\n",
    "In the search box type `sagemaker` and select the check box next to the **AmazonSageMakerFullAccess** policy. Then, click on **Next: Review**.\n",
    "\n",
    "Lastly, give this role a name. Make sure you use a name that you will remember later on, for example `LambdaSageMakerRole`. Then, click on **Create role**.\n",
    "\n",
    "#### Part B: Create a Lambda function\n",
    "\n",
    "Now it is time to actually create the Lambda function.\n",
    "\n",
    "Using the AWS Console, navigate to the AWS Lambda page and click on **Create a function**. When you get to the next page, make sure that **Author from scratch** is selected. Now, name your Lambda function, using a name that you will remember later on, for example `sentiment_analysis_func`. Make sure that the **Python 3.6** runtime is selected and then choose the role that you created in the previous part. Then, click on **Create Function**.\n",
    "\n",
    "On the next page you will see some information about the Lambda function you've just created. If you scroll down you should see an editor in which you can write the code that will be executed when your Lambda function is triggered. In our example, we will use the code below. \n",
    "\n",
    "```python\n",
    "# We need to use the low-level library to interact with SageMaker since the SageMaker API\n",
    "# is not available natively through Lambda.\n",
    "import boto3\n",
    "\n",
    "def lambda_handler(event, context):\n",
    "\n",
    "    # The SageMaker runtime is what allows us to invoke the endpoint that we've created.\n",
    "    runtime = boto3.Session().client('sagemaker-runtime')\n",
    "\n",
    "    # Now we use the SageMaker runtime to invoke our endpoint, sending the review we were given\n",
    "    response = runtime.invoke_endpoint(EndpointName = '**ENDPOINT NAME HERE**',    # The name of the endpoint we created\n",
    "                                       ContentType = 'text/plain',                 # The data format that is expected\n",
    "                                       Body = event['body'])                       # The actual review\n",
    "\n",
    "    # The response is an HTTP response whose body contains the result of our inference\n",
    "    result = response['Body'].read().decode('utf-8')\n",
    "\n",
    "    return {\n",
    "        'statusCode' : 200,\n",
    "        'headers' : { 'Content-Type' : 'text/plain', 'Access-Control-Allow-Origin' : '*' },\n",
    "        'body' : result\n",
    "    }\n",
    "```\n",
    "\n",
    "Once you have copy and pasted the code above into the Lambda code editor, replace the `**ENDPOINT NAME HERE**` portion with the name of the endpoint that we deployed earlier. You can determine the name of the endpoint using the code cell below."
   ]
  },
  {
   "cell_type": "code",
   "execution_count": 53,
   "metadata": {},
   "outputs": [
    {
     "data": {
      "text/plain": [
       "'sagemaker-pytorch-2021-07-28-06-49-05-439'"
      ]
     },
     "execution_count": 53,
     "metadata": {},
     "output_type": "execute_result"
    }
   ],
   "source": [
    "predictor.endpoint"
   ]
  },
  {
   "cell_type": "markdown",
   "metadata": {},
   "source": [
    "Once you have added the endpoint name to the Lambda function, click on **Save**. Your Lambda function is now up and running. Next we need to create a way for our web app to execute the Lambda function.\n",
    "\n",
    "### Setting up API Gateway\n",
    "\n",
    "Now that our Lambda function is set up, it is time to create a new API using API Gateway that will trigger the Lambda function we have just created.\n",
    "\n",
    "Using AWS Console, navigate to **Amazon API Gateway** and then click on **Get started**.\n",
    "\n",
    "On the next page, make sure that **New API** is selected and give the new api a name, for example, `sentiment_analysis_api`. Then, click on **Create API**.\n",
    "\n",
    "Now we have created an API, however it doesn't currently do anything. What we want it to do is to trigger the Lambda function that we created earlier.\n",
    "\n",
    "Select the **Actions** dropdown menu and click **Create Method**. A new blank method will be created, select its dropdown menu and select **POST**, then click on the check mark beside it.\n",
    "\n",
    "For the integration point, make sure that **Lambda Function** is selected and click on the **Use Lambda Proxy integration**. This option makes sure that the data that is sent to the API is then sent directly to the Lambda function with no processing. It also means that the return value must be a proper response object as it will also not be processed by API Gateway.\n",
    "\n",
    "Type the name of the Lambda function you created earlier into the **Lambda Function** text entry box and then click on **Save**. Click on **OK** in the pop-up box that then appears, giving permission to API Gateway to invoke the Lambda function you created.\n",
    "\n",
    "The last step in creating the API Gateway is to select the **Actions** dropdown and click on **Deploy API**. You will need to create a new Deployment stage and name it anything you like, for example `prod`.\n",
    "\n",
    "You have now successfully set up a public API to access your SageMaker model. Make sure to copy or write down the URL provided to invoke your newly created public API as this will be needed in the next step. This URL can be found at the top of the page, highlighted in blue next to the text **Invoke URL**."
   ]
  },
  {
   "cell_type": "markdown",
   "metadata": {},
   "source": [
    "## Step 4: Deploying our web app\n",
    "\n",
    "Now that we have a publicly available API, we can start using it in a web app. For our purposes, we have provided a simple static html file which can make use of the public api you created earlier.\n",
    "\n",
    "In the `website` folder there should be a file called `index.html`. Download the file to your computer and open that file up in a text editor of your choice. There should be a line which contains **\\*\\*REPLACE WITH PUBLIC API URL\\*\\***. Replace this string with the url that you wrote down in the last step and then save the file.\n",
    "\n",
    "Now, if you open `index.html` on your local computer, your browser will behave as a local web server and you can use the provided site to interact with your SageMaker model.\n",
    "\n",
    "If you'd like to go further, you can host this html file anywhere you'd like, for example using github or hosting a static site on Amazon's S3. Once you have done this you can share the link with anyone you'd like and have them play with it too!\n",
    "\n",
    "> **Important Note** In order for the web app to communicate with the SageMaker endpoint, the endpoint has to actually be deployed and running. This means that you are paying for it. Make sure that the endpoint is running when you want to use the web app but that you shut it down when you don't need it, otherwise you will end up with a surprisingly large AWS bill.\n",
    "\n",
    "**TODO:** Make sure that you include the edited `index.html` file in your project submission."
   ]
  },
  {
   "cell_type": "markdown",
   "metadata": {},
   "source": [
    "Now that your web app is working, trying playing around with it and see how well it works.\n",
    "\n",
    "**Question**: Give an example of a review that you entered into your web app. What was the predicted sentiment of your example review?"
   ]
  },
  {
   "cell_type": "markdown",
   "metadata": {},
   "source": [
    "**Answer:**\n",
    "\"would love to have you again!\" - Positive"
   ]
  },
  {
   "cell_type": "markdown",
   "metadata": {},
   "source": [
    "### Delete the endpoint\n",
    "\n",
    "Remember to always shut down your endpoint if you are no longer using it. You are charged for the length of time that the endpoint is running so if you forget and leave it on you could end up with an unexpectedly large bill."
   ]
  },
  {
   "cell_type": "code",
   "execution_count": null,
   "metadata": {},
   "outputs": [],
   "source": [
    "#predictor.delete_endpoint()"
   ]
  },
  {
   "cell_type": "code",
   "execution_count": null,
   "metadata": {},
   "outputs": [],
   "source": []
  }
 ],
 "metadata": {
  "kernelspec": {
   "display_name": "conda_pytorch_p36",
   "language": "python",
   "name": "conda_pytorch_p36"
  },
  "language_info": {
   "codemirror_mode": {
    "name": "ipython",
    "version": 3
   },
   "file_extension": ".py",
   "mimetype": "text/x-python",
   "name": "python",
   "nbconvert_exporter": "python",
   "pygments_lexer": "ipython3",
   "version": "3.6.13"
  }
 },
 "nbformat": 4,
 "nbformat_minor": 4
}
